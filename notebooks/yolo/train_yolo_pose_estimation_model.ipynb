{
  "cells": [
    {
      "cell_type": "markdown",
      "metadata": {
        "id": "view-in-github",
        "colab_type": "text"
      },
      "source": [
        "<a href=\"https://colab.research.google.com/github/pcashman21/feral-cat-census/blob/main/notebooks/yolo/train_yolo_pose_estimation_model.ipynb\" target=\"_parent\"><img src=\"https://colab.research.google.com/assets/colab-badge.svg\" alt=\"Open In Colab\"/></a>"
      ]
    },
    {
      "cell_type": "markdown",
      "metadata": {
        "id": "HU4MHdgcHEZL"
      },
      "source": [
        "This notebook"
      ]
    },
    {
      "cell_type": "code",
      "execution_count": 1,
      "metadata": {
        "id": "1agbAnLiVKCJ"
      },
      "outputs": [],
      "source": [
        "!mkdir data3"
      ]
    },
    {
      "cell_type": "code",
      "execution_count": 2,
      "metadata": {
        "id": "lGmJbqSCVbYa",
        "collapsed": true,
        "outputId": "5400da29-ea6e-4504-90f0-9097e4dc8d8e",
        "colab": {
          "base_uri": "https://localhost:8080/"
        }
      },
      "outputs": [
        {
          "output_type": "stream",
          "name": "stdout",
          "text": [
            "Archive:  feral-cat-pose-detection-7.v2i.yolov8.zip\n",
            "  inflating: README.dataset.txt      \n",
            "  inflating: README.roboflow.txt     \n",
            "  inflating: data.yaml               \n",
            "   creating: test/\n",
            "   creating: test/images/\n",
            " extracting: test/images/group0002_jpeg_cat-0_png.rf.691f3f3b3c57aa2fca7d370494eb83c2.jpg  \n",
            " extracting: test/images/group0002_jpeg_cat-5_png.rf.d0b5e81ce12ca477ef49c5b8db7dabe2.jpg  \n",
            " extracting: test/images/group0002_jpeg_cat-7_png.rf.e7f0105781ec303356b3a96706936ddf.jpg  \n",
            " extracting: test/images/group0053_jpeg_cat-3_png.rf.032ee371927293ebe5a3c30298d77912.jpg  \n",
            " extracting: test/images/group0058_jpeg_cat-1_png.rf.7f289fa99dec3036b7aef78f1638a068.jpg  \n",
            " extracting: test/images/group0099_jpeg_cat-0_png.rf.e80c1e0b592e511dc90fe031ae570a13.jpg  \n",
            " extracting: test/images/group0103_jpeg_cat-0_png.rf.17bcfe83ff52514f121e31665e7393f9.jpg  \n",
            " extracting: test/images/group0107_png_cat-3_png.rf.c1e365cd6b66642b1cc297b47b151323.jpg  \n",
            " extracting: test/images/group0127_jpeg_cat-2_png.rf.c6fa737adbe0ed270e0998d2e8106515.jpg  \n",
            " extracting: test/images/group0142_jpeg_cat-3_png.rf.610c05e92da11d492caf1e4e72f2f974.jpg  \n",
            " extracting: test/images/group0146_cat-1_png.rf.8cfb4f10b372efecd4c706c618f040b8.jpg  \n",
            " extracting: test/images/group0202_jpeg_cat-0_png.rf.8c5ce62ca7f71aa8545d182c278b8c0f.jpg  \n",
            " extracting: test/images/group0208_jpeg_cat-1_png.rf.5f83c3bff4f6cb2bd5cc16c2091de7f9.jpg  \n",
            " extracting: test/images/group0255_cat-0_png.rf.f9a4e915b7a84b14a3860a4ad11bb366.jpg  \n",
            " extracting: test/images/group0266_jpeg_cat-0_png.rf.d9b7aaf9ebf3562577e874b07fbe3269.jpg  \n",
            " extracting: test/images/group0278_cat-1_png.rf.c8c94e9507e1900392ec33face08ef76.jpg  \n",
            " extracting: test/images/group0287_jpeg_cat-2_png.rf.9e0df12b9456585edc8ebbfd9fb9d8d7.jpg  \n",
            " extracting: test/images/group0294_jpeg_cat-1_png.rf.f876cd49f6a5077c16a98a76a73d2a94.jpg  \n",
            " extracting: test/images/group0317_jpeg_cat-0_png.rf.af7fbe4307d11a367c04f501257d58bf.jpg  \n",
            " extracting: test/images/group0319_png_cat-0_png.rf.e1bdfdef13e157faec31f4e0eadd9a44.jpg  \n",
            " extracting: test/images/group0362_cat-2_png.rf.dfde30d2efe883ed2927fe36aafae587.jpg  \n",
            " extracting: test/images/group0364_png_cat-2_png.rf.88d061d75adbc58994f3b949e79b0b49.jpg  \n",
            " extracting: test/images/group0413_jpeg_cat-0_png.rf.1ff6c48415271478acd22502d8e463ad.jpg  \n",
            " extracting: test/images/group0436_cat-3_png.rf.4d8853846a339f5176d6000b30eb38e7.jpg  \n",
            " extracting: test/images/group0768_jpeg_cat-1_png.rf.86f2fddfbe404cdac311f25bd82bc6d8.jpg  \n",
            " extracting: test/images/group0801_jpeg_cat-0_png.rf.6752fa0b7c2a7abc2234bf9d4ff7ca0f.jpg  \n",
            " extracting: test/images/group0811_cat-12_png.rf.d744e9c89032e217c3c24fe1bcbf3534.jpg  \n",
            " extracting: test/images/group0815_jpeg_cat-1_png.rf.ebea05f2bd0ca9e98b063f0cdcde6a2f.jpg  \n",
            " extracting: test/images/group1076_cat-0_png.rf.dc5a2170072b03217d04dab9979c381d.jpg  \n",
            " extracting: test/images/group1091_jpeg_cat-1_png.rf.b89eff13af3adc56c85c7acd99562243.jpg  \n",
            "   creating: test/labels/\n",
            "  inflating: test/labels/group0002_jpeg_cat-0_png.rf.691f3f3b3c57aa2fca7d370494eb83c2.txt  \n",
            "  inflating: test/labels/group0002_jpeg_cat-5_png.rf.d0b5e81ce12ca477ef49c5b8db7dabe2.txt  \n",
            "  inflating: test/labels/group0002_jpeg_cat-7_png.rf.e7f0105781ec303356b3a96706936ddf.txt  \n",
            "  inflating: test/labels/group0053_jpeg_cat-3_png.rf.032ee371927293ebe5a3c30298d77912.txt  \n",
            "  inflating: test/labels/group0058_jpeg_cat-1_png.rf.7f289fa99dec3036b7aef78f1638a068.txt  \n",
            "  inflating: test/labels/group0099_jpeg_cat-0_png.rf.e80c1e0b592e511dc90fe031ae570a13.txt  \n",
            "  inflating: test/labels/group0103_jpeg_cat-0_png.rf.17bcfe83ff52514f121e31665e7393f9.txt  \n",
            "  inflating: test/labels/group0107_png_cat-3_png.rf.c1e365cd6b66642b1cc297b47b151323.txt  \n",
            "  inflating: test/labels/group0127_jpeg_cat-2_png.rf.c6fa737adbe0ed270e0998d2e8106515.txt  \n",
            "  inflating: test/labels/group0142_jpeg_cat-3_png.rf.610c05e92da11d492caf1e4e72f2f974.txt  \n",
            "  inflating: test/labels/group0146_cat-1_png.rf.8cfb4f10b372efecd4c706c618f040b8.txt  \n",
            "  inflating: test/labels/group0202_jpeg_cat-0_png.rf.8c5ce62ca7f71aa8545d182c278b8c0f.txt  \n",
            "  inflating: test/labels/group0208_jpeg_cat-1_png.rf.5f83c3bff4f6cb2bd5cc16c2091de7f9.txt  \n",
            "  inflating: test/labels/group0255_cat-0_png.rf.f9a4e915b7a84b14a3860a4ad11bb366.txt  \n",
            "  inflating: test/labels/group0266_jpeg_cat-0_png.rf.d9b7aaf9ebf3562577e874b07fbe3269.txt  \n",
            "  inflating: test/labels/group0278_cat-1_png.rf.c8c94e9507e1900392ec33face08ef76.txt  \n",
            "  inflating: test/labels/group0287_jpeg_cat-2_png.rf.9e0df12b9456585edc8ebbfd9fb9d8d7.txt  \n",
            "  inflating: test/labels/group0294_jpeg_cat-1_png.rf.f876cd49f6a5077c16a98a76a73d2a94.txt  \n",
            "  inflating: test/labels/group0317_jpeg_cat-0_png.rf.af7fbe4307d11a367c04f501257d58bf.txt  \n",
            "  inflating: test/labels/group0319_png_cat-0_png.rf.e1bdfdef13e157faec31f4e0eadd9a44.txt  \n",
            "  inflating: test/labels/group0362_cat-2_png.rf.dfde30d2efe883ed2927fe36aafae587.txt  \n",
            "  inflating: test/labels/group0364_png_cat-2_png.rf.88d061d75adbc58994f3b949e79b0b49.txt  \n",
            "  inflating: test/labels/group0413_jpeg_cat-0_png.rf.1ff6c48415271478acd22502d8e463ad.txt  \n",
            "  inflating: test/labels/group0436_cat-3_png.rf.4d8853846a339f5176d6000b30eb38e7.txt  \n",
            "  inflating: test/labels/group0768_jpeg_cat-1_png.rf.86f2fddfbe404cdac311f25bd82bc6d8.txt  \n",
            "  inflating: test/labels/group0801_jpeg_cat-0_png.rf.6752fa0b7c2a7abc2234bf9d4ff7ca0f.txt  \n",
            "  inflating: test/labels/group0811_cat-12_png.rf.d744e9c89032e217c3c24fe1bcbf3534.txt  \n",
            "  inflating: test/labels/group0815_jpeg_cat-1_png.rf.ebea05f2bd0ca9e98b063f0cdcde6a2f.txt  \n",
            "  inflating: test/labels/group1076_cat-0_png.rf.dc5a2170072b03217d04dab9979c381d.txt  \n",
            "  inflating: test/labels/group1091_jpeg_cat-1_png.rf.b89eff13af3adc56c85c7acd99562243.txt  \n",
            "   creating: train/\n",
            "   creating: train/images/\n",
            " extracting: train/images/group0002_jpeg_cat-1_png.rf.c6143039e2fb105ac738ba3421959c40.jpg  \n",
            " extracting: train/images/group0002_jpeg_cat-2_png.rf.45b6ba29da8bb6b7c92e1043e5bebaf0.jpg  \n",
            " extracting: train/images/group0002_jpeg_cat-3_png.rf.f69f566476cade8c421f4375feea0737.jpg  \n",
            " extracting: train/images/group0002_jpeg_cat-4_png.rf.c6b781737cc5a0d8be18edf469f524df.jpg  \n",
            " extracting: train/images/group0002_jpeg_cat-6_png.rf.afabf12007008bd412b5024fc5dd5a74.jpg  \n",
            " extracting: train/images/group0003_jpeg_cat-5_png.rf.48de2a296775608e6ac245b2ad6c600d.jpg  \n",
            " extracting: train/images/group0004_jpeg_cat-0_png.rf.0737b3c0dbe7a3f11281fe46920ed603.jpg  \n",
            " extracting: train/images/group0004_jpeg_cat-1_png.rf.78a1701666421552c203bcfa07ef6998.jpg  \n",
            " extracting: train/images/group0004_jpeg_cat-2_png.rf.2a9aab1a7b925bf93d1ddcfa3abd8080.jpg  \n",
            " extracting: train/images/group0005_jpeg_cat-2_png.rf.87747b0461cbe1a0f5de73ffe901eda9.jpg  \n",
            " extracting: train/images/group0006_jpeg_cat-1_png.rf.f96b2ff5a3858134d75c79297f753135.jpg  \n",
            " extracting: train/images/group0007_jpeg_cat-0_png.rf.cdb61f9ca91f86fe54eb19e54fc3c844.jpg  \n",
            " extracting: train/images/group0009_jpeg_cat-1_png.rf.da23dad090f0413511de3f1cb1d687f3.jpg  \n",
            " extracting: train/images/group0012_jpeg_cat-0_png.rf.2bfede59b288fe89d14029161840b7e5.jpg  \n",
            " extracting: train/images/group0017_jpeg_cat-2_png.rf.983eec166ae759cd2a51a4b2e7a31b5d.jpg  \n",
            " extracting: train/images/group0020_jpeg_cat-0_png.rf.f3e00c9d103994f761441cdf877b5c29.jpg  \n",
            " extracting: train/images/group0020_jpeg_cat-1_png.rf.da24875a260d86e19ebf70d484a96b3c.jpg  \n",
            " extracting: train/images/group0021_jpeg_cat-0_png.rf.1643ae7167307276da8e3fdf91440533.jpg  \n",
            " extracting: train/images/group0026_cat-1_png.rf.940f2dbf49a0191ce600b7489a7c1981.jpg  \n",
            " extracting: train/images/group0026_cat-2_png.rf.3179f810bd5c70b98ee28d1e08bed529.jpg  \n",
            " extracting: train/images/group0030_jpeg_cat-0_png.rf.f864b25f94cc5629587e952726dddf75.jpg  \n",
            " extracting: train/images/group0034_jpeg_cat-0_png.rf.98679dd65115a7a593ab51de8e7f6af1.jpg  \n",
            " extracting: train/images/group0047_jpeg_cat-0_png.rf.d9009c344ddd822a50e67c84c0cd24a1.jpg  \n",
            " extracting: train/images/group0047_jpeg_cat-1_png.rf.6f0e1cff63902d622d60910bf07302be.jpg  \n",
            " extracting: train/images/group0048_jpeg_cat-0_png.rf.7e2239b5809e5378c1888cf51f3d7d66.jpg  \n",
            " extracting: train/images/group0052_jpeg_cat-1_png.rf.b7c232d9cbdb0fd9cefde67deae99447.jpg  \n",
            " extracting: train/images/group0063_jpeg_cat-0_png.rf.4b2be1a828f1aa0eb5406dc3ba3577e6.jpg  \n",
            " extracting: train/images/group0063_jpeg_cat-1_png.rf.490fd35d18e39bc5892876a0c8e67892.jpg  \n",
            " extracting: train/images/group0067_cat-3_png.rf.0a9bef28ebc5bebf0dd25c2c6a0fc790.jpg  \n",
            " extracting: train/images/group0068_jpeg_cat-0_png.rf.ebdf195de25decb7efd89be75b10c3f9.jpg  \n",
            " extracting: train/images/group0069_jpeg_cat-0_png.rf.63f2c42d99fe7103208683840e909de5.jpg  \n",
            " extracting: train/images/group0074_jpeg_cat-0_png.rf.616ad1209fae42f56b6dd0260d381616.jpg  \n",
            " extracting: train/images/group0075_jpeg_cat-0_png.rf.025c6a8e931fdb6b0d32f9016d33d23c.jpg  \n",
            " extracting: train/images/group0088_jpeg_cat-0_png.rf.6e81f506dd3923f7e9fca97edb108587.jpg  \n",
            " extracting: train/images/group0092_jpeg_cat-1_png.rf.3154477911033633e1df6a7abf552c80.jpg  \n",
            " extracting: train/images/group0092_jpeg_cat-3_png.rf.41129dab96679e56eeb73ac424683e40.jpg  \n",
            " extracting: train/images/group0099_jpeg_cat-1_png.rf.c0fbd665ca06e45f973d6b6a966cc31d.jpg  \n",
            " extracting: train/images/group0099_jpeg_cat-3_png.rf.0cbfb68b2b38feba2bd548a5b620016b.jpg  \n",
            " extracting: train/images/group0099_jpeg_cat-4_png.rf.9f09fe5b1aa9939b242864b6cd75b7fb.jpg  \n",
            " extracting: train/images/group0101_jpeg_cat-0_png.rf.f0f5800e1df4e3b86ac2cbc4c1f58f78.jpg  \n",
            " extracting: train/images/group0101_jpeg_cat-2_png.rf.b73de08ddcf8309c8f3bb291db712423.jpg  \n",
            " extracting: train/images/group0101_jpeg_cat-3_png.rf.bd76ca70646cdd474c1e8c6ecabc6d94.jpg  \n",
            " extracting: train/images/group0101_jpeg_cat-4_png.rf.e42369b54d308ebb43ea99274dad4402.jpg  \n",
            " extracting: train/images/group0107_png_cat-0_png.rf.463b97808c0f0c82d9d7b5ef2884f4b1.jpg  \n",
            " extracting: train/images/group0107_png_cat-1_png.rf.5ffbd10a2040630445bd2b035d2834af.jpg  \n",
            " extracting: train/images/group0107_png_cat-4_png.rf.6ffc532a256b7fda108985bc565822fc.jpg  \n",
            " extracting: train/images/group0109_jpeg_cat-0_png.rf.efe2749e84739eb1d053db1b37b3ad06.jpg  \n",
            " extracting: train/images/group0110_jpeg_cat-0_png.rf.7f077ec037cacd550367d0199e6948e4.jpg  \n",
            " extracting: train/images/group0121_jpeg_cat-1_png.rf.a81adf8d5d01a3817d84800af7784464.jpg  \n",
            " extracting: train/images/group0123_jpeg_cat-2_png.rf.f6a5d8eca77df5481f143879a1fb6c6b.jpg  \n",
            " extracting: train/images/group0124_jpeg_cat-1_png.rf.64c992a69dff05a4c22c660c5723cc66.jpg  \n",
            " extracting: train/images/group0124_jpeg_cat-2_png.rf.57c912aaa44c60eda8e5dba7dab99cf9.jpg  \n",
            " extracting: train/images/group0126_jpeg_cat-0_png.rf.24d27af3a5f8b3b3d53662a16a2f6084.jpg  \n",
            " extracting: train/images/group0126_jpeg_cat-1_png.rf.a847ecca0bb621dea269b266e1733e32.jpg  \n",
            " extracting: train/images/group0126_jpeg_cat-5_png.rf.3322de9945eeea4065a8303ec6b94f35.jpg  \n",
            " extracting: train/images/group0127_jpeg_cat-1_png.rf.b0640c014ae2971499cccd295af5d430.jpg  \n",
            " extracting: train/images/group0127_jpeg_cat-3_png.rf.6cb8ac47dd28da5d6d660519306b7068.jpg  \n",
            " extracting: train/images/group0132_cat-1_png.rf.81058b940b62c76ef028c9e43a97b56f.jpg  \n",
            " extracting: train/images/group0133_jpeg_cat-0_png.rf.a8f896f8078e9933f79bc91c6f155020.jpg  \n",
            " extracting: train/images/group0133_jpeg_cat-1_png.rf.bd8930446a00d6708d28be86ef84bc3e.jpg  \n",
            " extracting: train/images/group0136_png_cat-0_png.rf.fa424ee3d3177289e6754b666d2bcc08.jpg  \n",
            " extracting: train/images/group0138_cat-0_png.rf.daca79b73abbe2c7a24d28535cac00e2.jpg  \n",
            " extracting: train/images/group0139_jpeg_cat-0_png.rf.afb4263e98f983c32658c41372707f00.jpg  \n",
            " extracting: train/images/group0142_jpeg_cat-1_png.rf.c4b0342e00f9575601c2ce3a0b977b42.jpg  \n",
            " extracting: train/images/group0145_jpeg_cat-0_png.rf.2e321b60cde0ccced529e35b07c02e54.jpg  \n",
            " extracting: train/images/group0151_jpeg_cat-0_png.rf.0cc8e21699905affac668d5302662bfe.jpg  \n",
            " extracting: train/images/group0153_cat-0_png.rf.1e164912a7ee5d57ea93bbf600cefa42.jpg  \n",
            " extracting: train/images/group0154_jpeg_cat-0_png.rf.f8d8931a096e77958cbf96e9aed8523f.jpg  \n",
            " extracting: train/images/group0157_jpeg_cat-0_png.rf.e0f6d0124aee80ac6726e474d0741940.jpg  \n",
            " extracting: train/images/group0162_jpeg_cat-4_png.rf.d0ae7b23f6b6985b4dbc1316bf6e4519.jpg  \n",
            " extracting: train/images/group0171_cat-0_png.rf.06b631352ba6146bab07bc32835a8fbc.jpg  \n",
            " extracting: train/images/group0179_cat-0_png.rf.ad609e353a749db71d934159d093ead7.jpg  \n",
            " extracting: train/images/group0180_cat-0_png.rf.d5bf10f2264bbbbdd735e7d4471ee206.jpg  \n",
            " extracting: train/images/group0182_jpeg_cat-0_png.rf.0088739af3d2bab9b49f09e2bd72bec5.jpg  \n",
            " extracting: train/images/group0185_jpeg_cat-1_png.rf.cd2524692b2e9b6a3a2c2408843743b0.jpg  \n",
            " extracting: train/images/group0185_jpeg_cat-2_png.rf.3e0e6f8bc0f29037d953dce0e055392a.jpg  \n",
            " extracting: train/images/group0185_jpeg_cat-3_png.rf.0cd79ea4a8edfa5f6c331984053eec43.jpg  \n",
            " extracting: train/images/group0187_jpeg_cat-0_png.rf.2b8d97a49091358feb917b6ac681b42d.jpg  \n",
            " extracting: train/images/group0188_jpeg_cat-0_png.rf.3b9acfbbe99e754adb34cae5f76d286a.jpg  \n",
            " extracting: train/images/group0194_cat-1_png.rf.a057e0cce5a0dfc0f0c0abcca112d024.jpg  \n",
            " extracting: train/images/group0197_jpeg_cat-0_png.rf.a9ab4202a8e8c8626f73eac7cfb03cfa.jpg  \n",
            " extracting: train/images/group0198_cat-0_png.rf.8b751d07b07c84a7d44b057d9ed8a2b6.jpg  \n",
            " extracting: train/images/group0199_cat-0_png.rf.6a4806635c8d9c4a9a7a8fa2da6abf82.jpg  \n",
            " extracting: train/images/group0207_jpeg_cat-0_png.rf.94d30ad908e4c8931129321a8f36e3e6.jpg  \n",
            " extracting: train/images/group0207_jpeg_cat-1_png.rf.4a832aa805f7841d12779c9a7aad0710.jpg  \n",
            " extracting: train/images/group0208_jpeg_cat-0_png.rf.147d7046f6913e7388c7c2d08786b386.jpg  \n",
            " extracting: train/images/group0208_jpeg_cat-7_png.rf.7ff6f4ce24de18b911e2292fa3a28b23.jpg  \n",
            " extracting: train/images/group0213_cat-0_png.rf.a17f3496de8dc785079fa15fd0d9b69f.jpg  \n",
            " extracting: train/images/group0218_jpeg_cat-1_png.rf.01762ace58f81a0830624e8c992a9d5a.jpg  \n",
            " extracting: train/images/group0221_jpeg_cat-0_png.rf.e84dafdedde7e8cf17dc601261588567.jpg  \n",
            " extracting: train/images/group0221_jpeg_cat-1_png.rf.31175fd5d3c94acf846ce0393af09dcc.jpg  \n",
            " extracting: train/images/group0224_jpeg_cat-0_png.rf.ca0b1588899e5b1c5f5a1acc1b13353a.jpg  \n",
            " extracting: train/images/group0226_jpeg_cat-1_png.rf.4f6474e0eb0f767085b871a3139ee7d3.jpg  \n",
            " extracting: train/images/group0227_jpeg_cat-0_png.rf.4be194253fdf2baa5584033e312fa811.jpg  \n",
            " extracting: train/images/group0229_cat-1_png.rf.5742588fe4c94d2c81e07c696a460c70.jpg  \n",
            " extracting: train/images/group0234_jpeg_cat-4_png.rf.c639bd54f45488e3c715cf32d109a714.jpg  \n",
            " extracting: train/images/group0236_cat-0_png.rf.4565347e0608567f6f88ce5903baf28f.jpg  \n",
            " extracting: train/images/group0237_jpeg_cat-0_png.rf.74386895358a7751d1d39df0c3eff035.jpg  \n",
            " extracting: train/images/group0241_jpeg_cat-0_png.rf.91e16345ffbf8ac78166d6e0d16666af.jpg  \n",
            " extracting: train/images/group0243_jpeg_cat-0_png.rf.769c839a4866a731d4abfd1e39105970.jpg  \n",
            " extracting: train/images/group0244_cat-0_png.rf.4d4fa18964aaab30139bc88d067c246c.jpg  \n",
            " extracting: train/images/group0251_cat-2_png.rf.b6d36ddb98a5a3d6567c2e92e70cb845.jpg  \n",
            " extracting: train/images/group0252_jpeg_cat-0_png.rf.c27f2a22bb3ad1112efa66eab3e8998f.jpg  \n",
            " extracting: train/images/group0253_jpeg_cat-1_png.rf.964ecc64fb9a7987952a436dc31d89c1.jpg  \n",
            " extracting: train/images/group0254_jpeg_cat-0_png.rf.d7f23c847963cc57053ab74bf8723f89.jpg  \n",
            " extracting: train/images/group0254_jpeg_cat-2_png.rf.2e4bb91387bf6b561b64de1f130404d2.jpg  \n",
            " extracting: train/images/group0257_jpeg_cat-1_png.rf.c279f43a2697554fd6571c9c122fde35.jpg  \n",
            " extracting: train/images/group0258_cat-0_png.rf.77ad16832cce97d42d81dfa947303471.jpg  \n",
            " extracting: train/images/group0258_cat-1_png.rf.cbdcc9b5632031e843d93f0fd9116978.jpg  \n",
            " extracting: train/images/group0258_cat-2_png.rf.b8ca4c48237fa317021347434a97aabb.jpg  \n",
            " extracting: train/images/group0259_jpeg_cat-0_png.rf.a38385ee49fc6af29a9c0684498469d3.jpg  \n",
            " extracting: train/images/group0259_jpeg_cat-1_png.rf.5d97ae2b892ef586429c3585667efeda.jpg  \n",
            " extracting: train/images/group0263_jpeg_cat-1_png.rf.2a0682669b1e0165fd2c476000466a97.jpg  \n",
            " extracting: train/images/group0264_jpeg_cat-0_png.rf.428718312352a3d0903e8e473b8f8abc.jpg  \n",
            " extracting: train/images/group0265_jpeg_cat-0_png.rf.fc69cda203c586575ec8152dd97fb671.jpg  \n",
            " extracting: train/images/group0270_cat-0_png.rf.0a491c003a5fd4a831a064ae85be6abf.jpg  \n",
            " extracting: train/images/group0271_jpeg_cat-1_png.rf.eecdf8a63dc7312c07e63b8ce12b1860.jpg  \n",
            " extracting: train/images/group0271_jpeg_cat-2_png.rf.1524af9b37fbfc9645211bbacd1a6c4a.jpg  \n",
            " extracting: train/images/group0274_cat-0_png.rf.2e24b346c19364f01fe348a3b733c8ba.jpg  \n",
            " extracting: train/images/group0275_jpeg_cat-4_png.rf.a472c81ca51387f216b264bac03324b1.jpg  \n",
            " extracting: train/images/group0279_jpeg_cat-0_png.rf.3cac7e84a828ea4ed0e4458ed0c7a347.jpg  \n",
            " extracting: train/images/group0284_jpeg_cat-0_png.rf.2b8fabbb72a1e68636fb39d15bb9a04c.jpg  \n",
            " extracting: train/images/group0291_jpeg_cat-1_png.rf.3ae649cd4371f0fd12b73081cf2c6ac3.jpg  \n",
            " extracting: train/images/group0295_jpeg_cat-0_png.rf.6284d3bde79e0424d03d0d239a321dc5.jpg  \n",
            " extracting: train/images/group0296_cat-12_png.rf.7119c5e69e90692f61aac7993e565ff6.jpg  \n",
            " extracting: train/images/group0298_jpeg_cat-0_png.rf.40f222787cf810b15ed9bb80d2db039b.jpg  \n",
            " extracting: train/images/group0300_jpeg_cat-0_png.rf.f2b67d56c9d396d07895b58496e01e10.jpg  \n",
            " extracting: train/images/group0301_jpeg_cat-0_png.rf.4eb4feb985f396cd557db8c826844695.jpg  \n",
            " extracting: train/images/group0301_jpeg_cat-5_png.rf.48e36905c46e1cdbeead34242a3331dd.jpg  \n",
            " extracting: train/images/group0306_jpeg_cat-0_png.rf.757d15f9fce564aa19cd1e7f445dcf9d.jpg  \n",
            " extracting: train/images/group0307_cat-0_png.rf.b9fd3928358a4b10771e931d2f2263c9.jpg  \n",
            " extracting: train/images/group0308_cat-4_png.rf.14328a7a375cb00e423786380da7e586.jpg  \n",
            " extracting: train/images/group0315_cat-2_png.rf.97669f378e29fd56809ca897601a21c8.jpg  \n",
            " extracting: train/images/group0320_jpeg_cat-0_png.rf.1650e511fd60b460a2d5a2e5ec477724.jpg  \n",
            " extracting: train/images/group0322_jpeg_cat-0_png.rf.b76ce5d683c3ad80f99ff61b6147249f.jpg  \n",
            " extracting: train/images/group0330_cat-0_png.rf.85b86444a95c4948680c341477e08086.jpg  \n",
            " extracting: train/images/group0331_cat-0_png.rf.3aaec9c27074b1b2ea770f2020726a52.jpg  \n",
            " extracting: train/images/group0331_cat-1_png.rf.21eb70ed632f250d9df0f7bf54eeac6e.jpg  \n",
            " extracting: train/images/group0332_jpeg_cat-0_png.rf.4425a55f5c5d96a6b7159c0c79999edc.jpg  \n",
            " extracting: train/images/group0334_jpeg_cat-0_png.rf.e6c28637abf6397a1e2e858099867d7a.jpg  \n",
            " extracting: train/images/group0334_jpeg_cat-1_png.rf.3031312d6b22ac47f393a0de6ba62a99.jpg  \n",
            " extracting: train/images/group0335_cat-1_png.rf.d736baec1c2d1204eab0507b220b2340.jpg  \n",
            " extracting: train/images/group0336_cat-0_png.rf.15ff1a47003049860b7aa9e3af56a8f8.jpg  \n",
            " extracting: train/images/group0337_jpeg_cat-0_png.rf.d4cfab85d549bf5581cac547c6c3fd39.jpg  \n",
            " extracting: train/images/group0337_jpeg_cat-2_png.rf.058ea0f6504dd5f3b080d5573f7e8fda.jpg  \n",
            " extracting: train/images/group0344_cat-0_png.rf.ecf7f0207d87347a84418252ab7cdee5.jpg  \n",
            " extracting: train/images/group0346_jpeg_cat-0_png.rf.bc0cb83153ca5b81b22910ed5c5b485a.jpg  \n",
            " extracting: train/images/group0351_cat-0_png.rf.d03ad0167420fa54b3c09ebf8360ba38.jpg  \n",
            " extracting: train/images/group0354_jpeg_cat-0_png.rf.62787f7989f2dc2e66172ee803d143e3.jpg  \n",
            " extracting: train/images/group0355_cat-0_png.rf.5ed2c0022f587a1d9b9eebd7414a85e3.jpg  \n",
            " extracting: train/images/group0356_cat-0_png.rf.55a7ec31ac0602bfa345be2b077f0958.jpg  \n",
            " extracting: train/images/group0358_cat-0_png.rf.d43342e92b74c3746521e19e9a061489.jpg  \n",
            " extracting: train/images/group0360_cat-0_png.rf.ace7f429ae70a1b20a329144dd9d7efb.jpg  \n",
            " extracting: train/images/group0361_cat-0_png.rf.62801a9fc1edbb24c9ad81db507ec2d3.jpg  \n",
            " extracting: train/images/group0363_jpeg_cat-1_png.rf.9745a4b9f69b013241305a73be5b01f8.jpg  \n",
            " extracting: train/images/group0366_jpeg_cat-1_png.rf.6295b3faa8933fc698334cfd49bff3eb.jpg  \n",
            " extracting: train/images/group0372_jpeg_cat-0_png.rf.306e2ac0bd1b2039c10d5267c946753e.jpg  \n",
            " extracting: train/images/group0374_jpeg_cat-0_png.rf.fc4b43014b7df38734cce3651e5f5b3c.jpg  \n",
            " extracting: train/images/group0379_jpeg_cat-0_png.rf.0d0d2aac9d2747dba93f255780dd9c9e.jpg  \n",
            " extracting: train/images/group0382_jpeg_cat-0_png.rf.bc2dcf44ad863b2ba463ca87c724664a.jpg  \n",
            " extracting: train/images/group0383_jpeg_cat-0_png.rf.4e4dcd37c6e1dc625025e4c6c7eba1e4.jpg  \n",
            " extracting: train/images/group0389_cat-0_png.rf.8d375722c7d71188e0307a2540c5ba9c.jpg  \n",
            " extracting: train/images/group0389_cat-1_png.rf.a2ad307c2e2ce9f4e093bc33616d6709.jpg  \n",
            " extracting: train/images/group0396_jpeg_cat-0_png.rf.03588967c265c1eed2251517bea5f5cc.jpg  \n",
            " extracting: train/images/group0400_jpeg_cat-0_png.rf.c5b184ef16b2f9ce21854f09878beed2.jpg  \n",
            " extracting: train/images/group0404_jpeg_cat-0_png.rf.c1968435e501eed8fc1e6a2e40b205c5.jpg  \n",
            " extracting: train/images/group0408_cat-0_png.rf.bba66eefffb6f75f80b18b7bfba01b6c.jpg  \n",
            " extracting: train/images/group0412_jpeg_cat-0_png.rf.a3d1d829a60d626ae53373bc2a4d9cf3.jpg  \n",
            " extracting: train/images/group0420_jpeg_cat-0_png.rf.e4f5f07bd7f3d6baa46ebf01b61318c2.jpg  \n",
            " extracting: train/images/group0420_jpeg_cat-2_png.rf.3b5b33598a0e72939fa3875b80b70b3e.jpg  \n",
            " extracting: train/images/group0464_jpeg_cat-0_png.rf.d3696c45eb4620cabb57f8e00e79908d.jpg  \n",
            " extracting: train/images/group0473_png_cat-3_png.rf.cf4d3f52b7f3f96a75ad06e58c0bdec7.jpg  \n",
            " extracting: train/images/group0477_jpeg_cat-1_png.rf.936d8e3df95e23393d73a05d2ebeedde.jpg  \n",
            " extracting: train/images/group0484_cat-0_png.rf.ca90669f0692bd66eb94c10c7bf25674.jpg  \n",
            " extracting: train/images/group0502_jpeg_cat-0_png.rf.e241fc9e13245297ed4cdd12b7f0d19a.jpg  \n",
            " extracting: train/images/group0556_cat-8_png.rf.06d4b4abcc46824bb179b91781ee5c1b.jpg  \n",
            " extracting: train/images/group0558_jpeg_cat-0_png.rf.b9d567be41219df294d3e0df3b49bf20.jpg  \n",
            " extracting: train/images/group0560_jpeg_cat-1_png.rf.e6ccfe59b3c725ab12e5716801821dff.jpg  \n",
            " extracting: train/images/group0606_jpeg_cat-0_png.rf.b1fabc31369e9ee8bde6247ab082b1ae.jpg  \n",
            " extracting: train/images/group0645_cat-0_png.rf.cc9e7e2e9f4cb539fda81c56fbb7a5d4.jpg  \n",
            " extracting: train/images/group0684_jpeg_cat-3_png.rf.fa90d39575b7ad5f285647e8d014fa8f.jpg  \n",
            " extracting: train/images/group0695_jpeg_cat-0_png.rf.3646d962010f6d6727f17d7a7148da58.jpg  \n",
            " extracting: train/images/group0713_jpeg_cat-2_png.rf.c4f596c566774d03248b1cb0b062e8de.jpg  \n",
            " extracting: train/images/group0713_jpeg_cat-4_png.rf.d707b137089de12c7f28bfd44b4d9bf4.jpg  \n",
            " extracting: train/images/group0766_jpeg_cat-0_png.rf.fe682de11ea9fc6d53dd7bc002eb04ed.jpg  \n",
            " extracting: train/images/group0767_jpeg_cat-0_png.rf.c25c330cb7d7542861d3b9349ec07f32.jpg  \n",
            " extracting: train/images/group0770_jpeg_cat-1_png.rf.be8ca382cc74f3f7e4fa64aa98b98f5d.jpg  \n",
            " extracting: train/images/group0770_jpeg_cat-5_png.rf.9d62f49f534d5c399e36c40f4530e34f.jpg  \n",
            " extracting: train/images/group0789_jpeg_cat-0_png.rf.7602a5a7e847ab22bd02b3cb9862f667.jpg  \n",
            " extracting: train/images/group0794_png_cat-0_png.rf.f284b0d0e9d2c840aa0e949ac8d5e538.jpg  \n",
            " extracting: train/images/group0804_jpeg_cat-0_png.rf.52e2be441de2efb305fdd3ce7cac656a.jpg  \n",
            " extracting: train/images/group0812_png_cat-2_png.rf.04e11373652f7a5c580c02d38bbbe931.jpg  \n",
            " extracting: train/images/group0813_jpeg_cat-1_png.rf.ecd7eec14d9361ab6b9bf7d72cbd68c4.jpg  \n",
            " extracting: train/images/group0824_cat-0_png.rf.10abe8bb67094b10652014717d8b53f8.jpg  \n",
            " extracting: train/images/group0834_cat-11_png.rf.ad1ac7b6269d4291711bd442c697dcf6.jpg  \n",
            " extracting: train/images/group0837_cat-1_png.rf.99d7abf7b44d3c04c390c721d5a4e54d.jpg  \n",
            " extracting: train/images/group0838_jpeg_cat-2_png.rf.e86145f42da78f5a94eb61ab1308e70c.jpg  \n",
            " extracting: train/images/group0868_cat-2_png.rf.5928e53738152588b2995481b1d4765d.jpg  \n",
            " extracting: train/images/group0901_jpeg_cat-0_png.rf.f39a59ea97a44a44955e1fc64bfc7649.jpg  \n",
            " extracting: train/images/group0901_jpeg_cat-2_png.rf.5082ac1ac967f6a55c51be9eb95e8d43.jpg  \n",
            " extracting: train/images/group0904_jpeg_cat-0_png.rf.76e027e693f74d3c99399d9a2fe75b3b.jpg  \n",
            " extracting: train/images/group0928_cat-0_png.rf.abf3eceb4c9c74b6bb35c22920aac739.jpg  \n",
            " extracting: train/images/group0971_jpeg_cat-0_png.rf.05299f760f032dff04f33ecf37f9cbb0.jpg  \n",
            " extracting: train/images/group0980_cat-0_png.rf.86670fcdc839ec901218c265f5deb2d8.jpg  \n",
            " extracting: train/images/group0994_jpeg_cat-0_png.rf.5596706ed482f27ff315eca23a3cd829.jpg  \n",
            " extracting: train/images/group1032_cat-1_png.rf.304ae1a7448c1696e4e0870ebb3613b0.jpg  \n",
            " extracting: train/images/group1055_jpeg_cat-0_png.rf.0764d6fa710935cfe745ecc371ab9459.jpg  \n",
            " extracting: train/images/group1071_cat-3_png.rf.2e94c2e52b0125aec4c89e95f7919560.jpg  \n",
            " extracting: train/images/group1085_cat-1_png.rf.90ba558dc1f549a8ad12c4aada402a9a.jpg  \n",
            " extracting: train/images/group1100_jpeg_cat-1_png.rf.89bd4d1e470c5d833cbb1f5437a76213.jpg  \n",
            "   creating: train/labels/\n",
            "  inflating: train/labels/group0002_jpeg_cat-1_png.rf.c6143039e2fb105ac738ba3421959c40.txt  \n",
            "  inflating: train/labels/group0002_jpeg_cat-2_png.rf.45b6ba29da8bb6b7c92e1043e5bebaf0.txt  \n",
            "  inflating: train/labels/group0002_jpeg_cat-3_png.rf.f69f566476cade8c421f4375feea0737.txt  \n",
            "  inflating: train/labels/group0002_jpeg_cat-4_png.rf.c6b781737cc5a0d8be18edf469f524df.txt  \n",
            "  inflating: train/labels/group0002_jpeg_cat-6_png.rf.afabf12007008bd412b5024fc5dd5a74.txt  \n",
            "  inflating: train/labels/group0003_jpeg_cat-5_png.rf.48de2a296775608e6ac245b2ad6c600d.txt  \n",
            "  inflating: train/labels/group0004_jpeg_cat-0_png.rf.0737b3c0dbe7a3f11281fe46920ed603.txt  \n",
            "  inflating: train/labels/group0004_jpeg_cat-1_png.rf.78a1701666421552c203bcfa07ef6998.txt  \n",
            "  inflating: train/labels/group0004_jpeg_cat-2_png.rf.2a9aab1a7b925bf93d1ddcfa3abd8080.txt  \n",
            "  inflating: train/labels/group0005_jpeg_cat-2_png.rf.87747b0461cbe1a0f5de73ffe901eda9.txt  \n",
            "  inflating: train/labels/group0006_jpeg_cat-1_png.rf.f96b2ff5a3858134d75c79297f753135.txt  \n",
            "  inflating: train/labels/group0007_jpeg_cat-0_png.rf.cdb61f9ca91f86fe54eb19e54fc3c844.txt  \n",
            "  inflating: train/labels/group0009_jpeg_cat-1_png.rf.da23dad090f0413511de3f1cb1d687f3.txt  \n",
            "  inflating: train/labels/group0012_jpeg_cat-0_png.rf.2bfede59b288fe89d14029161840b7e5.txt  \n",
            "  inflating: train/labels/group0017_jpeg_cat-2_png.rf.983eec166ae759cd2a51a4b2e7a31b5d.txt  \n",
            "  inflating: train/labels/group0020_jpeg_cat-0_png.rf.f3e00c9d103994f761441cdf877b5c29.txt  \n",
            "  inflating: train/labels/group0020_jpeg_cat-1_png.rf.da24875a260d86e19ebf70d484a96b3c.txt  \n",
            "  inflating: train/labels/group0021_jpeg_cat-0_png.rf.1643ae7167307276da8e3fdf91440533.txt  \n",
            "  inflating: train/labels/group0026_cat-1_png.rf.940f2dbf49a0191ce600b7489a7c1981.txt  \n",
            "  inflating: train/labels/group0026_cat-2_png.rf.3179f810bd5c70b98ee28d1e08bed529.txt  \n",
            "  inflating: train/labels/group0030_jpeg_cat-0_png.rf.f864b25f94cc5629587e952726dddf75.txt  \n",
            "  inflating: train/labels/group0034_jpeg_cat-0_png.rf.98679dd65115a7a593ab51de8e7f6af1.txt  \n",
            "  inflating: train/labels/group0047_jpeg_cat-0_png.rf.d9009c344ddd822a50e67c84c0cd24a1.txt  \n",
            "  inflating: train/labels/group0047_jpeg_cat-1_png.rf.6f0e1cff63902d622d60910bf07302be.txt  \n",
            "  inflating: train/labels/group0048_jpeg_cat-0_png.rf.7e2239b5809e5378c1888cf51f3d7d66.txt  \n",
            "  inflating: train/labels/group0052_jpeg_cat-1_png.rf.b7c232d9cbdb0fd9cefde67deae99447.txt  \n",
            "  inflating: train/labels/group0063_jpeg_cat-0_png.rf.4b2be1a828f1aa0eb5406dc3ba3577e6.txt  \n",
            "  inflating: train/labels/group0063_jpeg_cat-1_png.rf.490fd35d18e39bc5892876a0c8e67892.txt  \n",
            "  inflating: train/labels/group0067_cat-3_png.rf.0a9bef28ebc5bebf0dd25c2c6a0fc790.txt  \n",
            "  inflating: train/labels/group0068_jpeg_cat-0_png.rf.ebdf195de25decb7efd89be75b10c3f9.txt  \n",
            "  inflating: train/labels/group0069_jpeg_cat-0_png.rf.63f2c42d99fe7103208683840e909de5.txt  \n",
            "  inflating: train/labels/group0074_jpeg_cat-0_png.rf.616ad1209fae42f56b6dd0260d381616.txt  \n",
            "  inflating: train/labels/group0075_jpeg_cat-0_png.rf.025c6a8e931fdb6b0d32f9016d33d23c.txt  \n",
            "  inflating: train/labels/group0088_jpeg_cat-0_png.rf.6e81f506dd3923f7e9fca97edb108587.txt  \n",
            "  inflating: train/labels/group0092_jpeg_cat-1_png.rf.3154477911033633e1df6a7abf552c80.txt  \n",
            "  inflating: train/labels/group0092_jpeg_cat-3_png.rf.41129dab96679e56eeb73ac424683e40.txt  \n",
            "  inflating: train/labels/group0099_jpeg_cat-1_png.rf.c0fbd665ca06e45f973d6b6a966cc31d.txt  \n",
            "  inflating: train/labels/group0099_jpeg_cat-3_png.rf.0cbfb68b2b38feba2bd548a5b620016b.txt  \n",
            "  inflating: train/labels/group0099_jpeg_cat-4_png.rf.9f09fe5b1aa9939b242864b6cd75b7fb.txt  \n",
            "  inflating: train/labels/group0101_jpeg_cat-0_png.rf.f0f5800e1df4e3b86ac2cbc4c1f58f78.txt  \n",
            "  inflating: train/labels/group0101_jpeg_cat-2_png.rf.b73de08ddcf8309c8f3bb291db712423.txt  \n",
            "  inflating: train/labels/group0101_jpeg_cat-3_png.rf.bd76ca70646cdd474c1e8c6ecabc6d94.txt  \n",
            "  inflating: train/labels/group0101_jpeg_cat-4_png.rf.e42369b54d308ebb43ea99274dad4402.txt  \n",
            "  inflating: train/labels/group0107_png_cat-0_png.rf.463b97808c0f0c82d9d7b5ef2884f4b1.txt  \n",
            "  inflating: train/labels/group0107_png_cat-1_png.rf.5ffbd10a2040630445bd2b035d2834af.txt  \n",
            "  inflating: train/labels/group0107_png_cat-4_png.rf.6ffc532a256b7fda108985bc565822fc.txt  \n",
            "  inflating: train/labels/group0109_jpeg_cat-0_png.rf.efe2749e84739eb1d053db1b37b3ad06.txt  \n",
            "  inflating: train/labels/group0110_jpeg_cat-0_png.rf.7f077ec037cacd550367d0199e6948e4.txt  \n",
            "  inflating: train/labels/group0121_jpeg_cat-1_png.rf.a81adf8d5d01a3817d84800af7784464.txt  \n",
            "  inflating: train/labels/group0123_jpeg_cat-2_png.rf.f6a5d8eca77df5481f143879a1fb6c6b.txt  \n",
            "  inflating: train/labels/group0124_jpeg_cat-1_png.rf.64c992a69dff05a4c22c660c5723cc66.txt  \n",
            "  inflating: train/labels/group0124_jpeg_cat-2_png.rf.57c912aaa44c60eda8e5dba7dab99cf9.txt  \n",
            "  inflating: train/labels/group0126_jpeg_cat-0_png.rf.24d27af3a5f8b3b3d53662a16a2f6084.txt  \n",
            "  inflating: train/labels/group0126_jpeg_cat-1_png.rf.a847ecca0bb621dea269b266e1733e32.txt  \n",
            "  inflating: train/labels/group0126_jpeg_cat-5_png.rf.3322de9945eeea4065a8303ec6b94f35.txt  \n",
            "  inflating: train/labels/group0127_jpeg_cat-1_png.rf.b0640c014ae2971499cccd295af5d430.txt  \n",
            "  inflating: train/labels/group0127_jpeg_cat-3_png.rf.6cb8ac47dd28da5d6d660519306b7068.txt  \n",
            "  inflating: train/labels/group0132_cat-1_png.rf.81058b940b62c76ef028c9e43a97b56f.txt  \n",
            "  inflating: train/labels/group0133_jpeg_cat-0_png.rf.a8f896f8078e9933f79bc91c6f155020.txt  \n",
            "  inflating: train/labels/group0133_jpeg_cat-1_png.rf.bd8930446a00d6708d28be86ef84bc3e.txt  \n",
            "  inflating: train/labels/group0136_png_cat-0_png.rf.fa424ee3d3177289e6754b666d2bcc08.txt  \n",
            "  inflating: train/labels/group0138_cat-0_png.rf.daca79b73abbe2c7a24d28535cac00e2.txt  \n",
            "  inflating: train/labels/group0139_jpeg_cat-0_png.rf.afb4263e98f983c32658c41372707f00.txt  \n",
            "  inflating: train/labels/group0142_jpeg_cat-1_png.rf.c4b0342e00f9575601c2ce3a0b977b42.txt  \n",
            "  inflating: train/labels/group0145_jpeg_cat-0_png.rf.2e321b60cde0ccced529e35b07c02e54.txt  \n",
            "  inflating: train/labels/group0151_jpeg_cat-0_png.rf.0cc8e21699905affac668d5302662bfe.txt  \n",
            "  inflating: train/labels/group0153_cat-0_png.rf.1e164912a7ee5d57ea93bbf600cefa42.txt  \n",
            "  inflating: train/labels/group0154_jpeg_cat-0_png.rf.f8d8931a096e77958cbf96e9aed8523f.txt  \n",
            "  inflating: train/labels/group0157_jpeg_cat-0_png.rf.e0f6d0124aee80ac6726e474d0741940.txt  \n",
            "  inflating: train/labels/group0162_jpeg_cat-4_png.rf.d0ae7b23f6b6985b4dbc1316bf6e4519.txt  \n",
            "  inflating: train/labels/group0171_cat-0_png.rf.06b631352ba6146bab07bc32835a8fbc.txt  \n",
            "  inflating: train/labels/group0179_cat-0_png.rf.ad609e353a749db71d934159d093ead7.txt  \n",
            "  inflating: train/labels/group0180_cat-0_png.rf.d5bf10f2264bbbbdd735e7d4471ee206.txt  \n",
            "  inflating: train/labels/group0182_jpeg_cat-0_png.rf.0088739af3d2bab9b49f09e2bd72bec5.txt  \n",
            "  inflating: train/labels/group0185_jpeg_cat-1_png.rf.cd2524692b2e9b6a3a2c2408843743b0.txt  \n",
            "  inflating: train/labels/group0185_jpeg_cat-2_png.rf.3e0e6f8bc0f29037d953dce0e055392a.txt  \n",
            "  inflating: train/labels/group0185_jpeg_cat-3_png.rf.0cd79ea4a8edfa5f6c331984053eec43.txt  \n",
            "  inflating: train/labels/group0187_jpeg_cat-0_png.rf.2b8d97a49091358feb917b6ac681b42d.txt  \n",
            "  inflating: train/labels/group0188_jpeg_cat-0_png.rf.3b9acfbbe99e754adb34cae5f76d286a.txt  \n",
            "  inflating: train/labels/group0194_cat-1_png.rf.a057e0cce5a0dfc0f0c0abcca112d024.txt  \n",
            "  inflating: train/labels/group0197_jpeg_cat-0_png.rf.a9ab4202a8e8c8626f73eac7cfb03cfa.txt  \n",
            "  inflating: train/labels/group0198_cat-0_png.rf.8b751d07b07c84a7d44b057d9ed8a2b6.txt  \n",
            "  inflating: train/labels/group0199_cat-0_png.rf.6a4806635c8d9c4a9a7a8fa2da6abf82.txt  \n",
            "  inflating: train/labels/group0207_jpeg_cat-0_png.rf.94d30ad908e4c8931129321a8f36e3e6.txt  \n",
            "  inflating: train/labels/group0207_jpeg_cat-1_png.rf.4a832aa805f7841d12779c9a7aad0710.txt  \n",
            "  inflating: train/labels/group0208_jpeg_cat-0_png.rf.147d7046f6913e7388c7c2d08786b386.txt  \n",
            "  inflating: train/labels/group0208_jpeg_cat-7_png.rf.7ff6f4ce24de18b911e2292fa3a28b23.txt  \n",
            "  inflating: train/labels/group0213_cat-0_png.rf.a17f3496de8dc785079fa15fd0d9b69f.txt  \n",
            "  inflating: train/labels/group0218_jpeg_cat-1_png.rf.01762ace58f81a0830624e8c992a9d5a.txt  \n",
            "  inflating: train/labels/group0221_jpeg_cat-0_png.rf.e84dafdedde7e8cf17dc601261588567.txt  \n",
            "  inflating: train/labels/group0221_jpeg_cat-1_png.rf.31175fd5d3c94acf846ce0393af09dcc.txt  \n",
            "  inflating: train/labels/group0224_jpeg_cat-0_png.rf.ca0b1588899e5b1c5f5a1acc1b13353a.txt  \n",
            "  inflating: train/labels/group0226_jpeg_cat-1_png.rf.4f6474e0eb0f767085b871a3139ee7d3.txt  \n",
            "  inflating: train/labels/group0227_jpeg_cat-0_png.rf.4be194253fdf2baa5584033e312fa811.txt  \n",
            "  inflating: train/labels/group0229_cat-1_png.rf.5742588fe4c94d2c81e07c696a460c70.txt  \n",
            "  inflating: train/labels/group0234_jpeg_cat-4_png.rf.c639bd54f45488e3c715cf32d109a714.txt  \n",
            "  inflating: train/labels/group0236_cat-0_png.rf.4565347e0608567f6f88ce5903baf28f.txt  \n",
            "  inflating: train/labels/group0237_jpeg_cat-0_png.rf.74386895358a7751d1d39df0c3eff035.txt  \n",
            "  inflating: train/labels/group0241_jpeg_cat-0_png.rf.91e16345ffbf8ac78166d6e0d16666af.txt  \n",
            "  inflating: train/labels/group0243_jpeg_cat-0_png.rf.769c839a4866a731d4abfd1e39105970.txt  \n",
            "  inflating: train/labels/group0244_cat-0_png.rf.4d4fa18964aaab30139bc88d067c246c.txt  \n",
            "  inflating: train/labels/group0251_cat-2_png.rf.b6d36ddb98a5a3d6567c2e92e70cb845.txt  \n",
            "  inflating: train/labels/group0252_jpeg_cat-0_png.rf.c27f2a22bb3ad1112efa66eab3e8998f.txt  \n",
            "  inflating: train/labels/group0253_jpeg_cat-1_png.rf.964ecc64fb9a7987952a436dc31d89c1.txt  \n",
            "  inflating: train/labels/group0254_jpeg_cat-0_png.rf.d7f23c847963cc57053ab74bf8723f89.txt  \n",
            "  inflating: train/labels/group0254_jpeg_cat-2_png.rf.2e4bb91387bf6b561b64de1f130404d2.txt  \n",
            "  inflating: train/labels/group0257_jpeg_cat-1_png.rf.c279f43a2697554fd6571c9c122fde35.txt  \n",
            "  inflating: train/labels/group0258_cat-0_png.rf.77ad16832cce97d42d81dfa947303471.txt  \n",
            "  inflating: train/labels/group0258_cat-1_png.rf.cbdcc9b5632031e843d93f0fd9116978.txt  \n",
            "  inflating: train/labels/group0258_cat-2_png.rf.b8ca4c48237fa317021347434a97aabb.txt  \n",
            "  inflating: train/labels/group0259_jpeg_cat-0_png.rf.a38385ee49fc6af29a9c0684498469d3.txt  \n",
            "  inflating: train/labels/group0259_jpeg_cat-1_png.rf.5d97ae2b892ef586429c3585667efeda.txt  \n",
            "  inflating: train/labels/group0263_jpeg_cat-1_png.rf.2a0682669b1e0165fd2c476000466a97.txt  \n",
            "  inflating: train/labels/group0264_jpeg_cat-0_png.rf.428718312352a3d0903e8e473b8f8abc.txt  \n",
            "  inflating: train/labels/group0265_jpeg_cat-0_png.rf.fc69cda203c586575ec8152dd97fb671.txt  \n",
            "  inflating: train/labels/group0270_cat-0_png.rf.0a491c003a5fd4a831a064ae85be6abf.txt  \n",
            "  inflating: train/labels/group0271_jpeg_cat-1_png.rf.eecdf8a63dc7312c07e63b8ce12b1860.txt  \n",
            "  inflating: train/labels/group0271_jpeg_cat-2_png.rf.1524af9b37fbfc9645211bbacd1a6c4a.txt  \n",
            "  inflating: train/labels/group0274_cat-0_png.rf.2e24b346c19364f01fe348a3b733c8ba.txt  \n",
            "  inflating: train/labels/group0275_jpeg_cat-4_png.rf.a472c81ca51387f216b264bac03324b1.txt  \n",
            "  inflating: train/labels/group0279_jpeg_cat-0_png.rf.3cac7e84a828ea4ed0e4458ed0c7a347.txt  \n",
            "  inflating: train/labels/group0284_jpeg_cat-0_png.rf.2b8fabbb72a1e68636fb39d15bb9a04c.txt  \n",
            "  inflating: train/labels/group0291_jpeg_cat-1_png.rf.3ae649cd4371f0fd12b73081cf2c6ac3.txt  \n",
            "  inflating: train/labels/group0295_jpeg_cat-0_png.rf.6284d3bde79e0424d03d0d239a321dc5.txt  \n",
            "  inflating: train/labels/group0296_cat-12_png.rf.7119c5e69e90692f61aac7993e565ff6.txt  \n",
            "  inflating: train/labels/group0298_jpeg_cat-0_png.rf.40f222787cf810b15ed9bb80d2db039b.txt  \n",
            "  inflating: train/labels/group0300_jpeg_cat-0_png.rf.f2b67d56c9d396d07895b58496e01e10.txt  \n",
            "  inflating: train/labels/group0301_jpeg_cat-0_png.rf.4eb4feb985f396cd557db8c826844695.txt  \n",
            "  inflating: train/labels/group0301_jpeg_cat-5_png.rf.48e36905c46e1cdbeead34242a3331dd.txt  \n",
            "  inflating: train/labels/group0306_jpeg_cat-0_png.rf.757d15f9fce564aa19cd1e7f445dcf9d.txt  \n",
            "  inflating: train/labels/group0307_cat-0_png.rf.b9fd3928358a4b10771e931d2f2263c9.txt  \n",
            "  inflating: train/labels/group0308_cat-4_png.rf.14328a7a375cb00e423786380da7e586.txt  \n",
            "  inflating: train/labels/group0315_cat-2_png.rf.97669f378e29fd56809ca897601a21c8.txt  \n",
            "  inflating: train/labels/group0320_jpeg_cat-0_png.rf.1650e511fd60b460a2d5a2e5ec477724.txt  \n",
            "  inflating: train/labels/group0322_jpeg_cat-0_png.rf.b76ce5d683c3ad80f99ff61b6147249f.txt  \n",
            "  inflating: train/labels/group0330_cat-0_png.rf.85b86444a95c4948680c341477e08086.txt  \n",
            "  inflating: train/labels/group0331_cat-0_png.rf.3aaec9c27074b1b2ea770f2020726a52.txt  \n",
            "  inflating: train/labels/group0331_cat-1_png.rf.21eb70ed632f250d9df0f7bf54eeac6e.txt  \n",
            "  inflating: train/labels/group0332_jpeg_cat-0_png.rf.4425a55f5c5d96a6b7159c0c79999edc.txt  \n",
            "  inflating: train/labels/group0334_jpeg_cat-0_png.rf.e6c28637abf6397a1e2e858099867d7a.txt  \n",
            "  inflating: train/labels/group0334_jpeg_cat-1_png.rf.3031312d6b22ac47f393a0de6ba62a99.txt  \n",
            "  inflating: train/labels/group0335_cat-1_png.rf.d736baec1c2d1204eab0507b220b2340.txt  \n",
            "  inflating: train/labels/group0336_cat-0_png.rf.15ff1a47003049860b7aa9e3af56a8f8.txt  \n",
            "  inflating: train/labels/group0337_jpeg_cat-0_png.rf.d4cfab85d549bf5581cac547c6c3fd39.txt  \n",
            "  inflating: train/labels/group0337_jpeg_cat-2_png.rf.058ea0f6504dd5f3b080d5573f7e8fda.txt  \n",
            "  inflating: train/labels/group0344_cat-0_png.rf.ecf7f0207d87347a84418252ab7cdee5.txt  \n",
            "  inflating: train/labels/group0346_jpeg_cat-0_png.rf.bc0cb83153ca5b81b22910ed5c5b485a.txt  \n",
            "  inflating: train/labels/group0351_cat-0_png.rf.d03ad0167420fa54b3c09ebf8360ba38.txt  \n",
            "  inflating: train/labels/group0354_jpeg_cat-0_png.rf.62787f7989f2dc2e66172ee803d143e3.txt  \n",
            "  inflating: train/labels/group0355_cat-0_png.rf.5ed2c0022f587a1d9b9eebd7414a85e3.txt  \n",
            "  inflating: train/labels/group0356_cat-0_png.rf.55a7ec31ac0602bfa345be2b077f0958.txt  \n",
            "  inflating: train/labels/group0358_cat-0_png.rf.d43342e92b74c3746521e19e9a061489.txt  \n",
            "  inflating: train/labels/group0360_cat-0_png.rf.ace7f429ae70a1b20a329144dd9d7efb.txt  \n",
            "  inflating: train/labels/group0361_cat-0_png.rf.62801a9fc1edbb24c9ad81db507ec2d3.txt  \n",
            "  inflating: train/labels/group0363_jpeg_cat-1_png.rf.9745a4b9f69b013241305a73be5b01f8.txt  \n",
            "  inflating: train/labels/group0366_jpeg_cat-1_png.rf.6295b3faa8933fc698334cfd49bff3eb.txt  \n",
            "  inflating: train/labels/group0372_jpeg_cat-0_png.rf.306e2ac0bd1b2039c10d5267c946753e.txt  \n",
            "  inflating: train/labels/group0374_jpeg_cat-0_png.rf.fc4b43014b7df38734cce3651e5f5b3c.txt  \n",
            "  inflating: train/labels/group0379_jpeg_cat-0_png.rf.0d0d2aac9d2747dba93f255780dd9c9e.txt  \n",
            "  inflating: train/labels/group0382_jpeg_cat-0_png.rf.bc2dcf44ad863b2ba463ca87c724664a.txt  \n",
            "  inflating: train/labels/group0383_jpeg_cat-0_png.rf.4e4dcd37c6e1dc625025e4c6c7eba1e4.txt  \n",
            "  inflating: train/labels/group0389_cat-0_png.rf.8d375722c7d71188e0307a2540c5ba9c.txt  \n",
            "  inflating: train/labels/group0389_cat-1_png.rf.a2ad307c2e2ce9f4e093bc33616d6709.txt  \n",
            "  inflating: train/labels/group0396_jpeg_cat-0_png.rf.03588967c265c1eed2251517bea5f5cc.txt  \n",
            "  inflating: train/labels/group0400_jpeg_cat-0_png.rf.c5b184ef16b2f9ce21854f09878beed2.txt  \n",
            "  inflating: train/labels/group0404_jpeg_cat-0_png.rf.c1968435e501eed8fc1e6a2e40b205c5.txt  \n",
            "  inflating: train/labels/group0408_cat-0_png.rf.bba66eefffb6f75f80b18b7bfba01b6c.txt  \n",
            "  inflating: train/labels/group0412_jpeg_cat-0_png.rf.a3d1d829a60d626ae53373bc2a4d9cf3.txt  \n",
            "  inflating: train/labels/group0420_jpeg_cat-0_png.rf.e4f5f07bd7f3d6baa46ebf01b61318c2.txt  \n",
            "  inflating: train/labels/group0420_jpeg_cat-2_png.rf.3b5b33598a0e72939fa3875b80b70b3e.txt  \n",
            "  inflating: train/labels/group0464_jpeg_cat-0_png.rf.d3696c45eb4620cabb57f8e00e79908d.txt  \n",
            "  inflating: train/labels/group0473_png_cat-3_png.rf.cf4d3f52b7f3f96a75ad06e58c0bdec7.txt  \n",
            "  inflating: train/labels/group0477_jpeg_cat-1_png.rf.936d8e3df95e23393d73a05d2ebeedde.txt  \n",
            "  inflating: train/labels/group0484_cat-0_png.rf.ca90669f0692bd66eb94c10c7bf25674.txt  \n",
            "  inflating: train/labels/group0502_jpeg_cat-0_png.rf.e241fc9e13245297ed4cdd12b7f0d19a.txt  \n",
            "  inflating: train/labels/group0556_cat-8_png.rf.06d4b4abcc46824bb179b91781ee5c1b.txt  \n",
            "  inflating: train/labels/group0558_jpeg_cat-0_png.rf.b9d567be41219df294d3e0df3b49bf20.txt  \n",
            "  inflating: train/labels/group0560_jpeg_cat-1_png.rf.e6ccfe59b3c725ab12e5716801821dff.txt  \n",
            "  inflating: train/labels/group0606_jpeg_cat-0_png.rf.b1fabc31369e9ee8bde6247ab082b1ae.txt  \n",
            "  inflating: train/labels/group0645_cat-0_png.rf.cc9e7e2e9f4cb539fda81c56fbb7a5d4.txt  \n",
            "  inflating: train/labels/group0684_jpeg_cat-3_png.rf.fa90d39575b7ad5f285647e8d014fa8f.txt  \n",
            "  inflating: train/labels/group0695_jpeg_cat-0_png.rf.3646d962010f6d6727f17d7a7148da58.txt  \n",
            "  inflating: train/labels/group0713_jpeg_cat-2_png.rf.c4f596c566774d03248b1cb0b062e8de.txt  \n",
            "  inflating: train/labels/group0713_jpeg_cat-4_png.rf.d707b137089de12c7f28bfd44b4d9bf4.txt  \n",
            "  inflating: train/labels/group0766_jpeg_cat-0_png.rf.fe682de11ea9fc6d53dd7bc002eb04ed.txt  \n",
            "  inflating: train/labels/group0767_jpeg_cat-0_png.rf.c25c330cb7d7542861d3b9349ec07f32.txt  \n",
            "  inflating: train/labels/group0770_jpeg_cat-1_png.rf.be8ca382cc74f3f7e4fa64aa98b98f5d.txt  \n",
            "  inflating: train/labels/group0770_jpeg_cat-5_png.rf.9d62f49f534d5c399e36c40f4530e34f.txt  \n",
            "  inflating: train/labels/group0789_jpeg_cat-0_png.rf.7602a5a7e847ab22bd02b3cb9862f667.txt  \n",
            "  inflating: train/labels/group0794_png_cat-0_png.rf.f284b0d0e9d2c840aa0e949ac8d5e538.txt  \n",
            "  inflating: train/labels/group0804_jpeg_cat-0_png.rf.52e2be441de2efb305fdd3ce7cac656a.txt  \n",
            "  inflating: train/labels/group0812_png_cat-2_png.rf.04e11373652f7a5c580c02d38bbbe931.txt  \n",
            "  inflating: train/labels/group0813_jpeg_cat-1_png.rf.ecd7eec14d9361ab6b9bf7d72cbd68c4.txt  \n",
            "  inflating: train/labels/group0824_cat-0_png.rf.10abe8bb67094b10652014717d8b53f8.txt  \n",
            "  inflating: train/labels/group0834_cat-11_png.rf.ad1ac7b6269d4291711bd442c697dcf6.txt  \n",
            "  inflating: train/labels/group0837_cat-1_png.rf.99d7abf7b44d3c04c390c721d5a4e54d.txt  \n",
            "  inflating: train/labels/group0838_jpeg_cat-2_png.rf.e86145f42da78f5a94eb61ab1308e70c.txt  \n",
            "  inflating: train/labels/group0868_cat-2_png.rf.5928e53738152588b2995481b1d4765d.txt  \n",
            "  inflating: train/labels/group0901_jpeg_cat-0_png.rf.f39a59ea97a44a44955e1fc64bfc7649.txt  \n",
            "  inflating: train/labels/group0901_jpeg_cat-2_png.rf.5082ac1ac967f6a55c51be9eb95e8d43.txt  \n",
            "  inflating: train/labels/group0904_jpeg_cat-0_png.rf.76e027e693f74d3c99399d9a2fe75b3b.txt  \n",
            "  inflating: train/labels/group0928_cat-0_png.rf.abf3eceb4c9c74b6bb35c22920aac739.txt  \n",
            "  inflating: train/labels/group0971_jpeg_cat-0_png.rf.05299f760f032dff04f33ecf37f9cbb0.txt  \n",
            "  inflating: train/labels/group0980_cat-0_png.rf.86670fcdc839ec901218c265f5deb2d8.txt  \n",
            "  inflating: train/labels/group0994_jpeg_cat-0_png.rf.5596706ed482f27ff315eca23a3cd829.txt  \n",
            "  inflating: train/labels/group1032_cat-1_png.rf.304ae1a7448c1696e4e0870ebb3613b0.txt  \n",
            "  inflating: train/labels/group1055_jpeg_cat-0_png.rf.0764d6fa710935cfe745ecc371ab9459.txt  \n",
            "  inflating: train/labels/group1071_cat-3_png.rf.2e94c2e52b0125aec4c89e95f7919560.txt  \n",
            "  inflating: train/labels/group1085_cat-1_png.rf.90ba558dc1f549a8ad12c4aada402a9a.txt  \n",
            "  inflating: train/labels/group1100_jpeg_cat-1_png.rf.89bd4d1e470c5d833cbb1f5437a76213.txt  \n",
            "   creating: valid/\n",
            "   creating: valid/images/\n",
            " extracting: valid/images/group0002_jpeg_cat-9_png.rf.65eaa1891c7234187a7a3dd345d332db.jpg  \n",
            " extracting: valid/images/group0005_jpeg_cat-0_png.rf.a9986909f0a779d7e0f3da1874a42fa3.jpg  \n",
            " extracting: valid/images/group0006_jpeg_cat-0_png.rf.395c9ba325db9a9b2c93243b559b8daa.jpg  \n",
            " extracting: valid/images/group0006_jpeg_cat-3_png.rf.39ad7d8db939f8ff7499603a96036717.jpg  \n",
            " extracting: valid/images/group0009_jpeg_cat-0_png.rf.33c6964f69ce47c68e608dd51a9dc730.jpg  \n",
            " extracting: valid/images/group0012_jpeg_cat-4_png.rf.c1b0a2977d9775b3313de5d5059d07a0.jpg  \n",
            " extracting: valid/images/group0012_jpeg_cat-5_png.rf.696ee5bd5c2918eba2927e73b7197058.jpg  \n",
            " extracting: valid/images/group0046_cat-0_png.rf.50dac695f6b2b9bbcb8ae6ca882f0084.jpg  \n",
            " extracting: valid/images/group0047_jpeg_cat-2_png.rf.9456af61da153394b62fb61531e07e87.jpg  \n",
            " extracting: valid/images/group0047_jpeg_cat-4_png.rf.7f998994a2216dd1970752e7e6b57cc0.jpg  \n",
            " extracting: valid/images/group0090_jpeg_cat-1_png.rf.f9d1f79f59cc9ff2b8e7cbfe47b8ba61.jpg  \n",
            " extracting: valid/images/group0099_jpeg_cat-2_png.rf.864781b8fc1e92c52ef80a8b0f088894.jpg  \n",
            " extracting: valid/images/group0107_png_cat-2_png.rf.73c771498eeeb4c38b270e972772f384.jpg  \n",
            " extracting: valid/images/group0123_jpeg_cat-1_png.rf.13ca3542302ffb8ad6a0d63574924f65.jpg  \n",
            " extracting: valid/images/group0124_jpeg_cat-0_png.rf.b4e08b595165c58587385e5adeb44940.jpg  \n",
            " extracting: valid/images/group0139_jpeg_cat-1_png.rf.ac5ace70f05786df811e9c393a9ae1b2.jpg  \n",
            " extracting: valid/images/group0141_jpeg_cat-0_png.rf.1156ec8c892de9bbb3093aad78de781d.jpg  \n",
            " extracting: valid/images/group0152_jpeg_cat-0_png.rf.a1d3279e5ad15da57f5662adc4e3aff2.jpg  \n",
            " extracting: valid/images/group0155_jpeg_cat-1_png.rf.0b2eb1d27d8c010b5f04c4eb7376b861.jpg  \n",
            " extracting: valid/images/group0162_jpeg_cat-0_png.rf.f22525e06c9da7636d7376b99df1f17b.jpg  \n",
            " extracting: valid/images/group0176_cat-0_png.rf.c9f108c8b3c3351f9ef4329d864b60fe.jpg  \n",
            " extracting: valid/images/group0193_jpeg_cat-2_png.rf.077118eb9200c4da958cf633847e6487.jpg  \n",
            " extracting: valid/images/group0200_cat-6_png.rf.fbd30dbf71a434d186033e4904c9331a.jpg  \n",
            " extracting: valid/images/group0205_cat-0_png.rf.bb8b743d9a11c6330351e2be9f4275ef.jpg  \n",
            " extracting: valid/images/group0208_jpeg_cat-6_png.rf.5cdb11cfc0ca21e17e6d806f82ff00af.jpg  \n",
            " extracting: valid/images/group0218_jpeg_cat-0_png.rf.abbeeb34017d02a6b2f6e0eaede89c22.jpg  \n",
            " extracting: valid/images/group0221_jpeg_cat-2_png.rf.1ba940f7c5050942c5efa4aed004344d.jpg  \n",
            " extracting: valid/images/group0232_jpeg_cat-0_png.rf.ec26126b8947d087d86c83aa28d9b23b.jpg  \n",
            " extracting: valid/images/group0240_jpeg_cat-0_png.rf.b39ab9659aa6f8da3955055f35fb2340.jpg  \n",
            " extracting: valid/images/group0250_jpeg_cat-0_png.rf.e64408c690a81cac1365511155e68808.jpg  \n",
            " extracting: valid/images/group0253_jpeg_cat-0_png.rf.129e5a63e323e1fdfec544d9d4546be2.jpg  \n",
            " extracting: valid/images/group0256_jpeg_cat-2_png.rf.fd9ce54d5ce47565e7b7555ea2d95279.jpg  \n",
            " extracting: valid/images/group0260_jpeg_cat-0_png.rf.53e4a5a07cc3fd18547e9d18d5abf058.jpg  \n",
            " extracting: valid/images/group0263_jpeg_cat-0_png.rf.3110959c2b64e30df5a1d0eae1fa3ffb.jpg  \n",
            " extracting: valid/images/group0272_cat-0_png.rf.75d6837a4d52e737a71625c5e39abc1c.jpg  \n",
            " extracting: valid/images/group0275_jpeg_cat-5_png.rf.22770dba5bcbab55661c0d7e90cbece1.jpg  \n",
            " extracting: valid/images/group0301_jpeg_cat-2_png.rf.a812e4e849ed90b0ed44ea2fc0931638.jpg  \n",
            " extracting: valid/images/group0316_jpeg_cat-0_png.rf.0c7265e700ddb69c0904373cabc1b943.jpg  \n",
            " extracting: valid/images/group0321_cat-2_png.rf.452efea4ad2cf8ffacc0483387a3a436.jpg  \n",
            " extracting: valid/images/group0340_cat-0_png.rf.44baebf096c85a2d0c1fa7f01f8d2d6e.jpg  \n",
            " extracting: valid/images/group0345_jpeg_cat-0_png.rf.55094dec934cef5cd2564ec57167fc8f.jpg  \n",
            " extracting: valid/images/group0349_cat-0_png.rf.e0858f754b2947e6f6a416c1a66b0c26.jpg  \n",
            " extracting: valid/images/group0382_jpeg_cat-1_png.rf.c9d67e7cc37bdb6eaf12e0ffb3cb4126.jpg  \n",
            " extracting: valid/images/group0398_cat-0_png.rf.aa4bc5760063222b9939484773553063.jpg  \n",
            " extracting: valid/images/group0403_jpeg_cat-0_png.rf.fa8e269ddc0be61d8194aba21e2987b3.jpg  \n",
            " extracting: valid/images/group0411_jpeg_cat-0_png.rf.0440d479d6c603dfdf193a5f1ba9f137.jpg  \n",
            " extracting: valid/images/group0416_cat-1_png.rf.4fe313acb8c8c78c0e8e85b2867db641.jpg  \n",
            " extracting: valid/images/group0420_jpeg_cat-1_png.rf.d2818dd90a262ce67f9b8396c47194b3.jpg  \n",
            " extracting: valid/images/group0535_jpeg_cat-0_png.rf.0b4dee1b6f8ab0584f2432e0b26947b5.jpg  \n",
            " extracting: valid/images/group0592_jpeg_cat-4_png.rf.229703e509f9c471128f739308d701de.jpg  \n",
            " extracting: valid/images/group0699_jpeg_cat-1_png.rf.84ab6426add15e458d149ba9e295b4a4.jpg  \n",
            " extracting: valid/images/group0815_jpeg_cat-2_png.rf.cdae826d9b5349de70ffc8df0116cc9b.jpg  \n",
            " extracting: valid/images/group0819_jpeg_cat-2_png.rf.65fc56db0e5aeb434c115fd0942a0c32.jpg  \n",
            " extracting: valid/images/group0842_cat-8_png.rf.7a2dba94ad03f0dcd1e76ad68b34bd55.jpg  \n",
            " extracting: valid/images/group0846_jpeg_cat-3_png.rf.1e5c21b20624105e9b327ffa5020b8da.jpg  \n",
            " extracting: valid/images/group0856_cat-5_png.rf.bb8332beed171865f654eeb61bd1374b.jpg  \n",
            " extracting: valid/images/group0888_cat-0_png.rf.69678f64cc9320a709d6ec147ed1d182.jpg  \n",
            " extracting: valid/images/group0936_cat-2_png.rf.e07e8d0bf2113f53ddd58b9326592e19.jpg  \n",
            " extracting: valid/images/group1073_png_cat-4_png.rf.5fbdbdbfd3bb8b7f8386846400011f49.jpg  \n",
            " extracting: valid/images/group1098_jpeg_cat-1_png.rf.2c8a8c70fbf9b5ec98fe065ed23bc57c.jpg  \n",
            "   creating: valid/labels/\n",
            "  inflating: valid/labels/group0002_jpeg_cat-9_png.rf.65eaa1891c7234187a7a3dd345d332db.txt  \n",
            "  inflating: valid/labels/group0005_jpeg_cat-0_png.rf.a9986909f0a779d7e0f3da1874a42fa3.txt  \n",
            "  inflating: valid/labels/group0006_jpeg_cat-0_png.rf.395c9ba325db9a9b2c93243b559b8daa.txt  \n",
            "  inflating: valid/labels/group0006_jpeg_cat-3_png.rf.39ad7d8db939f8ff7499603a96036717.txt  \n",
            "  inflating: valid/labels/group0009_jpeg_cat-0_png.rf.33c6964f69ce47c68e608dd51a9dc730.txt  \n",
            "  inflating: valid/labels/group0012_jpeg_cat-4_png.rf.c1b0a2977d9775b3313de5d5059d07a0.txt  \n",
            "  inflating: valid/labels/group0012_jpeg_cat-5_png.rf.696ee5bd5c2918eba2927e73b7197058.txt  \n",
            "  inflating: valid/labels/group0046_cat-0_png.rf.50dac695f6b2b9bbcb8ae6ca882f0084.txt  \n",
            "  inflating: valid/labels/group0047_jpeg_cat-2_png.rf.9456af61da153394b62fb61531e07e87.txt  \n",
            "  inflating: valid/labels/group0047_jpeg_cat-4_png.rf.7f998994a2216dd1970752e7e6b57cc0.txt  \n",
            "  inflating: valid/labels/group0090_jpeg_cat-1_png.rf.f9d1f79f59cc9ff2b8e7cbfe47b8ba61.txt  \n",
            "  inflating: valid/labels/group0099_jpeg_cat-2_png.rf.864781b8fc1e92c52ef80a8b0f088894.txt  \n",
            "  inflating: valid/labels/group0107_png_cat-2_png.rf.73c771498eeeb4c38b270e972772f384.txt  \n",
            "  inflating: valid/labels/group0123_jpeg_cat-1_png.rf.13ca3542302ffb8ad6a0d63574924f65.txt  \n",
            "  inflating: valid/labels/group0124_jpeg_cat-0_png.rf.b4e08b595165c58587385e5adeb44940.txt  \n",
            "  inflating: valid/labels/group0139_jpeg_cat-1_png.rf.ac5ace70f05786df811e9c393a9ae1b2.txt  \n",
            "  inflating: valid/labels/group0141_jpeg_cat-0_png.rf.1156ec8c892de9bbb3093aad78de781d.txt  \n",
            "  inflating: valid/labels/group0152_jpeg_cat-0_png.rf.a1d3279e5ad15da57f5662adc4e3aff2.txt  \n",
            "  inflating: valid/labels/group0155_jpeg_cat-1_png.rf.0b2eb1d27d8c010b5f04c4eb7376b861.txt  \n",
            "  inflating: valid/labels/group0162_jpeg_cat-0_png.rf.f22525e06c9da7636d7376b99df1f17b.txt  \n",
            "  inflating: valid/labels/group0176_cat-0_png.rf.c9f108c8b3c3351f9ef4329d864b60fe.txt  \n",
            "  inflating: valid/labels/group0193_jpeg_cat-2_png.rf.077118eb9200c4da958cf633847e6487.txt  \n",
            "  inflating: valid/labels/group0200_cat-6_png.rf.fbd30dbf71a434d186033e4904c9331a.txt  \n",
            "  inflating: valid/labels/group0205_cat-0_png.rf.bb8b743d9a11c6330351e2be9f4275ef.txt  \n",
            "  inflating: valid/labels/group0208_jpeg_cat-6_png.rf.5cdb11cfc0ca21e17e6d806f82ff00af.txt  \n",
            "  inflating: valid/labels/group0218_jpeg_cat-0_png.rf.abbeeb34017d02a6b2f6e0eaede89c22.txt  \n",
            "  inflating: valid/labels/group0221_jpeg_cat-2_png.rf.1ba940f7c5050942c5efa4aed004344d.txt  \n",
            "  inflating: valid/labels/group0232_jpeg_cat-0_png.rf.ec26126b8947d087d86c83aa28d9b23b.txt  \n",
            "  inflating: valid/labels/group0240_jpeg_cat-0_png.rf.b39ab9659aa6f8da3955055f35fb2340.txt  \n",
            "  inflating: valid/labels/group0250_jpeg_cat-0_png.rf.e64408c690a81cac1365511155e68808.txt  \n",
            "  inflating: valid/labels/group0253_jpeg_cat-0_png.rf.129e5a63e323e1fdfec544d9d4546be2.txt  \n",
            "  inflating: valid/labels/group0256_jpeg_cat-2_png.rf.fd9ce54d5ce47565e7b7555ea2d95279.txt  \n",
            "  inflating: valid/labels/group0260_jpeg_cat-0_png.rf.53e4a5a07cc3fd18547e9d18d5abf058.txt  \n",
            "  inflating: valid/labels/group0263_jpeg_cat-0_png.rf.3110959c2b64e30df5a1d0eae1fa3ffb.txt  \n",
            "  inflating: valid/labels/group0272_cat-0_png.rf.75d6837a4d52e737a71625c5e39abc1c.txt  \n",
            "  inflating: valid/labels/group0275_jpeg_cat-5_png.rf.22770dba5bcbab55661c0d7e90cbece1.txt  \n",
            "  inflating: valid/labels/group0301_jpeg_cat-2_png.rf.a812e4e849ed90b0ed44ea2fc0931638.txt  \n",
            "  inflating: valid/labels/group0316_jpeg_cat-0_png.rf.0c7265e700ddb69c0904373cabc1b943.txt  \n",
            "  inflating: valid/labels/group0321_cat-2_png.rf.452efea4ad2cf8ffacc0483387a3a436.txt  \n",
            "  inflating: valid/labels/group0340_cat-0_png.rf.44baebf096c85a2d0c1fa7f01f8d2d6e.txt  \n",
            "  inflating: valid/labels/group0345_jpeg_cat-0_png.rf.55094dec934cef5cd2564ec57167fc8f.txt  \n",
            "  inflating: valid/labels/group0349_cat-0_png.rf.e0858f754b2947e6f6a416c1a66b0c26.txt  \n",
            "  inflating: valid/labels/group0382_jpeg_cat-1_png.rf.c9d67e7cc37bdb6eaf12e0ffb3cb4126.txt  \n",
            "  inflating: valid/labels/group0398_cat-0_png.rf.aa4bc5760063222b9939484773553063.txt  \n",
            "  inflating: valid/labels/group0403_jpeg_cat-0_png.rf.fa8e269ddc0be61d8194aba21e2987b3.txt  \n",
            "  inflating: valid/labels/group0411_jpeg_cat-0_png.rf.0440d479d6c603dfdf193a5f1ba9f137.txt  \n",
            "  inflating: valid/labels/group0416_cat-1_png.rf.4fe313acb8c8c78c0e8e85b2867db641.txt  \n",
            "  inflating: valid/labels/group0420_jpeg_cat-1_png.rf.d2818dd90a262ce67f9b8396c47194b3.txt  \n",
            "  inflating: valid/labels/group0535_jpeg_cat-0_png.rf.0b4dee1b6f8ab0584f2432e0b26947b5.txt  \n",
            "  inflating: valid/labels/group0592_jpeg_cat-4_png.rf.229703e509f9c471128f739308d701de.txt  \n",
            "  inflating: valid/labels/group0699_jpeg_cat-1_png.rf.84ab6426add15e458d149ba9e295b4a4.txt  \n",
            "  inflating: valid/labels/group0815_jpeg_cat-2_png.rf.cdae826d9b5349de70ffc8df0116cc9b.txt  \n",
            "  inflating: valid/labels/group0819_jpeg_cat-2_png.rf.65fc56db0e5aeb434c115fd0942a0c32.txt  \n",
            "  inflating: valid/labels/group0842_cat-8_png.rf.7a2dba94ad03f0dcd1e76ad68b34bd55.txt  \n",
            "  inflating: valid/labels/group0846_jpeg_cat-3_png.rf.1e5c21b20624105e9b327ffa5020b8da.txt  \n",
            "  inflating: valid/labels/group0856_cat-5_png.rf.bb8332beed171865f654eeb61bd1374b.txt  \n",
            "  inflating: valid/labels/group0888_cat-0_png.rf.69678f64cc9320a709d6ec147ed1d182.txt  \n",
            "  inflating: valid/labels/group0936_cat-2_png.rf.e07e8d0bf2113f53ddd58b9326592e19.txt  \n",
            "  inflating: valid/labels/group1073_png_cat-4_png.rf.5fbdbdbfd3bb8b7f8386846400011f49.txt  \n",
            "  inflating: valid/labels/group1098_jpeg_cat-1_png.rf.2c8a8c70fbf9b5ec98fe065ed23bc57c.txt  \n"
          ]
        }
      ],
      "source": [
        "!unzip feral-cat-pose-detection-7.v2i.yolov8.zip"
      ]
    },
    {
      "cell_type": "code",
      "execution_count": 1,
      "metadata": {
        "id": "47UtLo01Vkyd",
        "collapsed": true,
        "outputId": "623bfd08-c70f-4c8a-d92e-dceb4a382487",
        "colab": {
          "base_uri": "https://localhost:8080/"
        }
      },
      "outputs": [
        {
          "output_type": "stream",
          "name": "stdout",
          "text": [
            "Collecting ultralytics\n",
            "  Downloading ultralytics-8.2.82-py3-none-any.whl.metadata (41 kB)\n",
            "\u001b[?25l     \u001b[90m━━━━━━━━━━━━━━━━━━━━━━━━━━━━━━━━━━━━━━━━\u001b[0m \u001b[32m0.0/41.3 kB\u001b[0m \u001b[31m?\u001b[0m eta \u001b[36m-:--:--\u001b[0m\r\u001b[2K     \u001b[91m━━━━━━━━━━━━━━━━━━━━━━━━━━━━━━━━━━━━━━━\u001b[0m\u001b[91m╸\u001b[0m \u001b[32m41.0/41.3 kB\u001b[0m \u001b[31m72.8 MB/s\u001b[0m eta \u001b[36m0:00:01\u001b[0m\r\u001b[2K     \u001b[90m━━━━━━━━━━━━━━━━━━━━━━━━━━━━━━━━━━━━━━━━\u001b[0m \u001b[32m41.3/41.3 kB\u001b[0m \u001b[31m689.6 kB/s\u001b[0m eta \u001b[36m0:00:00\u001b[0m\n",
            "\u001b[?25hRequirement already satisfied: numpy<2.0.0,>=1.23.0 in /usr/local/lib/python3.10/dist-packages (from ultralytics) (1.26.4)\n",
            "Requirement already satisfied: matplotlib>=3.3.0 in /usr/local/lib/python3.10/dist-packages (from ultralytics) (3.7.1)\n",
            "Requirement already satisfied: opencv-python>=4.6.0 in /usr/local/lib/python3.10/dist-packages (from ultralytics) (4.10.0.84)\n",
            "Requirement already satisfied: pillow>=7.1.2 in /usr/local/lib/python3.10/dist-packages (from ultralytics) (9.4.0)\n",
            "Requirement already satisfied: pyyaml>=5.3.1 in /usr/local/lib/python3.10/dist-packages (from ultralytics) (6.0.2)\n",
            "Requirement already satisfied: requests>=2.23.0 in /usr/local/lib/python3.10/dist-packages (from ultralytics) (2.32.3)\n",
            "Requirement already satisfied: scipy>=1.4.1 in /usr/local/lib/python3.10/dist-packages (from ultralytics) (1.13.1)\n",
            "Requirement already satisfied: torch>=1.8.0 in /usr/local/lib/python3.10/dist-packages (from ultralytics) (2.4.0+cu121)\n",
            "Requirement already satisfied: torchvision>=0.9.0 in /usr/local/lib/python3.10/dist-packages (from ultralytics) (0.19.0+cu121)\n",
            "Requirement already satisfied: tqdm>=4.64.0 in /usr/local/lib/python3.10/dist-packages (from ultralytics) (4.66.5)\n",
            "Requirement already satisfied: psutil in /usr/local/lib/python3.10/dist-packages (from ultralytics) (5.9.5)\n",
            "Requirement already satisfied: py-cpuinfo in /usr/local/lib/python3.10/dist-packages (from ultralytics) (9.0.0)\n",
            "Requirement already satisfied: pandas>=1.1.4 in /usr/local/lib/python3.10/dist-packages (from ultralytics) (2.1.4)\n",
            "Requirement already satisfied: seaborn>=0.11.0 in /usr/local/lib/python3.10/dist-packages (from ultralytics) (0.13.1)\n",
            "Collecting ultralytics-thop>=2.0.0 (from ultralytics)\n",
            "  Downloading ultralytics_thop-2.0.5-py3-none-any.whl.metadata (8.9 kB)\n",
            "Requirement already satisfied: contourpy>=1.0.1 in /usr/local/lib/python3.10/dist-packages (from matplotlib>=3.3.0->ultralytics) (1.2.1)\n",
            "Requirement already satisfied: cycler>=0.10 in /usr/local/lib/python3.10/dist-packages (from matplotlib>=3.3.0->ultralytics) (0.12.1)\n",
            "Requirement already satisfied: fonttools>=4.22.0 in /usr/local/lib/python3.10/dist-packages (from matplotlib>=3.3.0->ultralytics) (4.53.1)\n",
            "Requirement already satisfied: kiwisolver>=1.0.1 in /usr/local/lib/python3.10/dist-packages (from matplotlib>=3.3.0->ultralytics) (1.4.5)\n",
            "Requirement already satisfied: packaging>=20.0 in /usr/local/lib/python3.10/dist-packages (from matplotlib>=3.3.0->ultralytics) (24.1)\n",
            "Requirement already satisfied: pyparsing>=2.3.1 in /usr/local/lib/python3.10/dist-packages (from matplotlib>=3.3.0->ultralytics) (3.1.2)\n",
            "Requirement already satisfied: python-dateutil>=2.7 in /usr/local/lib/python3.10/dist-packages (from matplotlib>=3.3.0->ultralytics) (2.8.2)\n",
            "Requirement already satisfied: pytz>=2020.1 in /usr/local/lib/python3.10/dist-packages (from pandas>=1.1.4->ultralytics) (2024.1)\n",
            "Requirement already satisfied: tzdata>=2022.1 in /usr/local/lib/python3.10/dist-packages (from pandas>=1.1.4->ultralytics) (2024.1)\n",
            "Requirement already satisfied: charset-normalizer<4,>=2 in /usr/local/lib/python3.10/dist-packages (from requests>=2.23.0->ultralytics) (3.3.2)\n",
            "Requirement already satisfied: idna<4,>=2.5 in /usr/local/lib/python3.10/dist-packages (from requests>=2.23.0->ultralytics) (3.7)\n",
            "Requirement already satisfied: urllib3<3,>=1.21.1 in /usr/local/lib/python3.10/dist-packages (from requests>=2.23.0->ultralytics) (2.0.7)\n",
            "Requirement already satisfied: certifi>=2017.4.17 in /usr/local/lib/python3.10/dist-packages (from requests>=2.23.0->ultralytics) (2024.7.4)\n",
            "Requirement already satisfied: filelock in /usr/local/lib/python3.10/dist-packages (from torch>=1.8.0->ultralytics) (3.15.4)\n",
            "Requirement already satisfied: typing-extensions>=4.8.0 in /usr/local/lib/python3.10/dist-packages (from torch>=1.8.0->ultralytics) (4.12.2)\n",
            "Requirement already satisfied: sympy in /usr/local/lib/python3.10/dist-packages (from torch>=1.8.0->ultralytics) (1.13.2)\n",
            "Requirement already satisfied: networkx in /usr/local/lib/python3.10/dist-packages (from torch>=1.8.0->ultralytics) (3.3)\n",
            "Requirement already satisfied: jinja2 in /usr/local/lib/python3.10/dist-packages (from torch>=1.8.0->ultralytics) (3.1.4)\n",
            "Requirement already satisfied: fsspec in /usr/local/lib/python3.10/dist-packages (from torch>=1.8.0->ultralytics) (2024.6.1)\n",
            "Requirement already satisfied: six>=1.5 in /usr/local/lib/python3.10/dist-packages (from python-dateutil>=2.7->matplotlib>=3.3.0->ultralytics) (1.16.0)\n",
            "Requirement already satisfied: MarkupSafe>=2.0 in /usr/local/lib/python3.10/dist-packages (from jinja2->torch>=1.8.0->ultralytics) (2.1.5)\n",
            "Requirement already satisfied: mpmath<1.4,>=1.1.0 in /usr/local/lib/python3.10/dist-packages (from sympy->torch>=1.8.0->ultralytics) (1.3.0)\n",
            "Downloading ultralytics-8.2.82-py3-none-any.whl (871 kB)\n",
            "\u001b[2K   \u001b[90m━━━━━━━━━━━━━━━━━━━━━━━━━━━━━━━━━━━━━━━━\u001b[0m \u001b[32m871.1/871.1 kB\u001b[0m \u001b[31m16.9 MB/s\u001b[0m eta \u001b[36m0:00:00\u001b[0m\n",
            "\u001b[?25hDownloading ultralytics_thop-2.0.5-py3-none-any.whl (25 kB)\n",
            "Installing collected packages: ultralytics-thop, ultralytics\n",
            "Successfully installed ultralytics-8.2.82 ultralytics-thop-2.0.5\n"
          ]
        }
      ],
      "source": [
        "!pip install ultralytics"
      ]
    },
    {
      "cell_type": "code",
      "execution_count": 2,
      "metadata": {
        "id": "YK6JtxdMVq-E"
      },
      "outputs": [],
      "source": [
        "from ultralytics import YOLO\n",
        "from matplotlib import pyplot as plt\n",
        "from PIL import Image"
      ]
    },
    {
      "cell_type": "code",
      "source": [
        "!cat /content/data3/data.yaml"
      ],
      "metadata": {
        "id": "W5mPK-4rc2Wb",
        "outputId": "3d18194d-8e3b-4aef-d04a-dd87f757619d",
        "colab": {
          "base_uri": "https://localhost:8080/"
        }
      },
      "execution_count": 5,
      "outputs": [
        {
          "output_type": "stream",
          "name": "stdout",
          "text": [
            "train: /content/train/images\n",
            "val: /content/valid/images\n",
            "test: /content/test/images\n",
            "\n",
            "kpt_shape: [6, 3]\n",
            "flip_idx: [0, 1, 2, 3, 4, 5]\n",
            "\n",
            "nc: 1\n",
            "names: ['cat']\n",
            "\n",
            "roboflow:\n",
            "  workspace: feralcatposeestimation\n",
            "  project: feral-cat-pose-detection-7\n",
            "  version: 2\n",
            "  license: CC BY 4.0\n",
            "  url: https://universe.roboflow.com/feralcatposeestimation/feral-cat-pose-detection-7/dataset/2\n"
          ]
        }
      ]
    },
    {
      "cell_type": "code",
      "execution_count": 6,
      "metadata": {
        "colab": {
          "base_uri": "https://localhost:8080/"
        },
        "id": "En0tAD0AVxa1",
        "outputId": "3b4d0aa0-2632-4344-9caa-322a17f589d9"
      },
      "outputs": [
        {
          "output_type": "stream",
          "name": "stdout",
          "text": [
            "Ultralytics YOLOv8.2.82 🚀 Python-3.10.12 torch-2.4.0+cu121 CUDA:0 (Tesla T4, 15102MiB)\n",
            "\u001b[34m\u001b[1mengine/trainer: \u001b[0mtask=pose, mode=train, model=yolov8m-pose.yaml, data=/content/data3/data.yaml, epochs=200, time=None, patience=40, batch=4, imgsz=640, save=True, save_period=-1, cache=False, device=None, workers=8, project=/content/data3/results, name=200-epochs-, exist_ok=False, pretrained=True, optimizer=auto, verbose=True, seed=0, deterministic=True, single_cls=False, rect=False, cos_lr=False, close_mosaic=10, resume=False, amp=True, fraction=1.0, profile=False, freeze=None, multi_scale=False, overlap_mask=True, mask_ratio=4, dropout=0.0, val=True, split=val, save_json=False, save_hybrid=False, conf=None, iou=0.7, max_det=300, half=False, dnn=False, plots=True, source=None, vid_stride=1, stream_buffer=False, visualize=False, augment=False, agnostic_nms=False, classes=None, retina_masks=False, embed=None, show=False, save_frames=False, save_txt=False, save_conf=False, save_crop=False, show_labels=True, show_conf=True, show_boxes=True, line_width=None, format=torchscript, keras=False, optimize=False, int8=False, dynamic=False, simplify=False, opset=None, workspace=4, nms=False, lr0=0.01, lrf=0.01, momentum=0.937, weight_decay=0.0005, warmup_epochs=3.0, warmup_momentum=0.8, warmup_bias_lr=0.1, box=7.5, cls=0.5, dfl=1.5, pose=12.0, kobj=1.0, label_smoothing=0.0, nbs=64, hsv_h=0.015, hsv_s=0.7, hsv_v=0.4, degrees=0.0, translate=0.1, scale=0.5, shear=0.0, perspective=0.0, flipud=0.0, fliplr=0.5, bgr=0.0, mosaic=1.0, mixup=0.0, copy_paste=0.0, auto_augment=randaugment, erasing=0.4, crop_fraction=1.0, cfg=None, tracker=botsort.yaml, save_dir=/content/data3/results/200-epochs-\n",
            "Downloading https://ultralytics.com/assets/Arial.ttf to '/root/.config/Ultralytics/Arial.ttf'...\n"
          ]
        },
        {
          "output_type": "stream",
          "name": "stderr",
          "text": [
            "100%|██████████| 755k/755k [00:00<00:00, 19.4MB/s]\n"
          ]
        },
        {
          "output_type": "stream",
          "name": "stdout",
          "text": [
            "Overriding model.yaml kpt_shape=[17, 3] with kpt_shape=[6, 3]\n",
            "\n",
            "                   from  n    params  module                                       arguments                     \n",
            "  0                  -1  1      1392  ultralytics.nn.modules.conv.Conv             [3, 48, 3, 2]                 \n",
            "  1                  -1  1     41664  ultralytics.nn.modules.conv.Conv             [48, 96, 3, 2]                \n",
            "  2                  -1  2    111360  ultralytics.nn.modules.block.C2f             [96, 96, 2, True]             \n",
            "  3                  -1  1    166272  ultralytics.nn.modules.conv.Conv             [96, 192, 3, 2]               \n",
            "  4                  -1  4    813312  ultralytics.nn.modules.block.C2f             [192, 192, 4, True]           \n",
            "  5                  -1  1    664320  ultralytics.nn.modules.conv.Conv             [192, 384, 3, 2]              \n",
            "  6                  -1  4   3248640  ultralytics.nn.modules.block.C2f             [384, 384, 4, True]           \n",
            "  7                  -1  1   1991808  ultralytics.nn.modules.conv.Conv             [384, 576, 3, 2]              \n",
            "  8                  -1  2   3985920  ultralytics.nn.modules.block.C2f             [576, 576, 2, True]           \n",
            "  9                  -1  1    831168  ultralytics.nn.modules.block.SPPF            [576, 576, 5]                 \n",
            " 10                  -1  1         0  torch.nn.modules.upsampling.Upsample         [None, 2, 'nearest']          \n",
            " 11             [-1, 6]  1         0  ultralytics.nn.modules.conv.Concat           [1]                           \n",
            " 12                  -1  2   1993728  ultralytics.nn.modules.block.C2f             [960, 384, 2]                 \n",
            " 13                  -1  1         0  torch.nn.modules.upsampling.Upsample         [None, 2, 'nearest']          \n",
            " 14             [-1, 4]  1         0  ultralytics.nn.modules.conv.Concat           [1]                           \n",
            " 15                  -1  2    517632  ultralytics.nn.modules.block.C2f             [576, 192, 2]                 \n",
            " 16                  -1  1    332160  ultralytics.nn.modules.conv.Conv             [192, 192, 3, 2]              \n",
            " 17            [-1, 12]  1         0  ultralytics.nn.modules.conv.Concat           [1]                           \n",
            " 18                  -1  2   1846272  ultralytics.nn.modules.block.C2f             [576, 384, 2]                 \n",
            " 19                  -1  1   1327872  ultralytics.nn.modules.conv.Conv             [384, 384, 3, 2]              \n",
            " 20             [-1, 9]  1         0  ultralytics.nn.modules.conv.Concat           [1]                           \n",
            " 21                  -1  2   4207104  ultralytics.nn.modules.block.C2f             [960, 576, 2]                 \n",
            " 22        [15, 18, 21]  1   4339369  ultralytics.nn.modules.head.Pose             [1, [6, 3], [192, 384, 576]]  \n",
            "YOLOv8m-pose summary: 320 layers, 26,419,993 parameters, 26,419,977 gradients, 81.2 GFLOPs\n",
            "\n",
            "\u001b[34m\u001b[1mTensorBoard: \u001b[0mStart with 'tensorboard --logdir /content/data3/results/200-epochs-', view at http://localhost:6006/\n",
            "Freezing layer 'model.22.dfl.conv.weight'\n",
            "\u001b[34m\u001b[1mAMP: \u001b[0mrunning Automatic Mixed Precision (AMP) checks with YOLOv8n...\n",
            "Downloading https://github.com/ultralytics/assets/releases/download/v8.2.0/yolov8n.pt to 'yolov8n.pt'...\n"
          ]
        },
        {
          "output_type": "stream",
          "name": "stderr",
          "text": [
            "100%|██████████| 6.25M/6.25M [00:00<00:00, 94.4MB/s]\n"
          ]
        },
        {
          "output_type": "stream",
          "name": "stdout",
          "text": [
            "\u001b[34m\u001b[1mAMP: \u001b[0mchecks passed ✅\n"
          ]
        },
        {
          "output_type": "stream",
          "name": "stderr",
          "text": [
            "/usr/local/lib/python3.10/dist-packages/ultralytics/engine/trainer.py:268: FutureWarning: `torch.cuda.amp.GradScaler(args...)` is deprecated. Please use `torch.amp.GradScaler('cuda', args...)` instead.\n",
            "  self.scaler = torch.cuda.amp.GradScaler(enabled=self.amp)\n",
            "\u001b[34m\u001b[1mtrain: \u001b[0mScanning /content/train/labels... 210 images, 0 backgrounds, 0 corrupt: 100%|██████████| 210/210 [00:00<00:00, 1733.58it/s]"
          ]
        },
        {
          "output_type": "stream",
          "name": "stdout",
          "text": [
            "\u001b[34m\u001b[1mtrain: \u001b[0mNew cache created: /content/train/labels.cache\n"
          ]
        },
        {
          "output_type": "stream",
          "name": "stderr",
          "text": [
            "\n"
          ]
        },
        {
          "output_type": "stream",
          "name": "stdout",
          "text": [
            "\u001b[34m\u001b[1malbumentations: \u001b[0mBlur(p=0.01, blur_limit=(3, 7)), MedianBlur(p=0.01, blur_limit=(3, 7)), ToGray(p=0.01), CLAHE(p=0.01, clip_limit=(1, 4.0), tile_grid_size=(8, 8))\n"
          ]
        },
        {
          "output_type": "stream",
          "name": "stderr",
          "text": [
            "/usr/lib/python3.10/multiprocessing/popen_fork.py:66: RuntimeWarning: os.fork() was called. os.fork() is incompatible with multithreaded code, and JAX is multithreaded, so this will likely lead to a deadlock.\n",
            "  self.pid = os.fork()\n",
            "\u001b[34m\u001b[1mval: \u001b[0mScanning /content/valid/labels... 60 images, 0 backgrounds, 0 corrupt: 100%|██████████| 60/60 [00:00<00:00, 1473.49it/s]"
          ]
        },
        {
          "output_type": "stream",
          "name": "stdout",
          "text": [
            "\u001b[34m\u001b[1mval: \u001b[0mNew cache created: /content/valid/labels.cache\n"
          ]
        },
        {
          "output_type": "stream",
          "name": "stderr",
          "text": [
            "\n",
            "/usr/lib/python3.10/multiprocessing/popen_fork.py:66: RuntimeWarning: os.fork() was called. os.fork() is incompatible with multithreaded code, and JAX is multithreaded, so this will likely lead to a deadlock.\n",
            "  self.pid = os.fork()\n"
          ]
        },
        {
          "output_type": "stream",
          "name": "stdout",
          "text": [
            "Plotting labels to /content/data3/results/200-epochs-/labels.jpg... \n",
            "\u001b[34m\u001b[1moptimizer:\u001b[0m 'optimizer=auto' found, ignoring 'lr0=0.01' and 'momentum=0.937' and determining best 'optimizer', 'lr0' and 'momentum' automatically... \n",
            "\u001b[34m\u001b[1moptimizer:\u001b[0m AdamW(lr=0.002, momentum=0.9) with parameter groups 83 weight(decay=0.0), 93 weight(decay=0.0005), 92 bias(decay=0.0)\n",
            "\u001b[34m\u001b[1mTensorBoard: \u001b[0mmodel graph visualization added ✅\n",
            "Image sizes 640 train, 640 val\n",
            "Using 2 dataloader workers\n",
            "Logging results to \u001b[1m/content/data3/results/200-epochs-\u001b[0m\n",
            "Starting training for 200 epochs...\n",
            "\n",
            "      Epoch    GPU_mem   box_loss  pose_loss  kobj_loss   cls_loss   dfl_loss  Instances       Size\n"
          ]
        },
        {
          "output_type": "stream",
          "name": "stderr",
          "text": [
            "      1/200      2.51G      3.026      3.897     0.7132      2.912      4.145          7        640: 100%|██████████| 53/53 [00:27<00:00,  1.93it/s]\n",
            "                 Class     Images  Instances      Box(P          R      mAP50  mAP50-95)     Pose(P          R      mAP50  mAP50-95): 100%|██████████| 8/8 [00:03<00:00,  2.65it/s]"
          ]
        },
        {
          "output_type": "stream",
          "name": "stdout",
          "text": [
            "                   all         60         60    0.00333          1      0.116     0.0231    0.00333          1      0.285      0.123\n"
          ]
        },
        {
          "output_type": "stream",
          "name": "stderr",
          "text": [
            "\n"
          ]
        },
        {
          "output_type": "stream",
          "name": "stdout",
          "text": [
            "\n",
            "      Epoch    GPU_mem   box_loss  pose_loss  kobj_loss   cls_loss   dfl_loss  Instances       Size\n"
          ]
        },
        {
          "output_type": "stream",
          "name": "stderr",
          "text": [
            "      2/200      2.15G       2.93      3.445     0.6871      2.846      3.963          6        640: 100%|██████████| 53/53 [00:22<00:00,  2.32it/s]\n",
            "                 Class     Images  Instances      Box(P          R      mAP50  mAP50-95)     Pose(P          R      mAP50  mAP50-95): 100%|██████████| 8/8 [00:02<00:00,  2.86it/s]"
          ]
        },
        {
          "output_type": "stream",
          "name": "stdout",
          "text": [
            "                   all         60         60     0.0142          1       0.03    0.00793     0.0599        0.3     0.0441     0.0146\n"
          ]
        },
        {
          "output_type": "stream",
          "name": "stderr",
          "text": [
            "\n"
          ]
        },
        {
          "output_type": "stream",
          "name": "stdout",
          "text": [
            "\n",
            "      Epoch    GPU_mem   box_loss  pose_loss  kobj_loss   cls_loss   dfl_loss  Instances       Size\n"
          ]
        },
        {
          "output_type": "stream",
          "name": "stderr",
          "text": [
            "      3/200      2.26G      2.748      3.312     0.6666      2.681      3.737          6        640: 100%|██████████| 53/53 [00:24<00:00,  2.19it/s]\n",
            "                 Class     Images  Instances      Box(P          R      mAP50  mAP50-95)     Pose(P          R      mAP50  mAP50-95): 100%|██████████| 8/8 [00:02<00:00,  2.74it/s]"
          ]
        },
        {
          "output_type": "stream",
          "name": "stdout",
          "text": [
            "                   all         60         60      0.265      0.967      0.951      0.216      0.146      0.533      0.187      0.044\n"
          ]
        },
        {
          "output_type": "stream",
          "name": "stderr",
          "text": [
            "\n"
          ]
        },
        {
          "output_type": "stream",
          "name": "stdout",
          "text": [
            "\n",
            "      Epoch    GPU_mem   box_loss  pose_loss  kobj_loss   cls_loss   dfl_loss  Instances       Size\n"
          ]
        },
        {
          "output_type": "stream",
          "name": "stderr",
          "text": [
            "      4/200      2.15G      2.589      3.638     0.6619      2.658      3.535          8        640: 100%|██████████| 53/53 [00:22<00:00,  2.30it/s]\n",
            "                 Class     Images  Instances      Box(P          R      mAP50  mAP50-95)     Pose(P          R      mAP50  mAP50-95): 100%|██████████| 8/8 [00:02<00:00,  3.56it/s]"
          ]
        },
        {
          "output_type": "stream",
          "name": "stdout",
          "text": [
            "                   all         60         60      0.429      0.589       0.53      0.146      0.232      0.333      0.215     0.0838\n"
          ]
        },
        {
          "output_type": "stream",
          "name": "stderr",
          "text": [
            "\n"
          ]
        },
        {
          "output_type": "stream",
          "name": "stdout",
          "text": [
            "\n",
            "      Epoch    GPU_mem   box_loss  pose_loss  kobj_loss   cls_loss   dfl_loss  Instances       Size\n"
          ]
        },
        {
          "output_type": "stream",
          "name": "stderr",
          "text": [
            "      5/200      2.25G      2.526      3.421     0.6497      2.616      3.339          9        640: 100%|██████████| 53/53 [00:19<00:00,  2.68it/s]\n",
            "                 Class     Images  Instances      Box(P          R      mAP50  mAP50-95)     Pose(P          R      mAP50  mAP50-95): 100%|██████████| 8/8 [00:03<00:00,  2.60it/s]"
          ]
        },
        {
          "output_type": "stream",
          "name": "stdout",
          "text": [
            "                   all         60         60      0.473       0.55      0.507      0.139      0.181      0.283      0.173     0.0671\n"
          ]
        },
        {
          "output_type": "stream",
          "name": "stderr",
          "text": [
            "\n"
          ]
        },
        {
          "output_type": "stream",
          "name": "stdout",
          "text": [
            "\n",
            "      Epoch    GPU_mem   box_loss  pose_loss  kobj_loss   cls_loss   dfl_loss  Instances       Size\n"
          ]
        },
        {
          "output_type": "stream",
          "name": "stderr",
          "text": [
            "      6/200      2.25G      2.334      3.261     0.6143      2.532      3.105          4        640: 100%|██████████| 53/53 [00:18<00:00,  2.88it/s]\n",
            "                 Class     Images  Instances      Box(P          R      mAP50  mAP50-95)     Pose(P          R      mAP50  mAP50-95): 100%|██████████| 8/8 [00:02<00:00,  2.73it/s]"
          ]
        },
        {
          "output_type": "stream",
          "name": "stdout",
          "text": [
            "                   all         60         60      0.421      0.702       0.59      0.291      0.197      0.494      0.234     0.0954\n"
          ]
        },
        {
          "output_type": "stream",
          "name": "stderr",
          "text": [
            "\n"
          ]
        },
        {
          "output_type": "stream",
          "name": "stdout",
          "text": [
            "\n",
            "      Epoch    GPU_mem   box_loss  pose_loss  kobj_loss   cls_loss   dfl_loss  Instances       Size\n"
          ]
        },
        {
          "output_type": "stream",
          "name": "stderr",
          "text": [
            "      7/200      2.25G      2.188      3.147      0.603      2.405      2.943          6        640: 100%|██████████| 53/53 [00:23<00:00,  2.22it/s]\n",
            "                 Class     Images  Instances      Box(P          R      mAP50  mAP50-95)     Pose(P          R      mAP50  mAP50-95): 100%|██████████| 8/8 [00:03<00:00,  2.65it/s]"
          ]
        },
        {
          "output_type": "stream",
          "name": "stdout",
          "text": [
            "                   all         60         60      0.629        0.4      0.435      0.185      0.242      0.217      0.231     0.0859\n"
          ]
        },
        {
          "output_type": "stream",
          "name": "stderr",
          "text": [
            "\n"
          ]
        },
        {
          "output_type": "stream",
          "name": "stdout",
          "text": [
            "\n",
            "      Epoch    GPU_mem   box_loss  pose_loss  kobj_loss   cls_loss   dfl_loss  Instances       Size\n"
          ]
        },
        {
          "output_type": "stream",
          "name": "stderr",
          "text": [
            "      8/200      2.25G      2.105      3.136     0.6104      2.342      2.808          6        640: 100%|██████████| 53/53 [00:23<00:00,  2.22it/s]\n",
            "                 Class     Images  Instances      Box(P          R      mAP50  mAP50-95)     Pose(P          R      mAP50  mAP50-95): 100%|██████████| 8/8 [00:02<00:00,  2.89it/s]"
          ]
        },
        {
          "output_type": "stream",
          "name": "stdout",
          "text": [
            "                   all         60         60      0.624      0.747      0.699      0.368      0.376      0.462      0.301      0.127\n"
          ]
        },
        {
          "output_type": "stream",
          "name": "stderr",
          "text": [
            "\n"
          ]
        },
        {
          "output_type": "stream",
          "name": "stdout",
          "text": [
            "\n",
            "      Epoch    GPU_mem   box_loss  pose_loss  kobj_loss   cls_loss   dfl_loss  Instances       Size\n"
          ]
        },
        {
          "output_type": "stream",
          "name": "stderr",
          "text": [
            "      9/200      2.25G      1.998       3.27     0.5941      2.341      2.736          6        640: 100%|██████████| 53/53 [00:24<00:00,  2.16it/s]\n",
            "                 Class     Images  Instances      Box(P          R      mAP50  mAP50-95)     Pose(P          R      mAP50  mAP50-95): 100%|██████████| 8/8 [00:02<00:00,  3.63it/s]"
          ]
        },
        {
          "output_type": "stream",
          "name": "stdout",
          "text": [
            "                   all         60         60      0.647      0.733      0.754      0.591      0.394       0.45      0.328      0.124\n"
          ]
        },
        {
          "output_type": "stream",
          "name": "stderr",
          "text": [
            "\n"
          ]
        },
        {
          "output_type": "stream",
          "name": "stdout",
          "text": [
            "\n",
            "      Epoch    GPU_mem   box_loss  pose_loss  kobj_loss   cls_loss   dfl_loss  Instances       Size\n"
          ]
        },
        {
          "output_type": "stream",
          "name": "stderr",
          "text": [
            "     10/200      2.24G      1.953      3.331      0.612      2.239      2.613          4        640: 100%|██████████| 53/53 [00:18<00:00,  2.92it/s]\n",
            "                 Class     Images  Instances      Box(P          R      mAP50  mAP50-95)     Pose(P          R      mAP50  mAP50-95): 100%|██████████| 8/8 [00:02<00:00,  3.27it/s]"
          ]
        },
        {
          "output_type": "stream",
          "name": "stdout",
          "text": [
            "                   all         60         60       0.78      0.709       0.83      0.566      0.255      0.567      0.252      0.101\n"
          ]
        },
        {
          "output_type": "stream",
          "name": "stderr",
          "text": [
            "\n"
          ]
        },
        {
          "output_type": "stream",
          "name": "stdout",
          "text": [
            "\n",
            "      Epoch    GPU_mem   box_loss  pose_loss  kobj_loss   cls_loss   dfl_loss  Instances       Size\n"
          ]
        },
        {
          "output_type": "stream",
          "name": "stderr",
          "text": [
            "     11/200      2.23G      1.845       3.23     0.5885      2.168      2.553          3        640: 100%|██████████| 53/53 [00:17<00:00,  2.95it/s]\n",
            "                 Class     Images  Instances      Box(P          R      mAP50  mAP50-95)     Pose(P          R      mAP50  mAP50-95): 100%|██████████| 8/8 [00:02<00:00,  2.85it/s]"
          ]
        },
        {
          "output_type": "stream",
          "name": "stdout",
          "text": [
            "                   all         60         60      0.234      0.467      0.251      0.102      0.166      0.549      0.176     0.0628\n"
          ]
        },
        {
          "output_type": "stream",
          "name": "stderr",
          "text": [
            "\n"
          ]
        },
        {
          "output_type": "stream",
          "name": "stdout",
          "text": [
            "\n",
            "      Epoch    GPU_mem   box_loss  pose_loss  kobj_loss   cls_loss   dfl_loss  Instances       Size\n"
          ]
        },
        {
          "output_type": "stream",
          "name": "stderr",
          "text": [
            "     12/200      2.25G      1.841      3.217     0.6293      2.091      2.534          7        640: 100%|██████████| 53/53 [00:23<00:00,  2.30it/s]\n",
            "                 Class     Images  Instances      Box(P          R      mAP50  mAP50-95)     Pose(P          R      mAP50  mAP50-95): 100%|██████████| 8/8 [00:02<00:00,  3.66it/s]"
          ]
        },
        {
          "output_type": "stream",
          "name": "stdout",
          "text": [
            "                   all         60         60      0.749       0.75      0.775       0.49      0.299      0.367      0.258     0.0995\n"
          ]
        },
        {
          "output_type": "stream",
          "name": "stderr",
          "text": [
            "\n"
          ]
        },
        {
          "output_type": "stream",
          "name": "stdout",
          "text": [
            "\n",
            "      Epoch    GPU_mem   box_loss  pose_loss  kobj_loss   cls_loss   dfl_loss  Instances       Size\n"
          ]
        },
        {
          "output_type": "stream",
          "name": "stderr",
          "text": [
            "     13/200      2.25G      1.846      3.133     0.6016      2.041       2.49          6        640: 100%|██████████| 53/53 [00:21<00:00,  2.47it/s]\n",
            "                 Class     Images  Instances      Box(P          R      mAP50  mAP50-95)     Pose(P          R      mAP50  mAP50-95): 100%|██████████| 8/8 [00:02<00:00,  3.71it/s]"
          ]
        },
        {
          "output_type": "stream",
          "name": "stdout",
          "text": [
            "                   all         60         60      0.622      0.783      0.762      0.449      0.164      0.583      0.202     0.0923\n"
          ]
        },
        {
          "output_type": "stream",
          "name": "stderr",
          "text": [
            "\n"
          ]
        },
        {
          "output_type": "stream",
          "name": "stdout",
          "text": [
            "\n",
            "      Epoch    GPU_mem   box_loss  pose_loss  kobj_loss   cls_loss   dfl_loss  Instances       Size\n"
          ]
        },
        {
          "output_type": "stream",
          "name": "stderr",
          "text": [
            "     14/200      2.24G      1.723      3.167     0.5999      2.003      2.368          7        640: 100%|██████████| 53/53 [00:21<00:00,  2.41it/s]\n",
            "                 Class     Images  Instances      Box(P          R      mAP50  mAP50-95)     Pose(P          R      mAP50  mAP50-95): 100%|██████████| 8/8 [00:01<00:00,  5.06it/s]"
          ]
        },
        {
          "output_type": "stream",
          "name": "stdout",
          "text": [
            "                   all         60         60        0.3      0.983      0.625      0.391       0.22      0.767      0.245      0.108\n"
          ]
        },
        {
          "output_type": "stream",
          "name": "stderr",
          "text": [
            "\n"
          ]
        },
        {
          "output_type": "stream",
          "name": "stdout",
          "text": [
            "\n",
            "      Epoch    GPU_mem   box_loss  pose_loss  kobj_loss   cls_loss   dfl_loss  Instances       Size\n"
          ]
        },
        {
          "output_type": "stream",
          "name": "stderr",
          "text": [
            "     15/200      2.24G      1.667      3.105     0.6023      1.955      2.361          8        640: 100%|██████████| 53/53 [00:25<00:00,  2.12it/s]\n",
            "                 Class     Images  Instances      Box(P          R      mAP50  mAP50-95)     Pose(P          R      mAP50  mAP50-95): 100%|██████████| 8/8 [00:02<00:00,  3.64it/s]"
          ]
        },
        {
          "output_type": "stream",
          "name": "stdout",
          "text": [
            "                   all         60         60       0.42      0.767      0.572      0.389      0.198      0.567      0.229        0.1\n"
          ]
        },
        {
          "output_type": "stream",
          "name": "stderr",
          "text": [
            "\n"
          ]
        },
        {
          "output_type": "stream",
          "name": "stdout",
          "text": [
            "\n",
            "      Epoch    GPU_mem   box_loss  pose_loss  kobj_loss   cls_loss   dfl_loss  Instances       Size\n"
          ]
        },
        {
          "output_type": "stream",
          "name": "stderr",
          "text": [
            "     16/200      2.25G      1.655      3.248     0.5976      1.883      2.324          8        640: 100%|██████████| 53/53 [00:25<00:00,  2.04it/s]\n",
            "                 Class     Images  Instances      Box(P          R      mAP50  mAP50-95)     Pose(P          R      mAP50  mAP50-95): 100%|██████████| 8/8 [00:01<00:00,  4.44it/s]"
          ]
        },
        {
          "output_type": "stream",
          "name": "stdout",
          "text": [
            "                   all         60         60      0.347       0.95        0.7       0.53      0.205      0.617      0.233      0.116\n"
          ]
        },
        {
          "output_type": "stream",
          "name": "stderr",
          "text": [
            "\n"
          ]
        },
        {
          "output_type": "stream",
          "name": "stdout",
          "text": [
            "\n",
            "      Epoch    GPU_mem   box_loss  pose_loss  kobj_loss   cls_loss   dfl_loss  Instances       Size\n"
          ]
        },
        {
          "output_type": "stream",
          "name": "stderr",
          "text": [
            "     17/200      2.25G      1.613      2.946     0.5898      1.873      2.244          6        640: 100%|██████████| 53/53 [00:22<00:00,  2.40it/s]\n",
            "                 Class     Images  Instances      Box(P          R      mAP50  mAP50-95)     Pose(P          R      mAP50  mAP50-95): 100%|██████████| 8/8 [00:02<00:00,  3.67it/s]"
          ]
        },
        {
          "output_type": "stream",
          "name": "stdout",
          "text": [
            "                   all         60         60      0.692        0.8      0.878        0.7      0.288      0.467      0.283      0.109\n"
          ]
        },
        {
          "output_type": "stream",
          "name": "stderr",
          "text": [
            "\n"
          ]
        },
        {
          "output_type": "stream",
          "name": "stdout",
          "text": [
            "\n",
            "      Epoch    GPU_mem   box_loss  pose_loss  kobj_loss   cls_loss   dfl_loss  Instances       Size\n"
          ]
        },
        {
          "output_type": "stream",
          "name": "stderr",
          "text": [
            "     18/200      2.24G      1.628      2.975     0.5886      1.846      2.288          6        640: 100%|██████████| 53/53 [00:21<00:00,  2.52it/s]\n",
            "                 Class     Images  Instances      Box(P          R      mAP50  mAP50-95)     Pose(P          R      mAP50  mAP50-95): 100%|██████████| 8/8 [00:02<00:00,  3.65it/s]"
          ]
        },
        {
          "output_type": "stream",
          "name": "stdout",
          "text": [
            "                   all         60         60      0.852      0.733      0.892      0.705      0.287      0.583      0.331       0.14\n"
          ]
        },
        {
          "output_type": "stream",
          "name": "stderr",
          "text": [
            "\n"
          ]
        },
        {
          "output_type": "stream",
          "name": "stdout",
          "text": [
            "\n",
            "      Epoch    GPU_mem   box_loss  pose_loss  kobj_loss   cls_loss   dfl_loss  Instances       Size\n"
          ]
        },
        {
          "output_type": "stream",
          "name": "stderr",
          "text": [
            "     19/200      2.25G      1.569      2.964     0.5941      1.734      2.235          5        640: 100%|██████████| 53/53 [00:22<00:00,  2.40it/s]\n",
            "                 Class     Images  Instances      Box(P          R      mAP50  mAP50-95)     Pose(P          R      mAP50  mAP50-95): 100%|██████████| 8/8 [00:02<00:00,  3.43it/s]"
          ]
        },
        {
          "output_type": "stream",
          "name": "stdout",
          "text": [
            "                   all         60         60      0.783      0.967      0.944       0.77      0.345      0.483      0.308      0.119\n"
          ]
        },
        {
          "output_type": "stream",
          "name": "stderr",
          "text": [
            "\n"
          ]
        },
        {
          "output_type": "stream",
          "name": "stdout",
          "text": [
            "\n",
            "      Epoch    GPU_mem   box_loss  pose_loss  kobj_loss   cls_loss   dfl_loss  Instances       Size\n"
          ]
        },
        {
          "output_type": "stream",
          "name": "stderr",
          "text": [
            "     20/200      2.15G      1.576      2.953     0.5728      1.744      2.202          7        640: 100%|██████████| 53/53 [00:24<00:00,  2.13it/s]\n",
            "                 Class     Images  Instances      Box(P          R      mAP50  mAP50-95)     Pose(P          R      mAP50  mAP50-95): 100%|██████████| 8/8 [00:02<00:00,  3.57it/s]"
          ]
        },
        {
          "output_type": "stream",
          "name": "stdout",
          "text": [
            "                   all         60         60      0.499      0.683      0.684      0.497      0.307        0.5      0.315     0.0984\n"
          ]
        },
        {
          "output_type": "stream",
          "name": "stderr",
          "text": [
            "\n"
          ]
        },
        {
          "output_type": "stream",
          "name": "stdout",
          "text": [
            "\n",
            "      Epoch    GPU_mem   box_loss  pose_loss  kobj_loss   cls_loss   dfl_loss  Instances       Size\n"
          ]
        },
        {
          "output_type": "stream",
          "name": "stderr",
          "text": [
            "     21/200      2.24G      1.483      3.133     0.6033      1.676      2.135          5        640: 100%|██████████| 53/53 [00:22<00:00,  2.35it/s]\n",
            "                 Class     Images  Instances      Box(P          R      mAP50  mAP50-95)     Pose(P          R      mAP50  mAP50-95): 100%|██████████| 8/8 [00:02<00:00,  2.86it/s]"
          ]
        },
        {
          "output_type": "stream",
          "name": "stdout",
          "text": [
            "                   all         60         60      0.628      0.867       0.91      0.688      0.351      0.517       0.39      0.147\n"
          ]
        },
        {
          "output_type": "stream",
          "name": "stderr",
          "text": [
            "\n"
          ]
        },
        {
          "output_type": "stream",
          "name": "stdout",
          "text": [
            "\n",
            "      Epoch    GPU_mem   box_loss  pose_loss  kobj_loss   cls_loss   dfl_loss  Instances       Size\n"
          ]
        },
        {
          "output_type": "stream",
          "name": "stderr",
          "text": [
            "     22/200      2.24G      1.451      3.078      0.573      1.603      2.104          6        640: 100%|██████████| 53/53 [00:16<00:00,  3.25it/s]\n",
            "                 Class     Images  Instances      Box(P          R      mAP50  mAP50-95)     Pose(P          R      mAP50  mAP50-95): 100%|██████████| 8/8 [00:02<00:00,  2.86it/s]"
          ]
        },
        {
          "output_type": "stream",
          "name": "stdout",
          "text": [
            "                   all         60         60      0.883      0.817      0.938      0.784      0.378      0.467      0.322      0.125\n"
          ]
        },
        {
          "output_type": "stream",
          "name": "stderr",
          "text": [
            "\n"
          ]
        },
        {
          "output_type": "stream",
          "name": "stdout",
          "text": [
            "\n",
            "      Epoch    GPU_mem   box_loss  pose_loss  kobj_loss   cls_loss   dfl_loss  Instances       Size\n"
          ]
        },
        {
          "output_type": "stream",
          "name": "stderr",
          "text": [
            "     23/200      2.25G      1.478        3.2     0.6066      1.617      2.092          5        640: 100%|██████████| 53/53 [00:23<00:00,  2.25it/s]\n",
            "                 Class     Images  Instances      Box(P          R      mAP50  mAP50-95)     Pose(P          R      mAP50  mAP50-95): 100%|██████████| 8/8 [00:01<00:00,  5.04it/s]"
          ]
        },
        {
          "output_type": "stream",
          "name": "stdout",
          "text": [
            "                   all         60         60          1       0.96      0.991      0.876      0.457      0.449       0.31      0.126\n"
          ]
        },
        {
          "output_type": "stream",
          "name": "stderr",
          "text": [
            "\n"
          ]
        },
        {
          "output_type": "stream",
          "name": "stdout",
          "text": [
            "\n",
            "      Epoch    GPU_mem   box_loss  pose_loss  kobj_loss   cls_loss   dfl_loss  Instances       Size\n"
          ]
        },
        {
          "output_type": "stream",
          "name": "stderr",
          "text": [
            "     24/200      2.25G      1.426      3.178     0.5899      1.607      2.088          6        640: 100%|██████████| 53/53 [00:22<00:00,  2.38it/s]\n",
            "                 Class     Images  Instances      Box(P          R      mAP50  mAP50-95)     Pose(P          R      mAP50  mAP50-95): 100%|██████████| 8/8 [00:02<00:00,  2.67it/s]"
          ]
        },
        {
          "output_type": "stream",
          "name": "stdout",
          "text": [
            "                   all         60         60      0.892       0.75      0.918      0.768      0.372      0.583       0.32      0.119\n"
          ]
        },
        {
          "output_type": "stream",
          "name": "stderr",
          "text": [
            "\n"
          ]
        },
        {
          "output_type": "stream",
          "name": "stdout",
          "text": [
            "\n",
            "      Epoch    GPU_mem   box_loss  pose_loss  kobj_loss   cls_loss   dfl_loss  Instances       Size\n"
          ]
        },
        {
          "output_type": "stream",
          "name": "stderr",
          "text": [
            "     25/200      2.24G      1.397       3.02     0.5837      1.613      2.043          4        640: 100%|██████████| 53/53 [00:23<00:00,  2.22it/s]\n",
            "                 Class     Images  Instances      Box(P          R      mAP50  mAP50-95)     Pose(P          R      mAP50  mAP50-95): 100%|██████████| 8/8 [00:02<00:00,  2.76it/s]"
          ]
        },
        {
          "output_type": "stream",
          "name": "stdout",
          "text": [
            "                   all         60         60      0.979      0.785      0.927      0.819      0.402       0.35       0.29      0.131\n"
          ]
        },
        {
          "output_type": "stream",
          "name": "stderr",
          "text": [
            "\n"
          ]
        },
        {
          "output_type": "stream",
          "name": "stdout",
          "text": [
            "\n",
            "      Epoch    GPU_mem   box_loss  pose_loss  kobj_loss   cls_loss   dfl_loss  Instances       Size\n"
          ]
        },
        {
          "output_type": "stream",
          "name": "stderr",
          "text": [
            "     26/200      2.24G      1.341      3.137     0.5808        1.6      1.988          5        640: 100%|██████████| 53/53 [00:18<00:00,  2.84it/s]\n",
            "                 Class     Images  Instances      Box(P          R      mAP50  mAP50-95)     Pose(P          R      mAP50  mAP50-95): 100%|██████████| 8/8 [00:03<00:00,  2.54it/s]"
          ]
        },
        {
          "output_type": "stream",
          "name": "stdout",
          "text": [
            "                   all         60         60      0.664      0.667      0.746      0.609      0.262      0.433      0.259      0.106\n"
          ]
        },
        {
          "output_type": "stream",
          "name": "stderr",
          "text": [
            "\n"
          ]
        },
        {
          "output_type": "stream",
          "name": "stdout",
          "text": [
            "\n",
            "      Epoch    GPU_mem   box_loss  pose_loss  kobj_loss   cls_loss   dfl_loss  Instances       Size\n"
          ]
        },
        {
          "output_type": "stream",
          "name": "stderr",
          "text": [
            "     27/200      2.25G      1.365      3.013     0.5598      1.598      1.981          5        640: 100%|██████████| 53/53 [00:23<00:00,  2.24it/s]\n",
            "                 Class     Images  Instances      Box(P          R      mAP50  mAP50-95)     Pose(P          R      mAP50  mAP50-95): 100%|██████████| 8/8 [00:02<00:00,  3.95it/s]"
          ]
        },
        {
          "output_type": "stream",
          "name": "stdout",
          "text": [
            "                   all         60         60      0.976      0.783      0.887      0.849      0.395        0.4      0.284      0.132\n"
          ]
        },
        {
          "output_type": "stream",
          "name": "stderr",
          "text": [
            "\n"
          ]
        },
        {
          "output_type": "stream",
          "name": "stdout",
          "text": [
            "\n",
            "      Epoch    GPU_mem   box_loss  pose_loss  kobj_loss   cls_loss   dfl_loss  Instances       Size\n"
          ]
        },
        {
          "output_type": "stream",
          "name": "stderr",
          "text": [
            "     28/200      2.24G      1.302      3.107     0.5863      1.551      1.966          6        640: 100%|██████████| 53/53 [00:25<00:00,  2.10it/s]\n",
            "                 Class     Images  Instances      Box(P          R      mAP50  mAP50-95)     Pose(P          R      mAP50  mAP50-95): 100%|██████████| 8/8 [00:02<00:00,  2.84it/s]"
          ]
        },
        {
          "output_type": "stream",
          "name": "stdout",
          "text": [
            "                   all         60         60          1      0.887      0.952      0.843      0.415      0.366      0.317      0.131\n"
          ]
        },
        {
          "output_type": "stream",
          "name": "stderr",
          "text": [
            "\n"
          ]
        },
        {
          "output_type": "stream",
          "name": "stdout",
          "text": [
            "\n",
            "      Epoch    GPU_mem   box_loss  pose_loss  kobj_loss   cls_loss   dfl_loss  Instances       Size\n"
          ]
        },
        {
          "output_type": "stream",
          "name": "stderr",
          "text": [
            "     29/200      2.24G      1.296      3.285      0.578      1.589      1.985          7        640: 100%|██████████| 53/53 [00:24<00:00,  2.17it/s]\n",
            "                 Class     Images  Instances      Box(P          R      mAP50  mAP50-95)     Pose(P          R      mAP50  mAP50-95): 100%|██████████| 8/8 [00:02<00:00,  2.86it/s]"
          ]
        },
        {
          "output_type": "stream",
          "name": "stdout",
          "text": [
            "                   all         60         60       0.94      0.782      0.897      0.765      0.314       0.45      0.299      0.114\n"
          ]
        },
        {
          "output_type": "stream",
          "name": "stderr",
          "text": [
            "\n"
          ]
        },
        {
          "output_type": "stream",
          "name": "stdout",
          "text": [
            "\n",
            "      Epoch    GPU_mem   box_loss  pose_loss  kobj_loss   cls_loss   dfl_loss  Instances       Size\n"
          ]
        },
        {
          "output_type": "stream",
          "name": "stderr",
          "text": [
            "     30/200      2.23G      1.254      3.065     0.5562      1.563      1.916          8        640: 100%|██████████| 53/53 [00:25<00:00,  2.10it/s]\n",
            "                 Class     Images  Instances      Box(P          R      mAP50  mAP50-95)     Pose(P          R      mAP50  mAP50-95): 100%|██████████| 8/8 [00:02<00:00,  3.63it/s]"
          ]
        },
        {
          "output_type": "stream",
          "name": "stdout",
          "text": [
            "                   all         60         60      0.927      0.817      0.914      0.857      0.278      0.583      0.307       0.12\n"
          ]
        },
        {
          "output_type": "stream",
          "name": "stderr",
          "text": [
            "\n"
          ]
        },
        {
          "output_type": "stream",
          "name": "stdout",
          "text": [
            "\n",
            "      Epoch    GPU_mem   box_loss  pose_loss  kobj_loss   cls_loss   dfl_loss  Instances       Size\n"
          ]
        },
        {
          "output_type": "stream",
          "name": "stderr",
          "text": [
            "     31/200      2.24G      1.257      2.861     0.5535       1.56      1.897          7        640: 100%|██████████| 53/53 [00:21<00:00,  2.52it/s]\n",
            "                 Class     Images  Instances      Box(P          R      mAP50  mAP50-95)     Pose(P          R      mAP50  mAP50-95): 100%|██████████| 8/8 [00:02<00:00,  3.64it/s]"
          ]
        },
        {
          "output_type": "stream",
          "name": "stdout",
          "text": [
            "                   all         60         60      0.889      0.802      0.904       0.82      0.337      0.517      0.316      0.109\n"
          ]
        },
        {
          "output_type": "stream",
          "name": "stderr",
          "text": [
            "\n"
          ]
        },
        {
          "output_type": "stream",
          "name": "stdout",
          "text": [
            "\n",
            "      Epoch    GPU_mem   box_loss  pose_loss  kobj_loss   cls_loss   dfl_loss  Instances       Size\n"
          ]
        },
        {
          "output_type": "stream",
          "name": "stderr",
          "text": [
            "     32/200      2.24G      1.239      2.867     0.5441      1.546      1.872          7        640: 100%|██████████| 53/53 [00:22<00:00,  2.34it/s]\n",
            "                 Class     Images  Instances      Box(P          R      mAP50  mAP50-95)     Pose(P          R      mAP50  mAP50-95): 100%|██████████| 8/8 [00:02<00:00,  3.65it/s]"
          ]
        },
        {
          "output_type": "stream",
          "name": "stdout",
          "text": [
            "                   all         60         60      0.977      0.783      0.889      0.799       0.38       0.45      0.312      0.116\n"
          ]
        },
        {
          "output_type": "stream",
          "name": "stderr",
          "text": [
            "\n"
          ]
        },
        {
          "output_type": "stream",
          "name": "stdout",
          "text": [
            "\n",
            "      Epoch    GPU_mem   box_loss  pose_loss  kobj_loss   cls_loss   dfl_loss  Instances       Size\n"
          ]
        },
        {
          "output_type": "stream",
          "name": "stderr",
          "text": [
            "     33/200      2.24G      1.208      2.827      0.551      1.517      1.855          8        640: 100%|██████████| 53/53 [00:20<00:00,  2.55it/s]\n",
            "                 Class     Images  Instances      Box(P          R      mAP50  mAP50-95)     Pose(P          R      mAP50  mAP50-95): 100%|██████████| 8/8 [00:02<00:00,  3.64it/s]"
          ]
        },
        {
          "output_type": "stream",
          "name": "stdout",
          "text": [
            "                   all         60         60          1      0.616      0.815       0.72      0.333      0.433      0.305      0.121\n"
          ]
        },
        {
          "output_type": "stream",
          "name": "stderr",
          "text": [
            "\n"
          ]
        },
        {
          "output_type": "stream",
          "name": "stdout",
          "text": [
            "\n",
            "      Epoch    GPU_mem   box_loss  pose_loss  kobj_loss   cls_loss   dfl_loss  Instances       Size\n"
          ]
        },
        {
          "output_type": "stream",
          "name": "stderr",
          "text": [
            "     34/200      2.25G      1.229       2.91     0.5493      1.483      1.846          6        640: 100%|██████████| 53/53 [00:23<00:00,  2.21it/s]\n",
            "                 Class     Images  Instances      Box(P          R      mAP50  mAP50-95)     Pose(P          R      mAP50  mAP50-95): 100%|██████████| 8/8 [00:02<00:00,  3.64it/s]"
          ]
        },
        {
          "output_type": "stream",
          "name": "stdout",
          "text": [
            "                   all         60         60      0.983      0.683      0.869      0.766      0.551      0.333      0.404      0.126\n"
          ]
        },
        {
          "output_type": "stream",
          "name": "stderr",
          "text": [
            "\n"
          ]
        },
        {
          "output_type": "stream",
          "name": "stdout",
          "text": [
            "\n",
            "      Epoch    GPU_mem   box_loss  pose_loss  kobj_loss   cls_loss   dfl_loss  Instances       Size\n"
          ]
        },
        {
          "output_type": "stream",
          "name": "stderr",
          "text": [
            "     35/200      2.24G      1.223      2.908     0.5588      1.484       1.82          4        640: 100%|██████████| 53/53 [00:24<00:00,  2.12it/s]\n",
            "                 Class     Images  Instances      Box(P          R      mAP50  mAP50-95)     Pose(P          R      mAP50  mAP50-95): 100%|██████████| 8/8 [00:02<00:00,  3.69it/s]"
          ]
        },
        {
          "output_type": "stream",
          "name": "stdout",
          "text": [
            "                   all         60         60      0.998      0.867      0.957      0.892       0.45       0.45      0.362      0.149\n"
          ]
        },
        {
          "output_type": "stream",
          "name": "stderr",
          "text": [
            "\n"
          ]
        },
        {
          "output_type": "stream",
          "name": "stdout",
          "text": [
            "\n",
            "      Epoch    GPU_mem   box_loss  pose_loss  kobj_loss   cls_loss   dfl_loss  Instances       Size\n"
          ]
        },
        {
          "output_type": "stream",
          "name": "stderr",
          "text": [
            "     36/200      2.15G      1.212       2.85     0.5619      1.486      1.794          6        640: 100%|██████████| 53/53 [00:19<00:00,  2.66it/s]\n",
            "                 Class     Images  Instances      Box(P          R      mAP50  mAP50-95)     Pose(P          R      mAP50  mAP50-95): 100%|██████████| 8/8 [00:02<00:00,  3.66it/s]"
          ]
        },
        {
          "output_type": "stream",
          "name": "stdout",
          "text": [
            "                   all         60         60      0.795      0.713      0.826       0.63      0.351      0.477      0.377      0.179\n"
          ]
        },
        {
          "output_type": "stream",
          "name": "stderr",
          "text": [
            "\n"
          ]
        },
        {
          "output_type": "stream",
          "name": "stdout",
          "text": [
            "\n",
            "      Epoch    GPU_mem   box_loss  pose_loss  kobj_loss   cls_loss   dfl_loss  Instances       Size\n"
          ]
        },
        {
          "output_type": "stream",
          "name": "stderr",
          "text": [
            "     37/200      2.23G      1.169      3.306      0.555      1.507      1.787          8        640: 100%|██████████| 53/53 [00:25<00:00,  2.05it/s]\n",
            "                 Class     Images  Instances      Box(P          R      mAP50  mAP50-95)     Pose(P          R      mAP50  mAP50-95): 100%|██████████| 8/8 [00:02<00:00,  3.64it/s]"
          ]
        },
        {
          "output_type": "stream",
          "name": "stdout",
          "text": [
            "                   all         60         60      0.856      0.733       0.88      0.742      0.388      0.454      0.369       0.16\n"
          ]
        },
        {
          "output_type": "stream",
          "name": "stderr",
          "text": [
            "\n"
          ]
        },
        {
          "output_type": "stream",
          "name": "stdout",
          "text": [
            "\n",
            "      Epoch    GPU_mem   box_loss  pose_loss  kobj_loss   cls_loss   dfl_loss  Instances       Size\n"
          ]
        },
        {
          "output_type": "stream",
          "name": "stderr",
          "text": [
            "     38/200      2.25G      1.093      2.949     0.5523      1.446      1.715          8        640: 100%|██████████| 53/53 [00:22<00:00,  2.35it/s]\n",
            "                 Class     Images  Instances      Box(P          R      mAP50  mAP50-95)     Pose(P          R      mAP50  mAP50-95): 100%|██████████| 8/8 [00:02<00:00,  2.82it/s]"
          ]
        },
        {
          "output_type": "stream",
          "name": "stdout",
          "text": [
            "                   all         60         60       0.83        0.5      0.649      0.531      0.336      0.483      0.351      0.132\n"
          ]
        },
        {
          "output_type": "stream",
          "name": "stderr",
          "text": [
            "\n"
          ]
        },
        {
          "output_type": "stream",
          "name": "stdout",
          "text": [
            "\n",
            "      Epoch    GPU_mem   box_loss  pose_loss  kobj_loss   cls_loss   dfl_loss  Instances       Size\n"
          ]
        },
        {
          "output_type": "stream",
          "name": "stderr",
          "text": [
            "     39/200      2.25G      1.042      3.027      0.543      1.316      1.639          5        640: 100%|██████████| 53/53 [00:17<00:00,  3.08it/s]\n",
            "                 Class     Images  Instances      Box(P          R      mAP50  mAP50-95)     Pose(P          R      mAP50  mAP50-95): 100%|██████████| 8/8 [00:02<00:00,  2.73it/s]"
          ]
        },
        {
          "output_type": "stream",
          "name": "stdout",
          "text": [
            "                   all         60         60      0.938      0.756      0.925      0.817      0.527       0.39      0.428      0.144\n"
          ]
        },
        {
          "output_type": "stream",
          "name": "stderr",
          "text": [
            "\n"
          ]
        },
        {
          "output_type": "stream",
          "name": "stdout",
          "text": [
            "\n",
            "      Epoch    GPU_mem   box_loss  pose_loss  kobj_loss   cls_loss   dfl_loss  Instances       Size\n"
          ]
        },
        {
          "output_type": "stream",
          "name": "stderr",
          "text": [
            "     40/200      2.24G     0.9856       3.06     0.5384      1.187      1.627          5        640: 100%|██████████| 53/53 [00:23<00:00,  2.29it/s]\n",
            "                 Class     Images  Instances      Box(P          R      mAP50  mAP50-95)     Pose(P          R      mAP50  mAP50-95): 100%|██████████| 8/8 [00:02<00:00,  3.62it/s]"
          ]
        },
        {
          "output_type": "stream",
          "name": "stdout",
          "text": [
            "                   all         60         60      0.869      0.663      0.754      0.555        0.5       0.35       0.34      0.125\n"
          ]
        },
        {
          "output_type": "stream",
          "name": "stderr",
          "text": [
            "\n"
          ]
        },
        {
          "output_type": "stream",
          "name": "stdout",
          "text": [
            "\n",
            "      Epoch    GPU_mem   box_loss  pose_loss  kobj_loss   cls_loss   dfl_loss  Instances       Size\n"
          ]
        },
        {
          "output_type": "stream",
          "name": "stderr",
          "text": [
            "     41/200      2.23G     0.9369      3.085     0.5481      1.141      1.598          6        640: 100%|██████████| 53/53 [00:21<00:00,  2.41it/s]\n",
            "                 Class     Images  Instances      Box(P          R      mAP50  mAP50-95)     Pose(P          R      mAP50  mAP50-95): 100%|██████████| 8/8 [00:02<00:00,  3.62it/s]"
          ]
        },
        {
          "output_type": "stream",
          "name": "stdout",
          "text": [
            "                   all         60         60      0.822       0.77      0.883      0.709      0.462      0.467      0.381      0.163\n"
          ]
        },
        {
          "output_type": "stream",
          "name": "stderr",
          "text": [
            "\n"
          ]
        },
        {
          "output_type": "stream",
          "name": "stdout",
          "text": [
            "\n",
            "      Epoch    GPU_mem   box_loss  pose_loss  kobj_loss   cls_loss   dfl_loss  Instances       Size\n"
          ]
        },
        {
          "output_type": "stream",
          "name": "stderr",
          "text": [
            "     42/200      2.24G     0.8892      2.918     0.5617      1.139      1.541          8        640: 100%|██████████| 53/53 [00:24<00:00,  2.13it/s]\n",
            "                 Class     Images  Instances      Box(P          R      mAP50  mAP50-95)     Pose(P          R      mAP50  mAP50-95): 100%|██████████| 8/8 [00:02<00:00,  3.70it/s]"
          ]
        },
        {
          "output_type": "stream",
          "name": "stdout",
          "text": [
            "                   all         60         60      0.496       0.69      0.534      0.364      0.274      0.583      0.285      0.114\n"
          ]
        },
        {
          "output_type": "stream",
          "name": "stderr",
          "text": [
            "\n"
          ]
        },
        {
          "output_type": "stream",
          "name": "stdout",
          "text": [
            "\n",
            "      Epoch    GPU_mem   box_loss  pose_loss  kobj_loss   cls_loss   dfl_loss  Instances       Size\n"
          ]
        },
        {
          "output_type": "stream",
          "name": "stderr",
          "text": [
            "     43/200      2.24G     0.8723      3.216     0.5668      1.076      1.504          4        640: 100%|██████████| 53/53 [00:24<00:00,  2.14it/s]\n",
            "                 Class     Images  Instances      Box(P          R      mAP50  mAP50-95)     Pose(P          R      mAP50  mAP50-95): 100%|██████████| 8/8 [00:02<00:00,  2.67it/s]"
          ]
        },
        {
          "output_type": "stream",
          "name": "stdout",
          "text": [
            "                   all         60         60      0.585      0.667      0.615      0.467      0.315        0.5      0.285      0.114\n"
          ]
        },
        {
          "output_type": "stream",
          "name": "stderr",
          "text": [
            "\n"
          ]
        },
        {
          "output_type": "stream",
          "name": "stdout",
          "text": [
            "\n",
            "      Epoch    GPU_mem   box_loss  pose_loss  kobj_loss   cls_loss   dfl_loss  Instances       Size\n"
          ]
        },
        {
          "output_type": "stream",
          "name": "stderr",
          "text": [
            "     44/200      2.24G     0.8416      2.993     0.5491      1.028      1.469          7        640: 100%|██████████| 53/53 [00:22<00:00,  2.37it/s]\n",
            "                 Class     Images  Instances      Box(P          R      mAP50  mAP50-95)     Pose(P          R      mAP50  mAP50-95): 100%|██████████| 8/8 [00:03<00:00,  2.47it/s]"
          ]
        },
        {
          "output_type": "stream",
          "name": "stdout",
          "text": [
            "                   all         60         60      0.949      0.936      0.982      0.865      0.492        0.5      0.417      0.131\n"
          ]
        },
        {
          "output_type": "stream",
          "name": "stderr",
          "text": [
            "\n"
          ]
        },
        {
          "output_type": "stream",
          "name": "stdout",
          "text": [
            "\n",
            "      Epoch    GPU_mem   box_loss  pose_loss  kobj_loss   cls_loss   dfl_loss  Instances       Size\n"
          ]
        },
        {
          "output_type": "stream",
          "name": "stderr",
          "text": [
            "     45/200      2.25G     0.7832      3.246     0.5761     0.9442      1.422          8        640: 100%|██████████| 53/53 [00:25<00:00,  2.06it/s]\n",
            "                 Class     Images  Instances      Box(P          R      mAP50  mAP50-95)     Pose(P          R      mAP50  mAP50-95): 100%|██████████| 8/8 [00:02<00:00,  3.65it/s]"
          ]
        },
        {
          "output_type": "stream",
          "name": "stdout",
          "text": [
            "                   all         60         60      0.928      0.917      0.971      0.842      0.422      0.483      0.392      0.136\n"
          ]
        },
        {
          "output_type": "stream",
          "name": "stderr",
          "text": [
            "\n"
          ]
        },
        {
          "output_type": "stream",
          "name": "stdout",
          "text": [
            "\n",
            "      Epoch    GPU_mem   box_loss  pose_loss  kobj_loss   cls_loss   dfl_loss  Instances       Size\n"
          ]
        },
        {
          "output_type": "stream",
          "name": "stderr",
          "text": [
            "     46/200      2.25G     0.7544      3.067     0.5594     0.8972      1.399          8        640: 100%|██████████| 53/53 [00:22<00:00,  2.36it/s]\n",
            "                 Class     Images  Instances      Box(P          R      mAP50  mAP50-95)     Pose(P          R      mAP50  mAP50-95): 100%|██████████| 8/8 [00:03<00:00,  2.31it/s]"
          ]
        },
        {
          "output_type": "stream",
          "name": "stdout",
          "text": [
            "                   all         60         60      0.886      0.717      0.867      0.723      0.398      0.551       0.36      0.131\n"
          ]
        },
        {
          "output_type": "stream",
          "name": "stderr",
          "text": [
            "\n"
          ]
        },
        {
          "output_type": "stream",
          "name": "stdout",
          "text": [
            "\n",
            "      Epoch    GPU_mem   box_loss  pose_loss  kobj_loss   cls_loss   dfl_loss  Instances       Size\n"
          ]
        },
        {
          "output_type": "stream",
          "name": "stderr",
          "text": [
            "     47/200      2.24G     0.7752      3.213     0.5279     0.8621      1.408          4        640: 100%|██████████| 53/53 [00:21<00:00,  2.51it/s]\n",
            "                 Class     Images  Instances      Box(P          R      mAP50  mAP50-95)     Pose(P          R      mAP50  mAP50-95): 100%|██████████| 8/8 [00:02<00:00,  2.85it/s]"
          ]
        },
        {
          "output_type": "stream",
          "name": "stdout",
          "text": [
            "                   all         60         60      0.945      0.917      0.966      0.828      0.423      0.517      0.367      0.128\n"
          ]
        },
        {
          "output_type": "stream",
          "name": "stderr",
          "text": [
            "\n"
          ]
        },
        {
          "output_type": "stream",
          "name": "stdout",
          "text": [
            "\n",
            "      Epoch    GPU_mem   box_loss  pose_loss  kobj_loss   cls_loss   dfl_loss  Instances       Size\n"
          ]
        },
        {
          "output_type": "stream",
          "name": "stderr",
          "text": [
            "     48/200      2.23G     0.7932       2.81      0.535     0.8754      1.395          8        640: 100%|██████████| 53/53 [00:21<00:00,  2.44it/s]\n",
            "                 Class     Images  Instances      Box(P          R      mAP50  mAP50-95)     Pose(P          R      mAP50  mAP50-95): 100%|██████████| 8/8 [00:02<00:00,  3.60it/s]"
          ]
        },
        {
          "output_type": "stream",
          "name": "stdout",
          "text": [
            "                   all         60         60      0.929      0.983      0.981      0.878      0.447      0.483      0.398      0.134\n"
          ]
        },
        {
          "output_type": "stream",
          "name": "stderr",
          "text": [
            "\n"
          ]
        },
        {
          "output_type": "stream",
          "name": "stdout",
          "text": [
            "\n",
            "      Epoch    GPU_mem   box_loss  pose_loss  kobj_loss   cls_loss   dfl_loss  Instances       Size\n"
          ]
        },
        {
          "output_type": "stream",
          "name": "stderr",
          "text": [
            "     49/200      2.24G     0.6842      3.013     0.5465     0.7833      1.339          8        640: 100%|██████████| 53/53 [00:22<00:00,  2.34it/s]\n",
            "                 Class     Images  Instances      Box(P          R      mAP50  mAP50-95)     Pose(P          R      mAP50  mAP50-95): 100%|██████████| 8/8 [00:01<00:00,  4.61it/s]"
          ]
        },
        {
          "output_type": "stream",
          "name": "stdout",
          "text": [
            "                   all         60         60      0.981       0.88      0.984      0.916      0.512      0.472      0.413      0.149\n"
          ]
        },
        {
          "output_type": "stream",
          "name": "stderr",
          "text": [
            "\n"
          ]
        },
        {
          "output_type": "stream",
          "name": "stdout",
          "text": [
            "\n",
            "      Epoch    GPU_mem   box_loss  pose_loss  kobj_loss   cls_loss   dfl_loss  Instances       Size\n"
          ]
        },
        {
          "output_type": "stream",
          "name": "stderr",
          "text": [
            "     50/200      2.25G     0.6882      3.026     0.5498     0.7965      1.336          6        640: 100%|██████████| 53/53 [00:24<00:00,  2.13it/s]\n",
            "                 Class     Images  Instances      Box(P          R      mAP50  mAP50-95)     Pose(P          R      mAP50  mAP50-95): 100%|██████████| 8/8 [00:02<00:00,  3.68it/s]"
          ]
        },
        {
          "output_type": "stream",
          "name": "stdout",
          "text": [
            "                   all         60         60          1      0.899      0.985      0.921      0.538      0.533      0.438      0.156\n"
          ]
        },
        {
          "output_type": "stream",
          "name": "stderr",
          "text": [
            "\n"
          ]
        },
        {
          "output_type": "stream",
          "name": "stdout",
          "text": [
            "\n",
            "      Epoch    GPU_mem   box_loss  pose_loss  kobj_loss   cls_loss   dfl_loss  Instances       Size\n"
          ]
        },
        {
          "output_type": "stream",
          "name": "stderr",
          "text": [
            "     51/200      2.25G     0.6694      3.123     0.5428     0.8056      1.337          6        640: 100%|██████████| 53/53 [00:23<00:00,  2.30it/s]\n",
            "                 Class     Images  Instances      Box(P          R      mAP50  mAP50-95)     Pose(P          R      mAP50  mAP50-95): 100%|██████████| 8/8 [00:02<00:00,  2.82it/s]"
          ]
        },
        {
          "output_type": "stream",
          "name": "stdout",
          "text": [
            "                   all         60         60      0.923      0.997       0.99      0.943      0.499        0.5      0.391      0.132\n"
          ]
        },
        {
          "output_type": "stream",
          "name": "stderr",
          "text": [
            "\n"
          ]
        },
        {
          "output_type": "stream",
          "name": "stdout",
          "text": [
            "\n",
            "      Epoch    GPU_mem   box_loss  pose_loss  kobj_loss   cls_loss   dfl_loss  Instances       Size\n"
          ]
        },
        {
          "output_type": "stream",
          "name": "stderr",
          "text": [
            "     52/200      2.19G     0.6925      2.987     0.5339     0.7905      1.305          4        640: 100%|██████████| 53/53 [00:22<00:00,  2.35it/s]\n",
            "                 Class     Images  Instances      Box(P          R      mAP50  mAP50-95)     Pose(P          R      mAP50  mAP50-95): 100%|██████████| 8/8 [00:01<00:00,  4.55it/s]"
          ]
        },
        {
          "output_type": "stream",
          "name": "stdout",
          "text": [
            "                   all         60         60       0.89      0.945      0.967      0.925      0.479       0.45      0.342      0.128\n"
          ]
        },
        {
          "output_type": "stream",
          "name": "stderr",
          "text": [
            "\n"
          ]
        },
        {
          "output_type": "stream",
          "name": "stdout",
          "text": [
            "\n",
            "      Epoch    GPU_mem   box_loss  pose_loss  kobj_loss   cls_loss   dfl_loss  Instances       Size\n"
          ]
        },
        {
          "output_type": "stream",
          "name": "stderr",
          "text": [
            "     53/200      2.24G       0.61      3.223      0.528     0.7361      1.279          6        640: 100%|██████████| 53/53 [00:22<00:00,  2.34it/s]\n",
            "                 Class     Images  Instances      Box(P          R      mAP50  mAP50-95)     Pose(P          R      mAP50  mAP50-95): 100%|██████████| 8/8 [00:02<00:00,  3.72it/s]"
          ]
        },
        {
          "output_type": "stream",
          "name": "stdout",
          "text": [
            "                   all         60         60      0.967      0.982      0.992      0.948      0.476      0.467      0.355      0.129\n"
          ]
        },
        {
          "output_type": "stream",
          "name": "stderr",
          "text": [
            "\n"
          ]
        },
        {
          "output_type": "stream",
          "name": "stdout",
          "text": [
            "\n",
            "      Epoch    GPU_mem   box_loss  pose_loss  kobj_loss   cls_loss   dfl_loss  Instances       Size\n"
          ]
        },
        {
          "output_type": "stream",
          "name": "stderr",
          "text": [
            "     54/200      2.24G     0.6093      2.949     0.5499     0.7099      1.273          8        640: 100%|██████████| 53/53 [00:19<00:00,  2.67it/s]\n",
            "                 Class     Images  Instances      Box(P          R      mAP50  mAP50-95)     Pose(P          R      mAP50  mAP50-95): 100%|██████████| 8/8 [00:03<00:00,  2.54it/s]"
          ]
        },
        {
          "output_type": "stream",
          "name": "stdout",
          "text": [
            "                   all         60         60      0.902       0.92      0.958      0.849      0.484      0.483      0.415      0.171\n"
          ]
        },
        {
          "output_type": "stream",
          "name": "stderr",
          "text": [
            "\n"
          ]
        },
        {
          "output_type": "stream",
          "name": "stdout",
          "text": [
            "\n",
            "      Epoch    GPU_mem   box_loss  pose_loss  kobj_loss   cls_loss   dfl_loss  Instances       Size\n"
          ]
        },
        {
          "output_type": "stream",
          "name": "stderr",
          "text": [
            "     55/200      2.24G     0.6367      2.898     0.5539      0.754      1.287          4        640: 100%|██████████| 53/53 [00:24<00:00,  2.20it/s]\n",
            "                 Class     Images  Instances      Box(P          R      mAP50  mAP50-95)     Pose(P          R      mAP50  mAP50-95): 100%|██████████| 8/8 [00:02<00:00,  2.86it/s]"
          ]
        },
        {
          "output_type": "stream",
          "name": "stdout",
          "text": [
            "                   all         60         60      0.933          1      0.989      0.918      0.504        0.5      0.419      0.148\n"
          ]
        },
        {
          "output_type": "stream",
          "name": "stderr",
          "text": [
            "\n"
          ]
        },
        {
          "output_type": "stream",
          "name": "stdout",
          "text": [
            "\n",
            "      Epoch    GPU_mem   box_loss  pose_loss  kobj_loss   cls_loss   dfl_loss  Instances       Size\n"
          ]
        },
        {
          "output_type": "stream",
          "name": "stderr",
          "text": [
            "     56/200      2.25G     0.5796       2.99     0.5485     0.6871      1.238          8        640: 100%|██████████| 53/53 [00:22<00:00,  2.38it/s]\n",
            "                 Class     Images  Instances      Box(P          R      mAP50  mAP50-95)     Pose(P          R      mAP50  mAP50-95): 100%|██████████| 8/8 [00:02<00:00,  2.84it/s]"
          ]
        },
        {
          "output_type": "stream",
          "name": "stdout",
          "text": [
            "                   all         60         60        0.9      0.967      0.971      0.849      0.482      0.567      0.404      0.149\n"
          ]
        },
        {
          "output_type": "stream",
          "name": "stderr",
          "text": [
            "\n"
          ]
        },
        {
          "output_type": "stream",
          "name": "stdout",
          "text": [
            "\n",
            "      Epoch    GPU_mem   box_loss  pose_loss  kobj_loss   cls_loss   dfl_loss  Instances       Size\n"
          ]
        },
        {
          "output_type": "stream",
          "name": "stderr",
          "text": [
            "     57/200      2.25G     0.5588      2.937     0.5488     0.6453      1.222          8        640: 100%|██████████| 53/53 [00:19<00:00,  2.76it/s]\n",
            "                 Class     Images  Instances      Box(P          R      mAP50  mAP50-95)     Pose(P          R      mAP50  mAP50-95): 100%|██████████| 8/8 [00:02<00:00,  3.51it/s]"
          ]
        },
        {
          "output_type": "stream",
          "name": "stdout",
          "text": [
            "                   all         60         60      0.919      0.983      0.989      0.905      0.447       0.45       0.34      0.146\n"
          ]
        },
        {
          "output_type": "stream",
          "name": "stderr",
          "text": [
            "\n"
          ]
        },
        {
          "output_type": "stream",
          "name": "stdout",
          "text": [
            "\n",
            "      Epoch    GPU_mem   box_loss  pose_loss  kobj_loss   cls_loss   dfl_loss  Instances       Size\n"
          ]
        },
        {
          "output_type": "stream",
          "name": "stderr",
          "text": [
            "     58/200      2.25G     0.5965      2.621     0.5456     0.6607      1.236          6        640: 100%|██████████| 53/53 [00:23<00:00,  2.26it/s]\n",
            "                 Class     Images  Instances      Box(P          R      mAP50  mAP50-95)     Pose(P          R      mAP50  mAP50-95): 100%|██████████| 8/8 [00:02<00:00,  2.68it/s]"
          ]
        },
        {
          "output_type": "stream",
          "name": "stdout",
          "text": [
            "                   all         60         60      0.936       0.97      0.985      0.903      0.452      0.483      0.406      0.156\n"
          ]
        },
        {
          "output_type": "stream",
          "name": "stderr",
          "text": [
            "\n"
          ]
        },
        {
          "output_type": "stream",
          "name": "stdout",
          "text": [
            "\n",
            "      Epoch    GPU_mem   box_loss  pose_loss  kobj_loss   cls_loss   dfl_loss  Instances       Size\n"
          ]
        },
        {
          "output_type": "stream",
          "name": "stderr",
          "text": [
            "     59/200      2.24G     0.5501        2.9       0.56     0.6557      1.203          6        640: 100%|██████████| 53/53 [00:14<00:00,  3.56it/s]\n",
            "                 Class     Images  Instances      Box(P          R      mAP50  mAP50-95)     Pose(P          R      mAP50  mAP50-95): 100%|██████████| 8/8 [00:02<00:00,  3.63it/s]"
          ]
        },
        {
          "output_type": "stream",
          "name": "stdout",
          "text": [
            "                   all         60         60       0.95          1      0.992      0.971      0.582      0.483      0.469      0.165\n"
          ]
        },
        {
          "output_type": "stream",
          "name": "stderr",
          "text": [
            "\n"
          ]
        },
        {
          "output_type": "stream",
          "name": "stdout",
          "text": [
            "\n",
            "      Epoch    GPU_mem   box_loss  pose_loss  kobj_loss   cls_loss   dfl_loss  Instances       Size\n"
          ]
        },
        {
          "output_type": "stream",
          "name": "stderr",
          "text": [
            "     60/200      2.24G     0.5133       2.83     0.5302     0.6151      1.186          8        640: 100%|██████████| 53/53 [00:21<00:00,  2.49it/s]\n",
            "                 Class     Images  Instances      Box(P          R      mAP50  mAP50-95)     Pose(P          R      mAP50  mAP50-95): 100%|██████████| 8/8 [00:02<00:00,  3.61it/s]"
          ]
        },
        {
          "output_type": "stream",
          "name": "stdout",
          "text": [
            "                   all         60         60      0.942       0.95      0.986       0.95      0.437      0.467      0.373      0.136\n"
          ]
        },
        {
          "output_type": "stream",
          "name": "stderr",
          "text": [
            "\n"
          ]
        },
        {
          "output_type": "stream",
          "name": "stdout",
          "text": [
            "\n",
            "      Epoch    GPU_mem   box_loss  pose_loss  kobj_loss   cls_loss   dfl_loss  Instances       Size\n"
          ]
        },
        {
          "output_type": "stream",
          "name": "stderr",
          "text": [
            "     61/200      2.24G     0.5119      2.986      0.535     0.5574      1.166          6        640: 100%|██████████| 53/53 [00:21<00:00,  2.42it/s]\n",
            "                 Class     Images  Instances      Box(P          R      mAP50  mAP50-95)     Pose(P          R      mAP50  mAP50-95): 100%|██████████| 8/8 [00:02<00:00,  2.74it/s]"
          ]
        },
        {
          "output_type": "stream",
          "name": "stdout",
          "text": [
            "                   all         60         60      0.977      0.983      0.993      0.949      0.418        0.4      0.303      0.103\n"
          ]
        },
        {
          "output_type": "stream",
          "name": "stderr",
          "text": [
            "\n"
          ]
        },
        {
          "output_type": "stream",
          "name": "stdout",
          "text": [
            "\n",
            "      Epoch    GPU_mem   box_loss  pose_loss  kobj_loss   cls_loss   dfl_loss  Instances       Size\n"
          ]
        },
        {
          "output_type": "stream",
          "name": "stderr",
          "text": [
            "     62/200      2.25G     0.5204      2.868     0.5498     0.5904      1.202          5        640: 100%|██████████| 53/53 [00:23<00:00,  2.24it/s]\n",
            "                 Class     Images  Instances      Box(P          R      mAP50  mAP50-95)     Pose(P          R      mAP50  mAP50-95): 100%|██████████| 8/8 [00:02<00:00,  3.62it/s]"
          ]
        },
        {
          "output_type": "stream",
          "name": "stdout",
          "text": [
            "                   all         60         60      0.951      0.979      0.992      0.949      0.382      0.433      0.258     0.0829\n"
          ]
        },
        {
          "output_type": "stream",
          "name": "stderr",
          "text": [
            "\n"
          ]
        },
        {
          "output_type": "stream",
          "name": "stdout",
          "text": [
            "\n",
            "      Epoch    GPU_mem   box_loss  pose_loss  kobj_loss   cls_loss   dfl_loss  Instances       Size\n"
          ]
        },
        {
          "output_type": "stream",
          "name": "stderr",
          "text": [
            "     63/200      2.24G     0.5042      3.001     0.5344     0.5649      1.172          6        640: 100%|██████████| 53/53 [00:25<00:00,  2.04it/s]\n",
            "                 Class     Images  Instances      Box(P          R      mAP50  mAP50-95)     Pose(P          R      mAP50  mAP50-95): 100%|██████████| 8/8 [00:02<00:00,  2.67it/s]"
          ]
        },
        {
          "output_type": "stream",
          "name": "stdout",
          "text": [
            "                   all         60         60       0.98      0.983      0.993      0.964      0.481      0.483      0.294     0.0957\n"
          ]
        },
        {
          "output_type": "stream",
          "name": "stderr",
          "text": [
            "\n"
          ]
        },
        {
          "output_type": "stream",
          "name": "stdout",
          "text": [
            "\n",
            "      Epoch    GPU_mem   box_loss  pose_loss  kobj_loss   cls_loss   dfl_loss  Instances       Size\n"
          ]
        },
        {
          "output_type": "stream",
          "name": "stderr",
          "text": [
            "     64/200      2.25G     0.4965      2.974     0.5371      0.572      1.156          3        640: 100%|██████████| 53/53 [00:23<00:00,  2.27it/s]\n",
            "                 Class     Images  Instances      Box(P          R      mAP50  mAP50-95)     Pose(P          R      mAP50  mAP50-95): 100%|██████████| 8/8 [00:02<00:00,  3.30it/s]"
          ]
        },
        {
          "output_type": "stream",
          "name": "stdout",
          "text": [
            "                   all         60         60       0.98      0.983      0.993      0.943      0.448       0.45      0.345      0.126\n"
          ]
        },
        {
          "output_type": "stream",
          "name": "stderr",
          "text": [
            "\n"
          ]
        },
        {
          "output_type": "stream",
          "name": "stdout",
          "text": [
            "\n",
            "      Epoch    GPU_mem   box_loss  pose_loss  kobj_loss   cls_loss   dfl_loss  Instances       Size\n"
          ]
        },
        {
          "output_type": "stream",
          "name": "stderr",
          "text": [
            "     65/200      2.25G     0.4846       2.88     0.5446     0.5724      1.177          7        640: 100%|██████████| 53/53 [00:20<00:00,  2.57it/s]\n",
            "                 Class     Images  Instances      Box(P          R      mAP50  mAP50-95)     Pose(P          R      mAP50  mAP50-95): 100%|██████████| 8/8 [00:02<00:00,  3.45it/s]"
          ]
        },
        {
          "output_type": "stream",
          "name": "stdout",
          "text": [
            "                   all         60         60       0.98      0.967      0.992      0.927      0.456       0.45      0.323      0.112\n"
          ]
        },
        {
          "output_type": "stream",
          "name": "stderr",
          "text": [
            "\n"
          ]
        },
        {
          "output_type": "stream",
          "name": "stdout",
          "text": [
            "\n",
            "      Epoch    GPU_mem   box_loss  pose_loss  kobj_loss   cls_loss   dfl_loss  Instances       Size\n"
          ]
        },
        {
          "output_type": "stream",
          "name": "stderr",
          "text": [
            "     66/200      2.25G     0.4593       2.89     0.5262     0.5286      1.154          7        640: 100%|██████████| 53/53 [00:17<00:00,  2.95it/s]\n",
            "                 Class     Images  Instances      Box(P          R      mAP50  mAP50-95)     Pose(P          R      mAP50  mAP50-95): 100%|██████████| 8/8 [00:02<00:00,  3.64it/s]"
          ]
        },
        {
          "output_type": "stream",
          "name": "stdout",
          "text": [
            "                   all         60         60      0.966      0.942      0.987      0.933      0.451       0.45      0.309      0.109\n"
          ]
        },
        {
          "output_type": "stream",
          "name": "stderr",
          "text": [
            "\n"
          ]
        },
        {
          "output_type": "stream",
          "name": "stdout",
          "text": [
            "\n",
            "      Epoch    GPU_mem   box_loss  pose_loss  kobj_loss   cls_loss   dfl_loss  Instances       Size\n"
          ]
        },
        {
          "output_type": "stream",
          "name": "stderr",
          "text": [
            "     67/200      2.24G      0.442      2.882     0.5344     0.5054      1.128          8        640: 100%|██████████| 53/53 [00:25<00:00,  2.08it/s]\n",
            "                 Class     Images  Instances      Box(P          R      mAP50  mAP50-95)     Pose(P          R      mAP50  mAP50-95): 100%|██████████| 8/8 [00:03<00:00,  2.66it/s]"
          ]
        },
        {
          "output_type": "stream",
          "name": "stdout",
          "text": [
            "                   all         60         60      0.975          1      0.995       0.97      0.435       0.45      0.328      0.123\n"
          ]
        },
        {
          "output_type": "stream",
          "name": "stderr",
          "text": [
            "\n"
          ]
        },
        {
          "output_type": "stream",
          "name": "stdout",
          "text": [
            "\n",
            "      Epoch    GPU_mem   box_loss  pose_loss  kobj_loss   cls_loss   dfl_loss  Instances       Size\n"
          ]
        },
        {
          "output_type": "stream",
          "name": "stderr",
          "text": [
            "     68/200      2.18G      0.464       2.93     0.5544     0.5188      1.143          3        640: 100%|██████████| 53/53 [00:23<00:00,  2.30it/s]\n",
            "                 Class     Images  Instances      Box(P          R      mAP50  mAP50-95)     Pose(P          R      mAP50  mAP50-95): 100%|██████████| 8/8 [00:01<00:00,  5.18it/s]"
          ]
        },
        {
          "output_type": "stream",
          "name": "stdout",
          "text": [
            "                   all         60         60      0.965          1      0.993      0.977       0.48        0.5      0.361      0.101\n"
          ]
        },
        {
          "output_type": "stream",
          "name": "stderr",
          "text": [
            "\n"
          ]
        },
        {
          "output_type": "stream",
          "name": "stdout",
          "text": [
            "\n",
            "      Epoch    GPU_mem   box_loss  pose_loss  kobj_loss   cls_loss   dfl_loss  Instances       Size\n"
          ]
        },
        {
          "output_type": "stream",
          "name": "stderr",
          "text": [
            "     69/200      2.25G     0.4541      2.837     0.5299     0.5213      1.128          7        640: 100%|██████████| 53/53 [00:19<00:00,  2.70it/s]\n",
            "                 Class     Images  Instances      Box(P          R      mAP50  mAP50-95)     Pose(P          R      mAP50  mAP50-95): 100%|██████████| 8/8 [00:02<00:00,  3.08it/s]"
          ]
        },
        {
          "output_type": "stream",
          "name": "stdout",
          "text": [
            "                   all         60         60      0.984      0.983      0.993      0.971      0.436      0.467      0.315     0.0995\n"
          ]
        },
        {
          "output_type": "stream",
          "name": "stderr",
          "text": [
            "\n"
          ]
        },
        {
          "output_type": "stream",
          "name": "stdout",
          "text": [
            "\n",
            "      Epoch    GPU_mem   box_loss  pose_loss  kobj_loss   cls_loss   dfl_loss  Instances       Size\n"
          ]
        },
        {
          "output_type": "stream",
          "name": "stderr",
          "text": [
            "     70/200      2.24G     0.4562      2.901     0.5268     0.4933      1.129          3        640: 100%|██████████| 53/53 [00:23<00:00,  2.24it/s]\n",
            "                 Class     Images  Instances      Box(P          R      mAP50  mAP50-95)     Pose(P          R      mAP50  mAP50-95): 100%|██████████| 8/8 [00:02<00:00,  3.64it/s]"
          ]
        },
        {
          "output_type": "stream",
          "name": "stdout",
          "text": [
            "                   all         60         60      0.981      0.967      0.987       0.95      0.403      0.433      0.291      0.103\n"
          ]
        },
        {
          "output_type": "stream",
          "name": "stderr",
          "text": [
            "\n"
          ]
        },
        {
          "output_type": "stream",
          "name": "stdout",
          "text": [
            "\n",
            "      Epoch    GPU_mem   box_loss  pose_loss  kobj_loss   cls_loss   dfl_loss  Instances       Size\n"
          ]
        },
        {
          "output_type": "stream",
          "name": "stderr",
          "text": [
            "     71/200      2.24G     0.4275      3.061     0.5476     0.4825       1.12          6        640: 100%|██████████| 53/53 [00:21<00:00,  2.50it/s]\n",
            "                 Class     Images  Instances      Box(P          R      mAP50  mAP50-95)     Pose(P          R      mAP50  mAP50-95): 100%|██████████| 8/8 [00:02<00:00,  3.64it/s]"
          ]
        },
        {
          "output_type": "stream",
          "name": "stdout",
          "text": [
            "                   all         60         60      0.966      0.983      0.993      0.949      0.441       0.45      0.282     0.0956\n"
          ]
        },
        {
          "output_type": "stream",
          "name": "stderr",
          "text": [
            "\n"
          ]
        },
        {
          "output_type": "stream",
          "name": "stdout",
          "text": [
            "\n",
            "      Epoch    GPU_mem   box_loss  pose_loss  kobj_loss   cls_loss   dfl_loss  Instances       Size\n"
          ]
        },
        {
          "output_type": "stream",
          "name": "stderr",
          "text": [
            "     72/200      2.24G     0.4457      2.787     0.5282     0.5095      1.128          7        640: 100%|██████████| 53/53 [00:25<00:00,  2.04it/s]\n",
            "                 Class     Images  Instances      Box(P          R      mAP50  mAP50-95)     Pose(P          R      mAP50  mAP50-95): 100%|██████████| 8/8 [00:03<00:00,  2.66it/s]"
          ]
        },
        {
          "output_type": "stream",
          "name": "stdout",
          "text": [
            "                   all         60         60      0.983      0.989      0.995       0.98      0.439       0.45      0.324      0.122\n"
          ]
        },
        {
          "output_type": "stream",
          "name": "stderr",
          "text": [
            "\n"
          ]
        },
        {
          "output_type": "stream",
          "name": "stdout",
          "text": [
            "\n",
            "      Epoch    GPU_mem   box_loss  pose_loss  kobj_loss   cls_loss   dfl_loss  Instances       Size\n"
          ]
        },
        {
          "output_type": "stream",
          "name": "stderr",
          "text": [
            "     73/200      2.25G     0.4133      2.642     0.5235     0.4935      1.113          6        640: 100%|██████████| 53/53 [00:24<00:00,  2.16it/s]\n",
            "                 Class     Images  Instances      Box(P          R      mAP50  mAP50-95)     Pose(P          R      mAP50  mAP50-95): 100%|██████████| 8/8 [00:02<00:00,  3.18it/s]"
          ]
        },
        {
          "output_type": "stream",
          "name": "stdout",
          "text": [
            "                   all         60         60      0.963          1      0.993       0.98      0.294      0.533      0.284     0.0897\n"
          ]
        },
        {
          "output_type": "stream",
          "name": "stderr",
          "text": [
            "\n"
          ]
        },
        {
          "output_type": "stream",
          "name": "stdout",
          "text": [
            "\n",
            "      Epoch    GPU_mem   box_loss  pose_loss  kobj_loss   cls_loss   dfl_loss  Instances       Size\n"
          ]
        },
        {
          "output_type": "stream",
          "name": "stderr",
          "text": [
            "     74/200      2.25G     0.4369      2.879      0.514     0.5058      1.121          5        640: 100%|██████████| 53/53 [00:21<00:00,  2.52it/s]\n",
            "                 Class     Images  Instances      Box(P          R      mAP50  mAP50-95)     Pose(P          R      mAP50  mAP50-95): 100%|██████████| 8/8 [00:03<00:00,  2.64it/s]"
          ]
        },
        {
          "output_type": "stream",
          "name": "stdout",
          "text": [
            "                   all         60         60      0.967          1      0.994      0.988      0.467      0.483      0.348       0.11\n"
          ]
        },
        {
          "output_type": "stream",
          "name": "stderr",
          "text": [
            "\n"
          ]
        },
        {
          "output_type": "stream",
          "name": "stdout",
          "text": [
            "\n",
            "      Epoch    GPU_mem   box_loss  pose_loss  kobj_loss   cls_loss   dfl_loss  Instances       Size\n"
          ]
        },
        {
          "output_type": "stream",
          "name": "stderr",
          "text": [
            "     75/200      2.24G     0.3968      2.958     0.5171     0.4891      1.102          8        640: 100%|██████████| 53/53 [00:17<00:00,  3.05it/s]\n",
            "                 Class     Images  Instances      Box(P          R      mAP50  mAP50-95)     Pose(P          R      mAP50  mAP50-95): 100%|██████████| 8/8 [00:01<00:00,  4.76it/s]"
          ]
        },
        {
          "output_type": "stream",
          "name": "stdout",
          "text": [
            "                   all         60         60       0.98      0.967      0.985       0.96       0.49      0.517      0.376      0.121\n"
          ]
        },
        {
          "output_type": "stream",
          "name": "stderr",
          "text": [
            "\n"
          ]
        },
        {
          "output_type": "stream",
          "name": "stdout",
          "text": [
            "\n",
            "      Epoch    GPU_mem   box_loss  pose_loss  kobj_loss   cls_loss   dfl_loss  Instances       Size\n"
          ]
        },
        {
          "output_type": "stream",
          "name": "stderr",
          "text": [
            "     76/200      2.25G     0.4055      2.892     0.5325     0.4684      1.109          6        640: 100%|██████████| 53/53 [00:23<00:00,  2.29it/s]\n",
            "                 Class     Images  Instances      Box(P          R      mAP50  mAP50-95)     Pose(P          R      mAP50  mAP50-95): 100%|██████████| 8/8 [00:02<00:00,  2.87it/s]"
          ]
        },
        {
          "output_type": "stream",
          "name": "stdout",
          "text": [
            "                   all         60         60      0.999      0.983      0.989      0.973      0.442      0.483      0.356      0.117\n"
          ]
        },
        {
          "output_type": "stream",
          "name": "stderr",
          "text": [
            "\n"
          ]
        },
        {
          "output_type": "stream",
          "name": "stdout",
          "text": [
            "\n",
            "      Epoch    GPU_mem   box_loss  pose_loss  kobj_loss   cls_loss   dfl_loss  Instances       Size\n"
          ]
        },
        {
          "output_type": "stream",
          "name": "stderr",
          "text": [
            "     77/200      2.25G      0.381       2.94     0.5366     0.4555      1.111          5        640: 100%|██████████| 53/53 [00:22<00:00,  2.32it/s]\n",
            "                 Class     Images  Instances      Box(P          R      mAP50  mAP50-95)     Pose(P          R      mAP50  mAP50-95): 100%|██████████| 8/8 [00:02<00:00,  3.67it/s]"
          ]
        },
        {
          "output_type": "stream",
          "name": "stdout",
          "text": [
            "                   all         60         60      0.984      0.983      0.995      0.971      0.441       0.45      0.342      0.109\n"
          ]
        },
        {
          "output_type": "stream",
          "name": "stderr",
          "text": [
            "\n"
          ]
        },
        {
          "output_type": "stream",
          "name": "stdout",
          "text": [
            "\n",
            "      Epoch    GPU_mem   box_loss  pose_loss  kobj_loss   cls_loss   dfl_loss  Instances       Size\n"
          ]
        },
        {
          "output_type": "stream",
          "name": "stderr",
          "text": [
            "     78/200      2.24G     0.4056       2.79     0.5252     0.4781      1.102          4        640: 100%|██████████| 53/53 [00:24<00:00,  2.20it/s]\n",
            "                 Class     Images  Instances      Box(P          R      mAP50  mAP50-95)     Pose(P          R      mAP50  mAP50-95): 100%|██████████| 8/8 [00:03<00:00,  2.66it/s]"
          ]
        },
        {
          "output_type": "stream",
          "name": "stdout",
          "text": [
            "                   all         60         60      0.956      0.983      0.993      0.964       0.52      0.533      0.373      0.118\n"
          ]
        },
        {
          "output_type": "stream",
          "name": "stderr",
          "text": [
            "\n"
          ]
        },
        {
          "output_type": "stream",
          "name": "stdout",
          "text": [
            "\n",
            "      Epoch    GPU_mem   box_loss  pose_loss  kobj_loss   cls_loss   dfl_loss  Instances       Size\n"
          ]
        },
        {
          "output_type": "stream",
          "name": "stderr",
          "text": [
            "     79/200      2.24G     0.4182      3.041     0.5379     0.4641      1.114          3        640: 100%|██████████| 53/53 [00:17<00:00,  2.98it/s]\n",
            "                 Class     Images  Instances      Box(P          R      mAP50  mAP50-95)     Pose(P          R      mAP50  mAP50-95): 100%|██████████| 8/8 [00:02<00:00,  3.66it/s]"
          ]
        },
        {
          "output_type": "stream",
          "name": "stdout",
          "text": [
            "                   all         60         60      0.983          1      0.995       0.98      0.466        0.5      0.342      0.114\n"
          ]
        },
        {
          "output_type": "stream",
          "name": "stderr",
          "text": [
            "\n"
          ]
        },
        {
          "output_type": "stream",
          "name": "stdout",
          "text": [
            "\n",
            "      Epoch    GPU_mem   box_loss  pose_loss  kobj_loss   cls_loss   dfl_loss  Instances       Size\n"
          ]
        },
        {
          "output_type": "stream",
          "name": "stderr",
          "text": [
            "     80/200      2.24G      0.395      2.918     0.5217     0.4692      1.124          6        640: 100%|██████████| 53/53 [00:20<00:00,  2.57it/s]\n",
            "                 Class     Images  Instances      Box(P          R      mAP50  mAP50-95)     Pose(P          R      mAP50  mAP50-95): 100%|██████████| 8/8 [00:01<00:00,  4.23it/s]"
          ]
        },
        {
          "output_type": "stream",
          "name": "stdout",
          "text": [
            "                   all         60         60      0.999          1      0.995      0.987       0.54      0.533      0.443      0.134\n"
          ]
        },
        {
          "output_type": "stream",
          "name": "stderr",
          "text": [
            "\n"
          ]
        },
        {
          "output_type": "stream",
          "name": "stdout",
          "text": [
            "\n",
            "      Epoch    GPU_mem   box_loss  pose_loss  kobj_loss   cls_loss   dfl_loss  Instances       Size\n"
          ]
        },
        {
          "output_type": "stream",
          "name": "stderr",
          "text": [
            "     81/200      2.25G     0.3988      2.848     0.5161      0.464      1.102          6        640: 100%|██████████| 53/53 [00:23<00:00,  2.27it/s]\n",
            "                 Class     Images  Instances      Box(P          R      mAP50  mAP50-95)     Pose(P          R      mAP50  mAP50-95): 100%|██████████| 8/8 [00:02<00:00,  3.61it/s]"
          ]
        },
        {
          "output_type": "stream",
          "name": "stdout",
          "text": [
            "                   all         60         60      0.967      0.967      0.994      0.971      0.456      0.467      0.352      0.105\n"
          ]
        },
        {
          "output_type": "stream",
          "name": "stderr",
          "text": [
            "\n"
          ]
        },
        {
          "output_type": "stream",
          "name": "stdout",
          "text": [
            "\n",
            "      Epoch    GPU_mem   box_loss  pose_loss  kobj_loss   cls_loss   dfl_loss  Instances       Size\n"
          ]
        },
        {
          "output_type": "stream",
          "name": "stderr",
          "text": [
            "     82/200      2.25G      0.382      3.011     0.5146     0.4535      1.098          4        640: 100%|██████████| 53/53 [00:23<00:00,  2.23it/s]\n",
            "                 Class     Images  Instances      Box(P          R      mAP50  mAP50-95)     Pose(P          R      mAP50  mAP50-95): 100%|██████████| 8/8 [00:02<00:00,  3.66it/s]"
          ]
        },
        {
          "output_type": "stream",
          "name": "stdout",
          "text": [
            "                   all         60         60      0.974       0.95      0.992      0.967      0.422        0.4      0.313      0.109\n"
          ]
        },
        {
          "output_type": "stream",
          "name": "stderr",
          "text": [
            "\n"
          ]
        },
        {
          "output_type": "stream",
          "name": "stdout",
          "text": [
            "\n",
            "      Epoch    GPU_mem   box_loss  pose_loss  kobj_loss   cls_loss   dfl_loss  Instances       Size\n"
          ]
        },
        {
          "output_type": "stream",
          "name": "stderr",
          "text": [
            "     83/200      2.25G     0.3708      2.772     0.4944      0.418       1.09          5        640: 100%|██████████| 53/53 [00:23<00:00,  2.23it/s]\n",
            "                 Class     Images  Instances      Box(P          R      mAP50  mAP50-95)     Pose(P          R      mAP50  mAP50-95): 100%|██████████| 8/8 [00:02<00:00,  3.65it/s]"
          ]
        },
        {
          "output_type": "stream",
          "name": "stdout",
          "text": [
            "                   all         60         60      0.983       0.96      0.993      0.974      0.476      0.433      0.341      0.101\n"
          ]
        },
        {
          "output_type": "stream",
          "name": "stderr",
          "text": [
            "\n"
          ]
        },
        {
          "output_type": "stream",
          "name": "stdout",
          "text": [
            "\n",
            "      Epoch    GPU_mem   box_loss  pose_loss  kobj_loss   cls_loss   dfl_loss  Instances       Size\n"
          ]
        },
        {
          "output_type": "stream",
          "name": "stderr",
          "text": [
            "     84/200      2.15G     0.3818      3.039     0.5412      0.461      1.095          6        640: 100%|██████████| 53/53 [00:22<00:00,  2.31it/s]\n",
            "                 Class     Images  Instances      Box(P          R      mAP50  mAP50-95)     Pose(P          R      mAP50  mAP50-95): 100%|██████████| 8/8 [00:02<00:00,  3.71it/s]"
          ]
        },
        {
          "output_type": "stream",
          "name": "stdout",
          "text": [
            "                   all         60         60      0.995          1      0.995      0.983       0.42       0.45      0.329      0.108\n"
          ]
        },
        {
          "output_type": "stream",
          "name": "stderr",
          "text": [
            "\n"
          ]
        },
        {
          "output_type": "stream",
          "name": "stdout",
          "text": [
            "\n",
            "      Epoch    GPU_mem   box_loss  pose_loss  kobj_loss   cls_loss   dfl_loss  Instances       Size\n"
          ]
        },
        {
          "output_type": "stream",
          "name": "stderr",
          "text": [
            "     85/200      2.25G     0.3671      2.675     0.5357     0.4314      1.082          4        640: 100%|██████████| 53/53 [00:23<00:00,  2.23it/s]\n",
            "                 Class     Images  Instances      Box(P          R      mAP50  mAP50-95)     Pose(P          R      mAP50  mAP50-95): 100%|██████████| 8/8 [00:02<00:00,  3.66it/s]"
          ]
        },
        {
          "output_type": "stream",
          "name": "stdout",
          "text": [
            "                   all         60         60          1      0.996      0.995      0.986      0.455       0.45      0.326      0.108\n"
          ]
        },
        {
          "output_type": "stream",
          "name": "stderr",
          "text": [
            "\n"
          ]
        },
        {
          "output_type": "stream",
          "name": "stdout",
          "text": [
            "\n",
            "      Epoch    GPU_mem   box_loss  pose_loss  kobj_loss   cls_loss   dfl_loss  Instances       Size\n"
          ]
        },
        {
          "output_type": "stream",
          "name": "stderr",
          "text": [
            "     86/200      2.23G      0.353      2.652     0.5213     0.4432      1.075          5        640: 100%|██████████| 53/53 [00:25<00:00,  2.04it/s]\n",
            "                 Class     Images  Instances      Box(P          R      mAP50  mAP50-95)     Pose(P          R      mAP50  mAP50-95): 100%|██████████| 8/8 [00:02<00:00,  2.68it/s]"
          ]
        },
        {
          "output_type": "stream",
          "name": "stdout",
          "text": [
            "                   all         60         60      0.968      0.983      0.995      0.972       0.46      0.483      0.398      0.132\n"
          ]
        },
        {
          "output_type": "stream",
          "name": "stderr",
          "text": [
            "\n"
          ]
        },
        {
          "output_type": "stream",
          "name": "stdout",
          "text": [
            "\n",
            "      Epoch    GPU_mem   box_loss  pose_loss  kobj_loss   cls_loss   dfl_loss  Instances       Size\n"
          ]
        },
        {
          "output_type": "stream",
          "name": "stderr",
          "text": [
            "     87/200      2.23G     0.3682      2.992     0.5009     0.4598      1.074          6        640: 100%|██████████| 53/53 [00:22<00:00,  2.39it/s]\n",
            "                 Class     Images  Instances      Box(P          R      mAP50  mAP50-95)     Pose(P          R      mAP50  mAP50-95): 100%|██████████| 8/8 [00:01<00:00,  7.33it/s]"
          ]
        },
        {
          "output_type": "stream",
          "name": "stdout",
          "text": [
            "                   all         60         60      0.988          1      0.995       0.99      0.413      0.483      0.356      0.131\n"
          ]
        },
        {
          "output_type": "stream",
          "name": "stderr",
          "text": [
            "\n"
          ]
        },
        {
          "output_type": "stream",
          "name": "stdout",
          "text": [
            "\n",
            "      Epoch    GPU_mem   box_loss  pose_loss  kobj_loss   cls_loss   dfl_loss  Instances       Size\n"
          ]
        },
        {
          "output_type": "stream",
          "name": "stderr",
          "text": [
            "     88/200      2.24G     0.3593       2.99      0.528     0.4197      1.093          8        640: 100%|██████████| 53/53 [00:26<00:00,  1.99it/s]\n",
            "                 Class     Images  Instances      Box(P          R      mAP50  mAP50-95)     Pose(P          R      mAP50  mAP50-95): 100%|██████████| 8/8 [00:03<00:00,  2.58it/s]"
          ]
        },
        {
          "output_type": "stream",
          "name": "stdout",
          "text": [
            "                   all         60         60      0.984      0.997      0.995      0.981      0.467      0.468      0.384      0.131\n"
          ]
        },
        {
          "output_type": "stream",
          "name": "stderr",
          "text": [
            "\n"
          ]
        },
        {
          "output_type": "stream",
          "name": "stdout",
          "text": [
            "\n",
            "      Epoch    GPU_mem   box_loss  pose_loss  kobj_loss   cls_loss   dfl_loss  Instances       Size\n"
          ]
        },
        {
          "output_type": "stream",
          "name": "stderr",
          "text": [
            "     89/200      2.24G     0.3487      2.995     0.5223     0.4179      1.054          5        640: 100%|██████████| 53/53 [00:16<00:00,  3.18it/s]\n",
            "                 Class     Images  Instances      Box(P          R      mAP50  mAP50-95)     Pose(P          R      mAP50  mAP50-95): 100%|██████████| 8/8 [00:02<00:00,  3.65it/s]"
          ]
        },
        {
          "output_type": "stream",
          "name": "stdout",
          "text": [
            "                   all         60         60      0.987      0.983      0.995      0.985      0.506       0.55      0.476      0.157\n"
          ]
        },
        {
          "output_type": "stream",
          "name": "stderr",
          "text": [
            "\n"
          ]
        },
        {
          "output_type": "stream",
          "name": "stdout",
          "text": [
            "\n",
            "      Epoch    GPU_mem   box_loss  pose_loss  kobj_loss   cls_loss   dfl_loss  Instances       Size\n"
          ]
        },
        {
          "output_type": "stream",
          "name": "stderr",
          "text": [
            "     90/200      2.24G     0.3244      2.871     0.5088     0.3867      1.052          4        640: 100%|██████████| 53/53 [00:19<00:00,  2.69it/s]\n",
            "                 Class     Images  Instances      Box(P          R      mAP50  mAP50-95)     Pose(P          R      mAP50  mAP50-95): 100%|██████████| 8/8 [00:02<00:00,  3.65it/s]"
          ]
        },
        {
          "output_type": "stream",
          "name": "stdout",
          "text": [
            "                   all         60         60      0.978          1      0.994       0.97       0.54       0.55      0.456       0.15\n"
          ]
        },
        {
          "output_type": "stream",
          "name": "stderr",
          "text": [
            "\n"
          ]
        },
        {
          "output_type": "stream",
          "name": "stdout",
          "text": [
            "\n",
            "      Epoch    GPU_mem   box_loss  pose_loss  kobj_loss   cls_loss   dfl_loss  Instances       Size\n"
          ]
        },
        {
          "output_type": "stream",
          "name": "stderr",
          "text": [
            "     91/200      2.24G     0.3674      3.006     0.5211     0.4266      1.078          6        640: 100%|██████████| 53/53 [00:19<00:00,  2.79it/s]\n",
            "                 Class     Images  Instances      Box(P          R      mAP50  mAP50-95)     Pose(P          R      mAP50  mAP50-95): 100%|██████████| 8/8 [00:01<00:00,  4.20it/s]"
          ]
        },
        {
          "output_type": "stream",
          "name": "stdout",
          "text": [
            "                   all         60         60      0.984      0.999      0.994      0.983      0.465      0.467      0.374      0.127\n"
          ]
        },
        {
          "output_type": "stream",
          "name": "stderr",
          "text": [
            "\n"
          ]
        },
        {
          "output_type": "stream",
          "name": "stdout",
          "text": [
            "\n",
            "      Epoch    GPU_mem   box_loss  pose_loss  kobj_loss   cls_loss   dfl_loss  Instances       Size\n"
          ]
        },
        {
          "output_type": "stream",
          "name": "stderr",
          "text": [
            "     92/200      2.24G     0.3718      2.778     0.5039     0.4195      1.069          5        640: 100%|██████████| 53/53 [00:23<00:00,  2.21it/s]\n",
            "                 Class     Images  Instances      Box(P          R      mAP50  mAP50-95)     Pose(P          R      mAP50  mAP50-95): 100%|██████████| 8/8 [00:02<00:00,  3.60it/s]"
          ]
        },
        {
          "output_type": "stream",
          "name": "stdout",
          "text": [
            "                   all         60         60      0.983          1      0.995      0.982      0.432      0.481      0.402       0.14\n"
          ]
        },
        {
          "output_type": "stream",
          "name": "stderr",
          "text": [
            "\n"
          ]
        },
        {
          "output_type": "stream",
          "name": "stdout",
          "text": [
            "\n",
            "      Epoch    GPU_mem   box_loss  pose_loss  kobj_loss   cls_loss   dfl_loss  Instances       Size\n"
          ]
        },
        {
          "output_type": "stream",
          "name": "stderr",
          "text": [
            "     93/200      2.24G     0.3686      3.051     0.5317     0.4341      1.078          5        640: 100%|██████████| 53/53 [00:23<00:00,  2.24it/s]\n",
            "                 Class     Images  Instances      Box(P          R      mAP50  mAP50-95)     Pose(P          R      mAP50  mAP50-95): 100%|██████████| 8/8 [00:01<00:00,  4.09it/s]"
          ]
        },
        {
          "output_type": "stream",
          "name": "stdout",
          "text": [
            "                   all         60         60      0.964          1      0.994      0.985      0.398      0.533        0.4       0.13\n"
          ]
        },
        {
          "output_type": "stream",
          "name": "stderr",
          "text": [
            "\n"
          ]
        },
        {
          "output_type": "stream",
          "name": "stdout",
          "text": [
            "\n",
            "      Epoch    GPU_mem   box_loss  pose_loss  kobj_loss   cls_loss   dfl_loss  Instances       Size\n"
          ]
        },
        {
          "output_type": "stream",
          "name": "stderr",
          "text": [
            "     94/200      2.25G     0.3774      2.774     0.5027     0.4224      1.082          8        640: 100%|██████████| 53/53 [00:22<00:00,  2.37it/s]\n",
            "                 Class     Images  Instances      Box(P          R      mAP50  mAP50-95)     Pose(P          R      mAP50  mAP50-95): 100%|██████████| 8/8 [00:01<00:00,  4.51it/s]"
          ]
        },
        {
          "output_type": "stream",
          "name": "stdout",
          "text": [
            "                   all         60         60      0.965      0.983      0.991      0.976      0.513        0.5      0.405      0.133\n"
          ]
        },
        {
          "output_type": "stream",
          "name": "stderr",
          "text": [
            "\n"
          ]
        },
        {
          "output_type": "stream",
          "name": "stdout",
          "text": [
            "\n",
            "      Epoch    GPU_mem   box_loss  pose_loss  kobj_loss   cls_loss   dfl_loss  Instances       Size\n"
          ]
        },
        {
          "output_type": "stream",
          "name": "stderr",
          "text": [
            "     95/200      2.25G     0.3406      2.933     0.4992     0.4066      1.051          6        640: 100%|██████████| 53/53 [00:22<00:00,  2.32it/s]\n",
            "                 Class     Images  Instances      Box(P          R      mAP50  mAP50-95)     Pose(P          R      mAP50  mAP50-95): 100%|██████████| 8/8 [00:02<00:00,  2.73it/s]"
          ]
        },
        {
          "output_type": "stream",
          "name": "stdout",
          "text": [
            "                   all         60         60      0.993      0.983      0.995      0.981      0.523       0.55      0.444      0.147\n"
          ]
        },
        {
          "output_type": "stream",
          "name": "stderr",
          "text": [
            "\n"
          ]
        },
        {
          "output_type": "stream",
          "name": "stdout",
          "text": [
            "\n",
            "      Epoch    GPU_mem   box_loss  pose_loss  kobj_loss   cls_loss   dfl_loss  Instances       Size\n"
          ]
        },
        {
          "output_type": "stream",
          "name": "stderr",
          "text": [
            "     96/200      2.24G     0.3772      2.771     0.5295      0.432      1.088          6        640: 100%|██████████| 53/53 [00:20<00:00,  2.56it/s]\n",
            "                 Class     Images  Instances      Box(P          R      mAP50  mAP50-95)     Pose(P          R      mAP50  mAP50-95): 100%|██████████| 8/8 [00:02<00:00,  3.50it/s]"
          ]
        },
        {
          "output_type": "stream",
          "name": "stdout",
          "text": [
            "                   all         60         60      0.967      0.981      0.994       0.98       0.54      0.548       0.47      0.145\n"
          ]
        },
        {
          "output_type": "stream",
          "name": "stderr",
          "text": [
            "\n"
          ]
        },
        {
          "output_type": "stream",
          "name": "stdout",
          "text": [
            "\n",
            "      Epoch    GPU_mem   box_loss  pose_loss  kobj_loss   cls_loss   dfl_loss  Instances       Size\n"
          ]
        },
        {
          "output_type": "stream",
          "name": "stderr",
          "text": [
            "     97/200      2.26G     0.3429      2.974     0.5221     0.4196      1.053          8        640: 100%|██████████| 53/53 [00:24<00:00,  2.14it/s]\n",
            "                 Class     Images  Instances      Box(P          R      mAP50  mAP50-95)     Pose(P          R      mAP50  mAP50-95): 100%|██████████| 8/8 [00:02<00:00,  2.85it/s]"
          ]
        },
        {
          "output_type": "stream",
          "name": "stdout",
          "text": [
            "                   all         60         60      0.978      0.983      0.994      0.972      0.499        0.5      0.435       0.14\n"
          ]
        },
        {
          "output_type": "stream",
          "name": "stderr",
          "text": [
            "\n"
          ]
        },
        {
          "output_type": "stream",
          "name": "stdout",
          "text": [
            "\n",
            "      Epoch    GPU_mem   box_loss  pose_loss  kobj_loss   cls_loss   dfl_loss  Instances       Size\n"
          ]
        },
        {
          "output_type": "stream",
          "name": "stderr",
          "text": [
            "     98/200      2.25G      0.341      2.892     0.5126      0.416       1.07          8        640: 100%|██████████| 53/53 [00:22<00:00,  2.32it/s]\n",
            "                 Class     Images  Instances      Box(P          R      mAP50  mAP50-95)     Pose(P          R      mAP50  mAP50-95): 100%|██████████| 8/8 [00:02<00:00,  3.59it/s]"
          ]
        },
        {
          "output_type": "stream",
          "name": "stdout",
          "text": [
            "                   all         60         60       0.98          1      0.995      0.979      0.426      0.433      0.334       0.13\n"
          ]
        },
        {
          "output_type": "stream",
          "name": "stderr",
          "text": [
            "\n"
          ]
        },
        {
          "output_type": "stream",
          "name": "stdout",
          "text": [
            "\n",
            "      Epoch    GPU_mem   box_loss  pose_loss  kobj_loss   cls_loss   dfl_loss  Instances       Size\n"
          ]
        },
        {
          "output_type": "stream",
          "name": "stderr",
          "text": [
            "     99/200      2.25G     0.3175      2.809     0.5105      0.392      1.052          8        640: 100%|██████████| 53/53 [00:20<00:00,  2.58it/s]\n",
            "                 Class     Images  Instances      Box(P          R      mAP50  mAP50-95)     Pose(P          R      mAP50  mAP50-95): 100%|██████████| 8/8 [00:02<00:00,  3.17it/s]"
          ]
        },
        {
          "output_type": "stream",
          "name": "stdout",
          "text": [
            "                   all         60         60      0.967          1      0.994      0.984      0.475      0.467      0.436      0.149\n"
          ]
        },
        {
          "output_type": "stream",
          "name": "stderr",
          "text": [
            "\n"
          ]
        },
        {
          "output_type": "stream",
          "name": "stdout",
          "text": [
            "\n",
            "      Epoch    GPU_mem   box_loss  pose_loss  kobj_loss   cls_loss   dfl_loss  Instances       Size\n"
          ]
        },
        {
          "output_type": "stream",
          "name": "stderr",
          "text": [
            "    100/200      2.14G     0.3467      2.811     0.5222     0.4042       1.08          6        640: 100%|██████████| 53/53 [00:17<00:00,  3.05it/s]\n",
            "                 Class     Images  Instances      Box(P          R      mAP50  mAP50-95)     Pose(P          R      mAP50  mAP50-95): 100%|██████████| 8/8 [00:02<00:00,  3.41it/s]"
          ]
        },
        {
          "output_type": "stream",
          "name": "stdout",
          "text": [
            "                   all         60         60      0.966      0.983      0.991      0.983      0.505      0.517      0.407      0.147\n"
          ]
        },
        {
          "output_type": "stream",
          "name": "stderr",
          "text": [
            "\n"
          ]
        },
        {
          "output_type": "stream",
          "name": "stdout",
          "text": [
            "\n",
            "      Epoch    GPU_mem   box_loss  pose_loss  kobj_loss   cls_loss   dfl_loss  Instances       Size\n"
          ]
        },
        {
          "output_type": "stream",
          "name": "stderr",
          "text": [
            "    101/200      2.24G     0.3158      2.971     0.5165     0.4022      1.059          8        640: 100%|██████████| 53/53 [00:22<00:00,  2.41it/s]\n",
            "                 Class     Images  Instances      Box(P          R      mAP50  mAP50-95)     Pose(P          R      mAP50  mAP50-95): 100%|██████████| 8/8 [00:02<00:00,  3.62it/s]"
          ]
        },
        {
          "output_type": "stream",
          "name": "stdout",
          "text": [
            "                   all         60         60      0.998      0.967      0.994      0.987      0.426        0.5      0.359      0.122\n"
          ]
        },
        {
          "output_type": "stream",
          "name": "stderr",
          "text": [
            "\n"
          ]
        },
        {
          "output_type": "stream",
          "name": "stdout",
          "text": [
            "\n",
            "      Epoch    GPU_mem   box_loss  pose_loss  kobj_loss   cls_loss   dfl_loss  Instances       Size\n"
          ]
        },
        {
          "output_type": "stream",
          "name": "stderr",
          "text": [
            "    102/200      2.24G     0.3204      2.981      0.521     0.3884      1.042          8        640: 100%|██████████| 53/53 [00:17<00:00,  3.11it/s]\n",
            "                 Class     Images  Instances      Box(P          R      mAP50  mAP50-95)     Pose(P          R      mAP50  mAP50-95): 100%|██████████| 8/8 [00:01<00:00,  5.93it/s]"
          ]
        },
        {
          "output_type": "stream",
          "name": "stdout",
          "text": [
            "                   all         60         60      0.998      0.983      0.994      0.988      0.402       0.45      0.337      0.119\n"
          ]
        },
        {
          "output_type": "stream",
          "name": "stderr",
          "text": [
            "\n"
          ]
        },
        {
          "output_type": "stream",
          "name": "stdout",
          "text": [
            "\n",
            "      Epoch    GPU_mem   box_loss  pose_loss  kobj_loss   cls_loss   dfl_loss  Instances       Size\n"
          ]
        },
        {
          "output_type": "stream",
          "name": "stderr",
          "text": [
            "    103/200      2.24G     0.3407      2.738     0.5015     0.4074      1.069          8        640: 100%|██████████| 53/53 [00:20<00:00,  2.61it/s]\n",
            "                 Class     Images  Instances      Box(P          R      mAP50  mAP50-95)     Pose(P          R      mAP50  mAP50-95): 100%|██████████| 8/8 [00:02<00:00,  3.48it/s]"
          ]
        },
        {
          "output_type": "stream",
          "name": "stdout",
          "text": [
            "                   all         60         60      0.984          1      0.995      0.992      0.484      0.483      0.368      0.131\n"
          ]
        },
        {
          "output_type": "stream",
          "name": "stderr",
          "text": [
            "\n"
          ]
        },
        {
          "output_type": "stream",
          "name": "stdout",
          "text": [
            "\n",
            "      Epoch    GPU_mem   box_loss  pose_loss  kobj_loss   cls_loss   dfl_loss  Instances       Size\n"
          ]
        },
        {
          "output_type": "stream",
          "name": "stderr",
          "text": [
            "    104/200      2.24G     0.3322      2.668     0.5058     0.4064      1.049          8        640: 100%|██████████| 53/53 [00:24<00:00,  2.18it/s]\n",
            "                 Class     Images  Instances      Box(P          R      mAP50  mAP50-95)     Pose(P          R      mAP50  mAP50-95): 100%|██████████| 8/8 [00:03<00:00,  2.08it/s]"
          ]
        },
        {
          "output_type": "stream",
          "name": "stdout",
          "text": [
            "                   all         60         60      0.984      0.983      0.995      0.989      0.506        0.5      0.368      0.125\n"
          ]
        },
        {
          "output_type": "stream",
          "name": "stderr",
          "text": [
            "\n"
          ]
        },
        {
          "output_type": "stream",
          "name": "stdout",
          "text": [
            "\n",
            "      Epoch    GPU_mem   box_loss  pose_loss  kobj_loss   cls_loss   dfl_loss  Instances       Size\n"
          ]
        },
        {
          "output_type": "stream",
          "name": "stderr",
          "text": [
            "    105/200      2.25G      0.311      2.653     0.4965     0.3869       1.06          8        640: 100%|██████████| 53/53 [00:21<00:00,  2.41it/s]\n",
            "                 Class     Images  Instances      Box(P          R      mAP50  mAP50-95)     Pose(P          R      mAP50  mAP50-95): 100%|██████████| 8/8 [00:02<00:00,  3.55it/s]"
          ]
        },
        {
          "output_type": "stream",
          "name": "stdout",
          "text": [
            "                   all         60         60      0.996      0.983      0.994      0.988      0.523      0.517      0.387      0.134\n"
          ]
        },
        {
          "output_type": "stream",
          "name": "stderr",
          "text": [
            "\n"
          ]
        },
        {
          "output_type": "stream",
          "name": "stdout",
          "text": [
            "\n",
            "      Epoch    GPU_mem   box_loss  pose_loss  kobj_loss   cls_loss   dfl_loss  Instances       Size\n"
          ]
        },
        {
          "output_type": "stream",
          "name": "stderr",
          "text": [
            "    106/200      2.24G     0.2993      2.716      0.507     0.3844      1.039          8        640: 100%|██████████| 53/53 [00:25<00:00,  2.10it/s]\n",
            "                 Class     Images  Instances      Box(P          R      mAP50  mAP50-95)     Pose(P          R      mAP50  mAP50-95): 100%|██████████| 8/8 [00:02<00:00,  3.98it/s]"
          ]
        },
        {
          "output_type": "stream",
          "name": "stdout",
          "text": [
            "                   all         60         60      0.997          1      0.995      0.992      0.483      0.483      0.397      0.118\n"
          ]
        },
        {
          "output_type": "stream",
          "name": "stderr",
          "text": [
            "\n"
          ]
        },
        {
          "output_type": "stream",
          "name": "stdout",
          "text": [
            "\n",
            "      Epoch    GPU_mem   box_loss  pose_loss  kobj_loss   cls_loss   dfl_loss  Instances       Size\n"
          ]
        },
        {
          "output_type": "stream",
          "name": "stderr",
          "text": [
            "    107/200      2.24G     0.3326      2.654     0.4947     0.4133      1.076          6        640: 100%|██████████| 53/53 [00:20<00:00,  2.53it/s]\n",
            "                 Class     Images  Instances      Box(P          R      mAP50  mAP50-95)     Pose(P          R      mAP50  mAP50-95): 100%|██████████| 8/8 [00:01<00:00,  4.21it/s]"
          ]
        },
        {
          "output_type": "stream",
          "name": "stdout",
          "text": [
            "                   all         60         60      0.999          1      0.995       0.99      0.516      0.517      0.377      0.119\n"
          ]
        },
        {
          "output_type": "stream",
          "name": "stderr",
          "text": [
            "\n"
          ]
        },
        {
          "output_type": "stream",
          "name": "stdout",
          "text": [
            "\n",
            "      Epoch    GPU_mem   box_loss  pose_loss  kobj_loss   cls_loss   dfl_loss  Instances       Size\n"
          ]
        },
        {
          "output_type": "stream",
          "name": "stderr",
          "text": [
            "    108/200      2.24G     0.3292      2.883     0.4781     0.3803      1.043          8        640: 100%|██████████| 53/53 [00:23<00:00,  2.26it/s]\n",
            "                 Class     Images  Instances      Box(P          R      mAP50  mAP50-95)     Pose(P          R      mAP50  mAP50-95): 100%|██████████| 8/8 [00:03<00:00,  2.31it/s]"
          ]
        },
        {
          "output_type": "stream",
          "name": "stdout",
          "text": [
            "                   all         60         60      0.996      0.983      0.992      0.985      0.489      0.483      0.337      0.117\n"
          ]
        },
        {
          "output_type": "stream",
          "name": "stderr",
          "text": [
            "\n"
          ]
        },
        {
          "output_type": "stream",
          "name": "stdout",
          "text": [
            "\n",
            "      Epoch    GPU_mem   box_loss  pose_loss  kobj_loss   cls_loss   dfl_loss  Instances       Size\n"
          ]
        },
        {
          "output_type": "stream",
          "name": "stderr",
          "text": [
            "    109/200      2.24G     0.3418      2.702      0.511     0.4175       1.05          6        640: 100%|██████████| 53/53 [00:21<00:00,  2.41it/s]\n",
            "                 Class     Images  Instances      Box(P          R      mAP50  mAP50-95)     Pose(P          R      mAP50  mAP50-95): 100%|██████████| 8/8 [00:03<00:00,  2.58it/s]"
          ]
        },
        {
          "output_type": "stream",
          "name": "stdout",
          "text": [
            "                   all         60         60      0.998      0.967      0.993      0.986      0.595      0.567      0.508      0.142\n"
          ]
        },
        {
          "output_type": "stream",
          "name": "stderr",
          "text": [
            "\n"
          ]
        },
        {
          "output_type": "stream",
          "name": "stdout",
          "text": [
            "\n",
            "      Epoch    GPU_mem   box_loss  pose_loss  kobj_loss   cls_loss   dfl_loss  Instances       Size\n"
          ]
        },
        {
          "output_type": "stream",
          "name": "stderr",
          "text": [
            "    110/200      2.24G     0.3458      2.566     0.4691     0.3969      1.055          8        640: 100%|██████████| 53/53 [00:21<00:00,  2.42it/s]\n",
            "                 Class     Images  Instances      Box(P          R      mAP50  mAP50-95)     Pose(P          R      mAP50  mAP50-95): 100%|██████████| 8/8 [00:02<00:00,  3.66it/s]"
          ]
        },
        {
          "output_type": "stream",
          "name": "stdout",
          "text": [
            "                   all         60         60      0.981          1      0.995      0.992      0.435       0.45      0.337       0.13\n"
          ]
        },
        {
          "output_type": "stream",
          "name": "stderr",
          "text": [
            "\n"
          ]
        },
        {
          "output_type": "stream",
          "name": "stdout",
          "text": [
            "\n",
            "      Epoch    GPU_mem   box_loss  pose_loss  kobj_loss   cls_loss   dfl_loss  Instances       Size\n"
          ]
        },
        {
          "output_type": "stream",
          "name": "stderr",
          "text": [
            "    111/200      2.23G     0.3013      2.815     0.4945     0.3779      1.048          4        640: 100%|██████████| 53/53 [00:24<00:00,  2.16it/s]\n",
            "                 Class     Images  Instances      Box(P          R      mAP50  mAP50-95)     Pose(P          R      mAP50  mAP50-95): 100%|██████████| 8/8 [00:02<00:00,  3.60it/s]"
          ]
        },
        {
          "output_type": "stream",
          "name": "stdout",
          "text": [
            "                   all         60         60      0.989          1      0.995      0.993      0.434       0.45      0.367      0.145\n"
          ]
        },
        {
          "output_type": "stream",
          "name": "stderr",
          "text": [
            "\n"
          ]
        },
        {
          "output_type": "stream",
          "name": "stdout",
          "text": [
            "\n",
            "      Epoch    GPU_mem   box_loss  pose_loss  kobj_loss   cls_loss   dfl_loss  Instances       Size\n"
          ]
        },
        {
          "output_type": "stream",
          "name": "stderr",
          "text": [
            "    112/200      2.24G     0.3182      2.707     0.5194     0.3722      1.049          6        640: 100%|██████████| 53/53 [00:23<00:00,  2.27it/s]\n",
            "                 Class     Images  Instances      Box(P          R      mAP50  mAP50-95)     Pose(P          R      mAP50  mAP50-95): 100%|██████████| 8/8 [00:02<00:00,  2.76it/s]"
          ]
        },
        {
          "output_type": "stream",
          "name": "stdout",
          "text": [
            "                   all         60         60      0.982      0.983      0.994      0.976      0.586      0.617      0.462      0.158\n"
          ]
        },
        {
          "output_type": "stream",
          "name": "stderr",
          "text": [
            "\n"
          ]
        },
        {
          "output_type": "stream",
          "name": "stdout",
          "text": [
            "\n",
            "      Epoch    GPU_mem   box_loss  pose_loss  kobj_loss   cls_loss   dfl_loss  Instances       Size\n"
          ]
        },
        {
          "output_type": "stream",
          "name": "stderr",
          "text": [
            "    113/200      2.25G      0.322      2.704     0.5045     0.3831      1.054          8        640: 100%|██████████| 53/53 [00:23<00:00,  2.30it/s]\n",
            "                 Class     Images  Instances      Box(P          R      mAP50  mAP50-95)     Pose(P          R      mAP50  mAP50-95): 100%|██████████| 8/8 [00:02<00:00,  3.59it/s]"
          ]
        },
        {
          "output_type": "stream",
          "name": "stdout",
          "text": [
            "                   all         60         60      0.981          1      0.994      0.966      0.559      0.567      0.447      0.162\n"
          ]
        },
        {
          "output_type": "stream",
          "name": "stderr",
          "text": [
            "\n"
          ]
        },
        {
          "output_type": "stream",
          "name": "stdout",
          "text": [
            "\n",
            "      Epoch    GPU_mem   box_loss  pose_loss  kobj_loss   cls_loss   dfl_loss  Instances       Size\n"
          ]
        },
        {
          "output_type": "stream",
          "name": "stderr",
          "text": [
            "    114/200      2.25G       0.33      2.706     0.5086     0.3959      1.048          8        640: 100%|██████████| 53/53 [00:23<00:00,  2.23it/s]\n",
            "                 Class     Images  Instances      Box(P          R      mAP50  mAP50-95)     Pose(P          R      mAP50  mAP50-95): 100%|██████████| 8/8 [00:02<00:00,  3.66it/s]"
          ]
        },
        {
          "output_type": "stream",
          "name": "stdout",
          "text": [
            "                   all         60         60       0.98          1      0.995      0.978      0.523      0.533      0.411      0.157\n"
          ]
        },
        {
          "output_type": "stream",
          "name": "stderr",
          "text": [
            "\n"
          ]
        },
        {
          "output_type": "stream",
          "name": "stdout",
          "text": [
            "\n",
            "      Epoch    GPU_mem   box_loss  pose_loss  kobj_loss   cls_loss   dfl_loss  Instances       Size\n"
          ]
        },
        {
          "output_type": "stream",
          "name": "stderr",
          "text": [
            "    115/200      2.24G     0.3084      2.579     0.5101     0.3882      1.033          7        640: 100%|██████████| 53/53 [00:21<00:00,  2.42it/s]\n",
            "                 Class     Images  Instances      Box(P          R      mAP50  mAP50-95)     Pose(P          R      mAP50  mAP50-95): 100%|██████████| 8/8 [00:02<00:00,  2.81it/s]"
          ]
        },
        {
          "output_type": "stream",
          "name": "stdout",
          "text": [
            "                   all         60         60      0.983      0.948      0.991      0.977      0.552      0.533      0.459      0.162\n"
          ]
        },
        {
          "output_type": "stream",
          "name": "stderr",
          "text": [
            "\n"
          ]
        },
        {
          "output_type": "stream",
          "name": "stdout",
          "text": [
            "\n",
            "      Epoch    GPU_mem   box_loss  pose_loss  kobj_loss   cls_loss   dfl_loss  Instances       Size\n"
          ]
        },
        {
          "output_type": "stream",
          "name": "stderr",
          "text": [
            "    116/200      2.15G     0.3779      2.713     0.5263     0.4251      1.097          4        640: 100%|██████████| 53/53 [00:22<00:00,  2.41it/s]\n",
            "                 Class     Images  Instances      Box(P          R      mAP50  mAP50-95)     Pose(P          R      mAP50  mAP50-95): 100%|██████████| 8/8 [00:01<00:00,  6.58it/s]"
          ]
        },
        {
          "output_type": "stream",
          "name": "stdout",
          "text": [
            "                   all         60         60      0.967      0.982      0.993      0.971      0.505        0.5      0.389      0.144\n"
          ]
        },
        {
          "output_type": "stream",
          "name": "stderr",
          "text": [
            "\n"
          ]
        },
        {
          "output_type": "stream",
          "name": "stdout",
          "text": [
            "\n",
            "      Epoch    GPU_mem   box_loss  pose_loss  kobj_loss   cls_loss   dfl_loss  Instances       Size\n"
          ]
        },
        {
          "output_type": "stream",
          "name": "stderr",
          "text": [
            "    117/200      2.24G     0.3003        2.5     0.5124     0.3717      1.036          6        640: 100%|██████████| 53/53 [00:16<00:00,  3.14it/s]\n",
            "                 Class     Images  Instances      Box(P          R      mAP50  mAP50-95)     Pose(P          R      mAP50  mAP50-95): 100%|██████████| 8/8 [00:02<00:00,  3.65it/s]"
          ]
        },
        {
          "output_type": "stream",
          "name": "stdout",
          "text": [
            "                   all         60         60      0.984      0.998      0.995      0.978       0.58      0.583      0.465      0.179\n"
          ]
        },
        {
          "output_type": "stream",
          "name": "stderr",
          "text": [
            "\n"
          ]
        },
        {
          "output_type": "stream",
          "name": "stdout",
          "text": [
            "\n",
            "      Epoch    GPU_mem   box_loss  pose_loss  kobj_loss   cls_loss   dfl_loss  Instances       Size\n"
          ]
        },
        {
          "output_type": "stream",
          "name": "stderr",
          "text": [
            "    118/200      2.24G     0.3137      2.669     0.4973     0.3801       1.04          9        640: 100%|██████████| 53/53 [00:24<00:00,  2.13it/s]\n",
            "                 Class     Images  Instances      Box(P          R      mAP50  mAP50-95)     Pose(P          R      mAP50  mAP50-95): 100%|██████████| 8/8 [00:03<00:00,  2.46it/s]"
          ]
        },
        {
          "output_type": "stream",
          "name": "stdout",
          "text": [
            "                   all         60         60      0.987      0.967      0.994      0.982      0.599        0.6       0.51      0.189\n"
          ]
        },
        {
          "output_type": "stream",
          "name": "stderr",
          "text": [
            "\n"
          ]
        },
        {
          "output_type": "stream",
          "name": "stdout",
          "text": [
            "\n",
            "      Epoch    GPU_mem   box_loss  pose_loss  kobj_loss   cls_loss   dfl_loss  Instances       Size\n"
          ]
        },
        {
          "output_type": "stream",
          "name": "stderr",
          "text": [
            "    119/200      2.24G     0.3338      2.424     0.5073     0.4254      1.056          6        640: 100%|██████████| 53/53 [00:25<00:00,  2.09it/s]\n",
            "                 Class     Images  Instances      Box(P          R      mAP50  mAP50-95)     Pose(P          R      mAP50  mAP50-95): 100%|██████████| 8/8 [00:02<00:00,  3.67it/s]"
          ]
        },
        {
          "output_type": "stream",
          "name": "stdout",
          "text": [
            "                   all         60         60      0.951      0.983      0.993      0.978      0.515       0.65      0.463      0.195\n"
          ]
        },
        {
          "output_type": "stream",
          "name": "stderr",
          "text": [
            "\n"
          ]
        },
        {
          "output_type": "stream",
          "name": "stdout",
          "text": [
            "\n",
            "      Epoch    GPU_mem   box_loss  pose_loss  kobj_loss   cls_loss   dfl_loss  Instances       Size\n"
          ]
        },
        {
          "output_type": "stream",
          "name": "stderr",
          "text": [
            "    120/200      2.24G     0.3238       2.69     0.5366     0.4167      1.041          8        640: 100%|██████████| 53/53 [00:21<00:00,  2.52it/s]\n",
            "                 Class     Images  Instances      Box(P          R      mAP50  mAP50-95)     Pose(P          R      mAP50  mAP50-95): 100%|██████████| 8/8 [00:01<00:00,  4.20it/s]"
          ]
        },
        {
          "output_type": "stream",
          "name": "stdout",
          "text": [
            "                   all         60         60      0.966          1      0.995      0.978      0.605      0.617      0.503      0.185\n"
          ]
        },
        {
          "output_type": "stream",
          "name": "stderr",
          "text": [
            "\n"
          ]
        },
        {
          "output_type": "stream",
          "name": "stdout",
          "text": [
            "\n",
            "      Epoch    GPU_mem   box_loss  pose_loss  kobj_loss   cls_loss   dfl_loss  Instances       Size\n"
          ]
        },
        {
          "output_type": "stream",
          "name": "stderr",
          "text": [
            "    121/200      2.25G     0.3134      2.602     0.4714     0.3867      1.037          8        640: 100%|██████████| 53/53 [00:21<00:00,  2.42it/s]\n",
            "                 Class     Images  Instances      Box(P          R      mAP50  mAP50-95)     Pose(P          R      mAP50  mAP50-95): 100%|██████████| 8/8 [00:03<00:00,  2.63it/s]"
          ]
        },
        {
          "output_type": "stream",
          "name": "stdout",
          "text": [
            "                   all         60         60      0.969      0.983      0.994      0.979      0.612      0.583      0.447      0.159\n"
          ]
        },
        {
          "output_type": "stream",
          "name": "stderr",
          "text": [
            "\n"
          ]
        },
        {
          "output_type": "stream",
          "name": "stdout",
          "text": [
            "\n",
            "      Epoch    GPU_mem   box_loss  pose_loss  kobj_loss   cls_loss   dfl_loss  Instances       Size\n"
          ]
        },
        {
          "output_type": "stream",
          "name": "stderr",
          "text": [
            "    122/200      2.24G     0.3263      2.414     0.4805     0.3943       1.05          7        640: 100%|██████████| 53/53 [00:24<00:00,  2.14it/s]\n",
            "                 Class     Images  Instances      Box(P          R      mAP50  mAP50-95)     Pose(P          R      mAP50  mAP50-95): 100%|██████████| 8/8 [00:02<00:00,  3.69it/s]"
          ]
        },
        {
          "output_type": "stream",
          "name": "stdout",
          "text": [
            "                   all         60         60      0.965          1      0.994      0.969      0.599      0.583      0.493      0.156\n"
          ]
        },
        {
          "output_type": "stream",
          "name": "stderr",
          "text": [
            "\n"
          ]
        },
        {
          "output_type": "stream",
          "name": "stdout",
          "text": [
            "\n",
            "      Epoch    GPU_mem   box_loss  pose_loss  kobj_loss   cls_loss   dfl_loss  Instances       Size\n"
          ]
        },
        {
          "output_type": "stream",
          "name": "stderr",
          "text": [
            "    123/200      2.24G     0.3454      2.397     0.4755     0.4164      1.046          8        640: 100%|██████████| 53/53 [00:20<00:00,  2.53it/s]\n",
            "                 Class     Images  Instances      Box(P          R      mAP50  mAP50-95)     Pose(P          R      mAP50  mAP50-95): 100%|██████████| 8/8 [00:02<00:00,  2.76it/s]"
          ]
        },
        {
          "output_type": "stream",
          "name": "stdout",
          "text": [
            "                   all         60         60          1          1      0.995      0.983      0.482        0.5      0.339       0.12\n"
          ]
        },
        {
          "output_type": "stream",
          "name": "stderr",
          "text": [
            "\n"
          ]
        },
        {
          "output_type": "stream",
          "name": "stdout",
          "text": [
            "\n",
            "      Epoch    GPU_mem   box_loss  pose_loss  kobj_loss   cls_loss   dfl_loss  Instances       Size\n"
          ]
        },
        {
          "output_type": "stream",
          "name": "stderr",
          "text": [
            "    124/200      2.24G     0.3184      2.317     0.4777     0.3923      1.047          8        640: 100%|██████████| 53/53 [00:20<00:00,  2.53it/s]\n",
            "                 Class     Images  Instances      Box(P          R      mAP50  mAP50-95)     Pose(P          R      mAP50  mAP50-95): 100%|██████████| 8/8 [00:02<00:00,  2.73it/s]"
          ]
        },
        {
          "output_type": "stream",
          "name": "stdout",
          "text": [
            "                   all         60         60      0.998          1      0.995      0.983      0.459      0.466       0.35      0.144\n"
          ]
        },
        {
          "output_type": "stream",
          "name": "stderr",
          "text": [
            "\n"
          ]
        },
        {
          "output_type": "stream",
          "name": "stdout",
          "text": [
            "\n",
            "      Epoch    GPU_mem   box_loss  pose_loss  kobj_loss   cls_loss   dfl_loss  Instances       Size\n"
          ]
        },
        {
          "output_type": "stream",
          "name": "stderr",
          "text": [
            "    125/200      2.24G     0.3188      2.654     0.5033     0.3795      1.038          8        640: 100%|██████████| 53/53 [00:21<00:00,  2.50it/s]\n",
            "                 Class     Images  Instances      Box(P          R      mAP50  mAP50-95)     Pose(P          R      mAP50  mAP50-95): 100%|██████████| 8/8 [00:01<00:00,  5.14it/s]"
          ]
        },
        {
          "output_type": "stream",
          "name": "stdout",
          "text": [
            "                   all         60         60      0.989          1      0.995      0.975      0.548      0.567      0.428      0.155\n"
          ]
        },
        {
          "output_type": "stream",
          "name": "stderr",
          "text": [
            "\n"
          ]
        },
        {
          "output_type": "stream",
          "name": "stdout",
          "text": [
            "\n",
            "      Epoch    GPU_mem   box_loss  pose_loss  kobj_loss   cls_loss   dfl_loss  Instances       Size\n"
          ]
        },
        {
          "output_type": "stream",
          "name": "stderr",
          "text": [
            "    126/200      2.24G      0.313      2.443     0.5007     0.4021       1.05          6        640: 100%|██████████| 53/53 [00:24<00:00,  2.18it/s]\n",
            "                 Class     Images  Instances      Box(P          R      mAP50  mAP50-95)     Pose(P          R      mAP50  mAP50-95): 100%|██████████| 8/8 [00:03<00:00,  2.57it/s]"
          ]
        },
        {
          "output_type": "stream",
          "name": "stdout",
          "text": [
            "                   all         60         60      0.996          1      0.995      0.985      0.586      0.614      0.517      0.191\n"
          ]
        },
        {
          "output_type": "stream",
          "name": "stderr",
          "text": [
            "\n"
          ]
        },
        {
          "output_type": "stream",
          "name": "stdout",
          "text": [
            "\n",
            "      Epoch    GPU_mem   box_loss  pose_loss  kobj_loss   cls_loss   dfl_loss  Instances       Size\n"
          ]
        },
        {
          "output_type": "stream",
          "name": "stderr",
          "text": [
            "    127/200      2.24G     0.2943      2.426      0.507     0.3725      1.043          6        640: 100%|██████████| 53/53 [00:26<00:00,  2.04it/s]\n",
            "                 Class     Images  Instances      Box(P          R      mAP50  mAP50-95)     Pose(P          R      mAP50  mAP50-95): 100%|██████████| 8/8 [00:02<00:00,  3.68it/s]"
          ]
        },
        {
          "output_type": "stream",
          "name": "stdout",
          "text": [
            "                   all         60         60      0.985      0.983      0.995      0.984      0.612      0.633       0.51      0.198\n"
          ]
        },
        {
          "output_type": "stream",
          "name": "stderr",
          "text": [
            "\n"
          ]
        },
        {
          "output_type": "stream",
          "name": "stdout",
          "text": [
            "\n",
            "      Epoch    GPU_mem   box_loss  pose_loss  kobj_loss   cls_loss   dfl_loss  Instances       Size\n"
          ]
        },
        {
          "output_type": "stream",
          "name": "stderr",
          "text": [
            "    128/200      2.24G     0.3009       2.23     0.4938     0.3989      1.046          8        640: 100%|██████████| 53/53 [00:23<00:00,  2.23it/s]\n",
            "                 Class     Images  Instances      Box(P          R      mAP50  mAP50-95)     Pose(P          R      mAP50  mAP50-95): 100%|██████████| 8/8 [00:02<00:00,  3.67it/s]"
          ]
        },
        {
          "output_type": "stream",
          "name": "stdout",
          "text": [
            "                   all         60         60          1      0.998      0.995      0.979      0.615      0.617      0.499      0.214\n"
          ]
        },
        {
          "output_type": "stream",
          "name": "stderr",
          "text": [
            "\n"
          ]
        },
        {
          "output_type": "stream",
          "name": "stdout",
          "text": [
            "\n",
            "      Epoch    GPU_mem   box_loss  pose_loss  kobj_loss   cls_loss   dfl_loss  Instances       Size\n"
          ]
        },
        {
          "output_type": "stream",
          "name": "stderr",
          "text": [
            "    129/200      2.25G     0.3108      2.491     0.5112     0.4009       1.04          6        640: 100%|██████████| 53/53 [00:19<00:00,  2.65it/s]\n",
            "                 Class     Images  Instances      Box(P          R      mAP50  mAP50-95)     Pose(P          R      mAP50  mAP50-95): 100%|██████████| 8/8 [00:02<00:00,  2.83it/s]"
          ]
        },
        {
          "output_type": "stream",
          "name": "stdout",
          "text": [
            "                   all         60         60      0.997          1      0.995      0.977      0.631      0.633      0.516      0.221\n"
          ]
        },
        {
          "output_type": "stream",
          "name": "stderr",
          "text": [
            "\n"
          ]
        },
        {
          "output_type": "stream",
          "name": "stdout",
          "text": [
            "\n",
            "      Epoch    GPU_mem   box_loss  pose_loss  kobj_loss   cls_loss   dfl_loss  Instances       Size\n"
          ]
        },
        {
          "output_type": "stream",
          "name": "stderr",
          "text": [
            "    130/200      2.25G     0.2941      2.194     0.4704     0.3947      1.036          6        640: 100%|██████████| 53/53 [00:22<00:00,  2.37it/s]\n",
            "                 Class     Images  Instances      Box(P          R      mAP50  mAP50-95)     Pose(P          R      mAP50  mAP50-95): 100%|██████████| 8/8 [00:02<00:00,  3.37it/s]"
          ]
        },
        {
          "output_type": "stream",
          "name": "stdout",
          "text": [
            "                   all         60         60      0.997          1      0.995      0.988      0.697        0.7      0.588       0.26\n"
          ]
        },
        {
          "output_type": "stream",
          "name": "stderr",
          "text": [
            "\n"
          ]
        },
        {
          "output_type": "stream",
          "name": "stdout",
          "text": [
            "\n",
            "      Epoch    GPU_mem   box_loss  pose_loss  kobj_loss   cls_loss   dfl_loss  Instances       Size\n"
          ]
        },
        {
          "output_type": "stream",
          "name": "stderr",
          "text": [
            "    131/200      2.25G     0.3117      2.298      0.488     0.3985      1.043          6        640: 100%|██████████| 53/53 [00:23<00:00,  2.26it/s]\n",
            "                 Class     Images  Instances      Box(P          R      mAP50  mAP50-95)     Pose(P          R      mAP50  mAP50-95): 100%|██████████| 8/8 [00:02<00:00,  4.00it/s]"
          ]
        },
        {
          "output_type": "stream",
          "name": "stdout",
          "text": [
            "                   all         60         60      0.965          1      0.995      0.981      0.723       0.75      0.693      0.255\n"
          ]
        },
        {
          "output_type": "stream",
          "name": "stderr",
          "text": [
            "\n"
          ]
        },
        {
          "output_type": "stream",
          "name": "stdout",
          "text": [
            "\n",
            "      Epoch    GPU_mem   box_loss  pose_loss  kobj_loss   cls_loss   dfl_loss  Instances       Size\n"
          ]
        },
        {
          "output_type": "stream",
          "name": "stderr",
          "text": [
            "    132/200      2.15G     0.2999      2.425     0.4858     0.3897      1.028          8        640: 100%|██████████| 53/53 [00:16<00:00,  3.26it/s]\n",
            "                 Class     Images  Instances      Box(P          R      mAP50  mAP50-95)     Pose(P          R      mAP50  mAP50-95): 100%|██████████| 8/8 [00:02<00:00,  2.86it/s]"
          ]
        },
        {
          "output_type": "stream",
          "name": "stdout",
          "text": [
            "                   all         60         60      0.981          1      0.994      0.954      0.712       0.75      0.663      0.257\n"
          ]
        },
        {
          "output_type": "stream",
          "name": "stderr",
          "text": [
            "\n"
          ]
        },
        {
          "output_type": "stream",
          "name": "stdout",
          "text": [
            "\n",
            "      Epoch    GPU_mem   box_loss  pose_loss  kobj_loss   cls_loss   dfl_loss  Instances       Size\n"
          ]
        },
        {
          "output_type": "stream",
          "name": "stderr",
          "text": [
            "    133/200      2.24G     0.3018      2.464     0.5003     0.3888      1.016          5        640: 100%|██████████| 53/53 [00:20<00:00,  2.60it/s]\n",
            "                 Class     Images  Instances      Box(P          R      mAP50  mAP50-95)     Pose(P          R      mAP50  mAP50-95): 100%|██████████| 8/8 [00:02<00:00,  3.67it/s]"
          ]
        },
        {
          "output_type": "stream",
          "name": "stdout",
          "text": [
            "                   all         60         60      0.983      0.993      0.995      0.943      0.708      0.717      0.659      0.304\n"
          ]
        },
        {
          "output_type": "stream",
          "name": "stderr",
          "text": [
            "\n"
          ]
        },
        {
          "output_type": "stream",
          "name": "stdout",
          "text": [
            "\n",
            "      Epoch    GPU_mem   box_loss  pose_loss  kobj_loss   cls_loss   dfl_loss  Instances       Size\n"
          ]
        },
        {
          "output_type": "stream",
          "name": "stderr",
          "text": [
            "    134/200      2.25G     0.3205      2.135     0.4683     0.3926      1.045          8        640: 100%|██████████| 53/53 [00:21<00:00,  2.52it/s]\n",
            "                 Class     Images  Instances      Box(P          R      mAP50  mAP50-95)     Pose(P          R      mAP50  mAP50-95): 100%|██████████| 8/8 [00:02<00:00,  3.63it/s]"
          ]
        },
        {
          "output_type": "stream",
          "name": "stdout",
          "text": [
            "                   all         60         60      0.972      0.983      0.994      0.957      0.604      0.633      0.548      0.224\n"
          ]
        },
        {
          "output_type": "stream",
          "name": "stderr",
          "text": [
            "\n"
          ]
        },
        {
          "output_type": "stream",
          "name": "stdout",
          "text": [
            "\n",
            "      Epoch    GPU_mem   box_loss  pose_loss  kobj_loss   cls_loss   dfl_loss  Instances       Size\n"
          ]
        },
        {
          "output_type": "stream",
          "name": "stderr",
          "text": [
            "    135/200      2.24G     0.2938      2.103     0.4792     0.3742       1.02          6        640: 100%|██████████| 53/53 [00:19<00:00,  2.69it/s]\n",
            "                 Class     Images  Instances      Box(P          R      mAP50  mAP50-95)     Pose(P          R      mAP50  mAP50-95): 100%|██████████| 8/8 [00:02<00:00,  3.59it/s]"
          ]
        },
        {
          "output_type": "stream",
          "name": "stdout",
          "text": [
            "                   all         60         60      0.996      0.983      0.995      0.986      0.686      0.728      0.616      0.248\n"
          ]
        },
        {
          "output_type": "stream",
          "name": "stderr",
          "text": [
            "\n"
          ]
        },
        {
          "output_type": "stream",
          "name": "stdout",
          "text": [
            "\n",
            "      Epoch    GPU_mem   box_loss  pose_loss  kobj_loss   cls_loss   dfl_loss  Instances       Size\n"
          ]
        },
        {
          "output_type": "stream",
          "name": "stderr",
          "text": [
            "    136/200      2.24G     0.2982      2.108     0.4613     0.3632      1.029          6        640: 100%|██████████| 53/53 [00:23<00:00,  2.29it/s]\n",
            "                 Class     Images  Instances      Box(P          R      mAP50  mAP50-95)     Pose(P          R      mAP50  mAP50-95): 100%|██████████| 8/8 [00:02<00:00,  3.65it/s]"
          ]
        },
        {
          "output_type": "stream",
          "name": "stdout",
          "text": [
            "                   all         60         60      0.995      0.983      0.995      0.983      0.711       0.75      0.655      0.298\n"
          ]
        },
        {
          "output_type": "stream",
          "name": "stderr",
          "text": [
            "\n"
          ]
        },
        {
          "output_type": "stream",
          "name": "stdout",
          "text": [
            "\n",
            "      Epoch    GPU_mem   box_loss  pose_loss  kobj_loss   cls_loss   dfl_loss  Instances       Size\n"
          ]
        },
        {
          "output_type": "stream",
          "name": "stderr",
          "text": [
            "    137/200      2.25G     0.3116      2.166     0.4738     0.3698      1.043          8        640: 100%|██████████| 53/53 [00:23<00:00,  2.25it/s]\n",
            "                 Class     Images  Instances      Box(P          R      mAP50  mAP50-95)     Pose(P          R      mAP50  mAP50-95): 100%|██████████| 8/8 [00:01<00:00,  6.03it/s]"
          ]
        },
        {
          "output_type": "stream",
          "name": "stdout",
          "text": [
            "                   all         60         60      0.998      0.983      0.993      0.973      0.779      0.783      0.718      0.313\n"
          ]
        },
        {
          "output_type": "stream",
          "name": "stderr",
          "text": [
            "\n"
          ]
        },
        {
          "output_type": "stream",
          "name": "stdout",
          "text": [
            "\n",
            "      Epoch    GPU_mem   box_loss  pose_loss  kobj_loss   cls_loss   dfl_loss  Instances       Size\n"
          ]
        },
        {
          "output_type": "stream",
          "name": "stderr",
          "text": [
            "    138/200      2.24G     0.3268      2.203     0.4742     0.4115      1.057          8        640: 100%|██████████| 53/53 [00:25<00:00,  2.11it/s]\n",
            "                 Class     Images  Instances      Box(P          R      mAP50  mAP50-95)     Pose(P          R      mAP50  mAP50-95): 100%|██████████| 8/8 [00:02<00:00,  2.69it/s]"
          ]
        },
        {
          "output_type": "stream",
          "name": "stdout",
          "text": [
            "                   all         60         60          1      0.998      0.995      0.976      0.698       0.75      0.726      0.327\n"
          ]
        },
        {
          "output_type": "stream",
          "name": "stderr",
          "text": [
            "\n"
          ]
        },
        {
          "output_type": "stream",
          "name": "stdout",
          "text": [
            "\n",
            "      Epoch    GPU_mem   box_loss  pose_loss  kobj_loss   cls_loss   dfl_loss  Instances       Size\n"
          ]
        },
        {
          "output_type": "stream",
          "name": "stderr",
          "text": [
            "    139/200      2.24G     0.2982      2.209     0.4459     0.3955       1.04          8        640: 100%|██████████| 53/53 [00:24<00:00,  2.20it/s]\n",
            "                 Class     Images  Instances      Box(P          R      mAP50  mAP50-95)     Pose(P          R      mAP50  mAP50-95): 100%|██████████| 8/8 [00:01<00:00,  5.14it/s]"
          ]
        },
        {
          "output_type": "stream",
          "name": "stdout",
          "text": [
            "                   all         60         60      0.997          1      0.995      0.986      0.737       0.75      0.711      0.345\n"
          ]
        },
        {
          "output_type": "stream",
          "name": "stderr",
          "text": [
            "\n"
          ]
        },
        {
          "output_type": "stream",
          "name": "stdout",
          "text": [
            "\n",
            "      Epoch    GPU_mem   box_loss  pose_loss  kobj_loss   cls_loss   dfl_loss  Instances       Size\n"
          ]
        },
        {
          "output_type": "stream",
          "name": "stderr",
          "text": [
            "    140/200      2.24G     0.2974      2.015     0.4568     0.3758      1.032          5        640: 100%|██████████| 53/53 [00:23<00:00,  2.25it/s]\n",
            "                 Class     Images  Instances      Box(P          R      mAP50  mAP50-95)     Pose(P          R      mAP50  mAP50-95): 100%|██████████| 8/8 [00:02<00:00,  3.69it/s]"
          ]
        },
        {
          "output_type": "stream",
          "name": "stdout",
          "text": [
            "                   all         60         60      0.998          1      0.995      0.989      0.787        0.8      0.739      0.365\n"
          ]
        },
        {
          "output_type": "stream",
          "name": "stderr",
          "text": [
            "\n"
          ]
        },
        {
          "output_type": "stream",
          "name": "stdout",
          "text": [
            "\n",
            "      Epoch    GPU_mem   box_loss  pose_loss  kobj_loss   cls_loss   dfl_loss  Instances       Size\n"
          ]
        },
        {
          "output_type": "stream",
          "name": "stderr",
          "text": [
            "    141/200      2.24G     0.2827      2.126     0.4798     0.3673      1.014          6        640: 100%|██████████| 53/53 [00:22<00:00,  2.32it/s]\n",
            "                 Class     Images  Instances      Box(P          R      mAP50  mAP50-95)     Pose(P          R      mAP50  mAP50-95): 100%|██████████| 8/8 [00:02<00:00,  3.46it/s]"
          ]
        },
        {
          "output_type": "stream",
          "name": "stdout",
          "text": [
            "                   all         60         60      0.982          1      0.995      0.987      0.816      0.817      0.746      0.381\n"
          ]
        },
        {
          "output_type": "stream",
          "name": "stderr",
          "text": [
            "\n"
          ]
        },
        {
          "output_type": "stream",
          "name": "stdout",
          "text": [
            "\n",
            "      Epoch    GPU_mem   box_loss  pose_loss  kobj_loss   cls_loss   dfl_loss  Instances       Size\n"
          ]
        },
        {
          "output_type": "stream",
          "name": "stderr",
          "text": [
            "    142/200      2.23G     0.2742      1.995     0.4714     0.3583      1.008          6        640: 100%|██████████| 53/53 [00:24<00:00,  2.20it/s]\n",
            "                 Class     Images  Instances      Box(P          R      mAP50  mAP50-95)     Pose(P          R      mAP50  mAP50-95): 100%|██████████| 8/8 [00:01<00:00,  4.02it/s]"
          ]
        },
        {
          "output_type": "stream",
          "name": "stdout",
          "text": [
            "                   all         60         60      0.983      0.983      0.995      0.962      0.815      0.833      0.768      0.392\n"
          ]
        },
        {
          "output_type": "stream",
          "name": "stderr",
          "text": [
            "\n"
          ]
        },
        {
          "output_type": "stream",
          "name": "stdout",
          "text": [
            "\n",
            "      Epoch    GPU_mem   box_loss  pose_loss  kobj_loss   cls_loss   dfl_loss  Instances       Size\n"
          ]
        },
        {
          "output_type": "stream",
          "name": "stderr",
          "text": [
            "    143/200      2.24G     0.3183      2.281     0.4509     0.3908      1.039          8        640: 100%|██████████| 53/53 [00:20<00:00,  2.55it/s]\n",
            "                 Class     Images  Instances      Box(P          R      mAP50  mAP50-95)     Pose(P          R      mAP50  mAP50-95): 100%|██████████| 8/8 [00:02<00:00,  2.76it/s]"
          ]
        },
        {
          "output_type": "stream",
          "name": "stdout",
          "text": [
            "                   all         60         60      0.991      0.983      0.995      0.972       0.75      0.748      0.652      0.325\n"
          ]
        },
        {
          "output_type": "stream",
          "name": "stderr",
          "text": [
            "\n"
          ]
        },
        {
          "output_type": "stream",
          "name": "stdout",
          "text": [
            "\n",
            "      Epoch    GPU_mem   box_loss  pose_loss  kobj_loss   cls_loss   dfl_loss  Instances       Size\n"
          ]
        },
        {
          "output_type": "stream",
          "name": "stderr",
          "text": [
            "    144/200      2.24G     0.3164      2.004     0.4648     0.4023      1.038          6        640: 100%|██████████| 53/53 [00:22<00:00,  2.40it/s]\n",
            "                 Class     Images  Instances      Box(P          R      mAP50  mAP50-95)     Pose(P          R      mAP50  mAP50-95): 100%|██████████| 8/8 [00:03<00:00,  2.58it/s]"
          ]
        },
        {
          "output_type": "stream",
          "name": "stdout",
          "text": [
            "                   all         60         60      0.998          1      0.995      0.991      0.798        0.8      0.723      0.358\n"
          ]
        },
        {
          "output_type": "stream",
          "name": "stderr",
          "text": [
            "\n"
          ]
        },
        {
          "output_type": "stream",
          "name": "stdout",
          "text": [
            "\n",
            "      Epoch    GPU_mem   box_loss  pose_loss  kobj_loss   cls_loss   dfl_loss  Instances       Size\n"
          ]
        },
        {
          "output_type": "stream",
          "name": "stderr",
          "text": [
            "    145/200      2.24G     0.2867      2.067     0.4401     0.3554      1.028          8        640: 100%|██████████| 53/53 [00:20<00:00,  2.54it/s]\n",
            "                 Class     Images  Instances      Box(P          R      mAP50  mAP50-95)     Pose(P          R      mAP50  mAP50-95): 100%|██████████| 8/8 [00:02<00:00,  3.33it/s]"
          ]
        },
        {
          "output_type": "stream",
          "name": "stdout",
          "text": [
            "                   all         60         60      0.983          1      0.995      0.979       0.78      0.783      0.724      0.362\n"
          ]
        },
        {
          "output_type": "stream",
          "name": "stderr",
          "text": [
            "\n"
          ]
        },
        {
          "output_type": "stream",
          "name": "stdout",
          "text": [
            "\n",
            "      Epoch    GPU_mem   box_loss  pose_loss  kobj_loss   cls_loss   dfl_loss  Instances       Size\n"
          ]
        },
        {
          "output_type": "stream",
          "name": "stderr",
          "text": [
            "    146/200      2.25G     0.2636      2.141     0.4709     0.3371      1.006          5        640: 100%|██████████| 53/53 [00:23<00:00,  2.27it/s]\n",
            "                 Class     Images  Instances      Box(P          R      mAP50  mAP50-95)     Pose(P          R      mAP50  mAP50-95): 100%|██████████| 8/8 [00:02<00:00,  3.57it/s]"
          ]
        },
        {
          "output_type": "stream",
          "name": "stdout",
          "text": [
            "                   all         60         60      0.982          1      0.995       0.97       0.85      0.849      0.848      0.427\n"
          ]
        },
        {
          "output_type": "stream",
          "name": "stderr",
          "text": [
            "\n"
          ]
        },
        {
          "output_type": "stream",
          "name": "stdout",
          "text": [
            "\n",
            "      Epoch    GPU_mem   box_loss  pose_loss  kobj_loss   cls_loss   dfl_loss  Instances       Size\n"
          ]
        },
        {
          "output_type": "stream",
          "name": "stderr",
          "text": [
            "    147/200      2.24G     0.2767       2.05     0.4593     0.3509      1.018          6        640: 100%|██████████| 53/53 [00:21<00:00,  2.48it/s]\n",
            "                 Class     Images  Instances      Box(P          R      mAP50  mAP50-95)     Pose(P          R      mAP50  mAP50-95): 100%|██████████| 8/8 [00:03<00:00,  2.58it/s]"
          ]
        },
        {
          "output_type": "stream",
          "name": "stdout",
          "text": [
            "                   all         60         60      0.983      0.983      0.995      0.966      0.798        0.8      0.792      0.361\n"
          ]
        },
        {
          "output_type": "stream",
          "name": "stderr",
          "text": [
            "\n"
          ]
        },
        {
          "output_type": "stream",
          "name": "stdout",
          "text": [
            "\n",
            "      Epoch    GPU_mem   box_loss  pose_loss  kobj_loss   cls_loss   dfl_loss  Instances       Size\n"
          ]
        },
        {
          "output_type": "stream",
          "name": "stderr",
          "text": [
            "    148/200      2.15G     0.2877      1.909     0.4498     0.3554      1.024          6        640: 100%|██████████| 53/53 [00:21<00:00,  2.41it/s]\n",
            "                 Class     Images  Instances      Box(P          R      mAP50  mAP50-95)     Pose(P          R      mAP50  mAP50-95): 100%|██████████| 8/8 [00:03<00:00,  2.62it/s]"
          ]
        },
        {
          "output_type": "stream",
          "name": "stdout",
          "text": [
            "                   all         60         60      0.984      0.998      0.995       0.97      0.846       0.85      0.861       0.43\n"
          ]
        },
        {
          "output_type": "stream",
          "name": "stderr",
          "text": [
            "\n"
          ]
        },
        {
          "output_type": "stream",
          "name": "stdout",
          "text": [
            "\n",
            "      Epoch    GPU_mem   box_loss  pose_loss  kobj_loss   cls_loss   dfl_loss  Instances       Size\n"
          ]
        },
        {
          "output_type": "stream",
          "name": "stderr",
          "text": [
            "    149/200      2.25G     0.2798      2.171     0.4691     0.3479      1.012          7        640: 100%|██████████| 53/53 [00:20<00:00,  2.53it/s]\n",
            "                 Class     Images  Instances      Box(P          R      mAP50  mAP50-95)     Pose(P          R      mAP50  mAP50-95): 100%|██████████| 8/8 [00:03<00:00,  2.65it/s]"
          ]
        },
        {
          "output_type": "stream",
          "name": "stdout",
          "text": [
            "                   all         60         60      0.982          1      0.995      0.976      0.787        0.8      0.739      0.339\n"
          ]
        },
        {
          "output_type": "stream",
          "name": "stderr",
          "text": [
            "\n"
          ]
        },
        {
          "output_type": "stream",
          "name": "stdout",
          "text": [
            "\n",
            "      Epoch    GPU_mem   box_loss  pose_loss  kobj_loss   cls_loss   dfl_loss  Instances       Size\n"
          ]
        },
        {
          "output_type": "stream",
          "name": "stderr",
          "text": [
            "    150/200      2.24G     0.2866      2.057     0.4539     0.3446      1.036          4        640: 100%|██████████| 53/53 [00:19<00:00,  2.67it/s]\n",
            "                 Class     Images  Instances      Box(P          R      mAP50  mAP50-95)     Pose(P          R      mAP50  mAP50-95): 100%|██████████| 8/8 [00:02<00:00,  3.48it/s]"
          ]
        },
        {
          "output_type": "stream",
          "name": "stdout",
          "text": [
            "                   all         60         60      0.976          1      0.995      0.991      0.776      0.767       0.67      0.295\n"
          ]
        },
        {
          "output_type": "stream",
          "name": "stderr",
          "text": [
            "\n"
          ]
        },
        {
          "output_type": "stream",
          "name": "stdout",
          "text": [
            "\n",
            "      Epoch    GPU_mem   box_loss  pose_loss  kobj_loss   cls_loss   dfl_loss  Instances       Size\n"
          ]
        },
        {
          "output_type": "stream",
          "name": "stderr",
          "text": [
            "    151/200      2.24G     0.2639      1.861     0.4621     0.3371      1.005          7        640: 100%|██████████| 53/53 [00:25<00:00,  2.06it/s]\n",
            "                 Class     Images  Instances      Box(P          R      mAP50  mAP50-95)     Pose(P          R      mAP50  mAP50-95): 100%|██████████| 8/8 [00:01<00:00,  7.44it/s]"
          ]
        },
        {
          "output_type": "stream",
          "name": "stdout",
          "text": [
            "                   all         60         60          1       0.98      0.995       0.99      0.782        0.8      0.734      0.386\n"
          ]
        },
        {
          "output_type": "stream",
          "name": "stderr",
          "text": [
            "\n"
          ]
        },
        {
          "output_type": "stream",
          "name": "stdout",
          "text": [
            "\n",
            "      Epoch    GPU_mem   box_loss  pose_loss  kobj_loss   cls_loss   dfl_loss  Instances       Size\n"
          ]
        },
        {
          "output_type": "stream",
          "name": "stderr",
          "text": [
            "    152/200      2.24G     0.2718      2.059     0.4594     0.3517      1.005          6        640: 100%|██████████| 53/53 [00:21<00:00,  2.51it/s]\n",
            "                 Class     Images  Instances      Box(P          R      mAP50  mAP50-95)     Pose(P          R      mAP50  mAP50-95): 100%|██████████| 8/8 [00:03<00:00,  2.51it/s]"
          ]
        },
        {
          "output_type": "stream",
          "name": "stdout",
          "text": [
            "                   all         60         60      0.995      0.967      0.994      0.987      0.825      0.864      0.781      0.403\n"
          ]
        },
        {
          "output_type": "stream",
          "name": "stderr",
          "text": [
            "\n"
          ]
        },
        {
          "output_type": "stream",
          "name": "stdout",
          "text": [
            "\n",
            "      Epoch    GPU_mem   box_loss  pose_loss  kobj_loss   cls_loss   dfl_loss  Instances       Size\n"
          ]
        },
        {
          "output_type": "stream",
          "name": "stderr",
          "text": [
            "    153/200      2.24G     0.3281      2.352     0.4677     0.4036      1.067          6        640: 100%|██████████| 53/53 [00:24<00:00,  2.14it/s]\n",
            "                 Class     Images  Instances      Box(P          R      mAP50  mAP50-95)     Pose(P          R      mAP50  mAP50-95): 100%|██████████| 8/8 [00:02<00:00,  3.60it/s]"
          ]
        },
        {
          "output_type": "stream",
          "name": "stdout",
          "text": [
            "                   all         60         60       0.98          1      0.995      0.984      0.789      0.817      0.698      0.406\n"
          ]
        },
        {
          "output_type": "stream",
          "name": "stderr",
          "text": [
            "\n"
          ]
        },
        {
          "output_type": "stream",
          "name": "stdout",
          "text": [
            "\n",
            "      Epoch    GPU_mem   box_loss  pose_loss  kobj_loss   cls_loss   dfl_loss  Instances       Size\n"
          ]
        },
        {
          "output_type": "stream",
          "name": "stderr",
          "text": [
            "    154/200      2.25G      0.284       1.77     0.4506     0.3659      1.029          6        640: 100%|██████████| 53/53 [00:22<00:00,  2.34it/s]\n",
            "                 Class     Images  Instances      Box(P          R      mAP50  mAP50-95)     Pose(P          R      mAP50  mAP50-95): 100%|██████████| 8/8 [00:02<00:00,  3.59it/s]"
          ]
        },
        {
          "output_type": "stream",
          "name": "stdout",
          "text": [
            "                   all         60         60          1      0.999      0.995      0.991      0.893      0.883      0.857      0.454\n"
          ]
        },
        {
          "output_type": "stream",
          "name": "stderr",
          "text": [
            "\n"
          ]
        },
        {
          "output_type": "stream",
          "name": "stdout",
          "text": [
            "\n",
            "      Epoch    GPU_mem   box_loss  pose_loss  kobj_loss   cls_loss   dfl_loss  Instances       Size\n"
          ]
        },
        {
          "output_type": "stream",
          "name": "stderr",
          "text": [
            "    155/200      2.25G     0.2863      2.122     0.4571     0.3569      1.028          6        640: 100%|██████████| 53/53 [00:21<00:00,  2.44it/s]\n",
            "                 Class     Images  Instances      Box(P          R      mAP50  mAP50-95)     Pose(P          R      mAP50  mAP50-95): 100%|██████████| 8/8 [00:02<00:00,  3.29it/s]"
          ]
        },
        {
          "output_type": "stream",
          "name": "stdout",
          "text": [
            "                   all         60         60      0.999          1      0.995      0.991      0.894      0.883      0.844      0.484\n"
          ]
        },
        {
          "output_type": "stream",
          "name": "stderr",
          "text": [
            "\n"
          ]
        },
        {
          "output_type": "stream",
          "name": "stdout",
          "text": [
            "\n",
            "      Epoch    GPU_mem   box_loss  pose_loss  kobj_loss   cls_loss   dfl_loss  Instances       Size\n"
          ]
        },
        {
          "output_type": "stream",
          "name": "stderr",
          "text": [
            "    156/200      2.25G     0.2563       2.07     0.4356     0.3467      1.009          6        640: 100%|██████████| 53/53 [00:20<00:00,  2.55it/s]\n",
            "                 Class     Images  Instances      Box(P          R      mAP50  mAP50-95)     Pose(P          R      mAP50  mAP50-95): 100%|██████████| 8/8 [00:03<00:00,  2.60it/s]"
          ]
        },
        {
          "output_type": "stream",
          "name": "stdout",
          "text": [
            "                   all         60         60          1      0.978      0.995      0.988      0.864      0.848       0.81      0.471\n"
          ]
        },
        {
          "output_type": "stream",
          "name": "stderr",
          "text": [
            "\n"
          ]
        },
        {
          "output_type": "stream",
          "name": "stdout",
          "text": [
            "\n",
            "      Epoch    GPU_mem   box_loss  pose_loss  kobj_loss   cls_loss   dfl_loss  Instances       Size\n"
          ]
        },
        {
          "output_type": "stream",
          "name": "stderr",
          "text": [
            "    157/200      2.24G     0.2761      1.875     0.4369     0.3618       1.01          6        640: 100%|██████████| 53/53 [00:24<00:00,  2.20it/s]\n",
            "                 Class     Images  Instances      Box(P          R      mAP50  mAP50-95)     Pose(P          R      mAP50  mAP50-95): 100%|██████████| 8/8 [00:02<00:00,  3.55it/s]"
          ]
        },
        {
          "output_type": "stream",
          "name": "stdout",
          "text": [
            "                   all         60         60      0.997          1      0.995      0.981      0.844      0.867       0.83      0.458\n"
          ]
        },
        {
          "output_type": "stream",
          "name": "stderr",
          "text": [
            "\n"
          ]
        },
        {
          "output_type": "stream",
          "name": "stdout",
          "text": [
            "\n",
            "      Epoch    GPU_mem   box_loss  pose_loss  kobj_loss   cls_loss   dfl_loss  Instances       Size\n"
          ]
        },
        {
          "output_type": "stream",
          "name": "stderr",
          "text": [
            "    158/200      2.25G      0.269      1.871     0.4503     0.3402      1.008          6        640: 100%|██████████| 53/53 [00:17<00:00,  2.96it/s]\n",
            "                 Class     Images  Instances      Box(P          R      mAP50  mAP50-95)     Pose(P          R      mAP50  mAP50-95): 100%|██████████| 8/8 [00:03<00:00,  2.66it/s]"
          ]
        },
        {
          "output_type": "stream",
          "name": "stdout",
          "text": [
            "                   all         60         60      0.981          1      0.995      0.972       0.85      0.867      0.831      0.475\n"
          ]
        },
        {
          "output_type": "stream",
          "name": "stderr",
          "text": [
            "\n"
          ]
        },
        {
          "output_type": "stream",
          "name": "stdout",
          "text": [
            "\n",
            "      Epoch    GPU_mem   box_loss  pose_loss  kobj_loss   cls_loss   dfl_loss  Instances       Size\n"
          ]
        },
        {
          "output_type": "stream",
          "name": "stderr",
          "text": [
            "    159/200      2.25G     0.2933      1.793     0.4459     0.3789      1.047          8        640: 100%|██████████| 53/53 [00:21<00:00,  2.46it/s]\n",
            "                 Class     Images  Instances      Box(P          R      mAP50  mAP50-95)     Pose(P          R      mAP50  mAP50-95): 100%|██████████| 8/8 [00:02<00:00,  2.85it/s]"
          ]
        },
        {
          "output_type": "stream",
          "name": "stdout",
          "text": [
            "                   all         60         60          1      0.998      0.995      0.981      0.788      0.817      0.755       0.42\n"
          ]
        },
        {
          "output_type": "stream",
          "name": "stderr",
          "text": [
            "\n"
          ]
        },
        {
          "output_type": "stream",
          "name": "stdout",
          "text": [
            "\n",
            "      Epoch    GPU_mem   box_loss  pose_loss  kobj_loss   cls_loss   dfl_loss  Instances       Size\n"
          ]
        },
        {
          "output_type": "stream",
          "name": "stderr",
          "text": [
            "    160/200      2.24G     0.2517      1.925      0.465     0.3283      1.019          5        640: 100%|██████████| 53/53 [00:24<00:00,  2.20it/s]\n",
            "                 Class     Images  Instances      Box(P          R      mAP50  mAP50-95)     Pose(P          R      mAP50  mAP50-95): 100%|██████████| 8/8 [00:01<00:00,  4.27it/s]"
          ]
        },
        {
          "output_type": "stream",
          "name": "stdout",
          "text": [
            "                   all         60         60      0.997          1      0.995      0.994      0.897        0.9      0.898      0.511\n"
          ]
        },
        {
          "output_type": "stream",
          "name": "stderr",
          "text": [
            "\n"
          ]
        },
        {
          "output_type": "stream",
          "name": "stdout",
          "text": [
            "\n",
            "      Epoch    GPU_mem   box_loss  pose_loss  kobj_loss   cls_loss   dfl_loss  Instances       Size\n"
          ]
        },
        {
          "output_type": "stream",
          "name": "stderr",
          "text": [
            "    161/200      2.25G     0.2738      1.895     0.4414     0.3424      1.005          6        640: 100%|██████████| 53/53 [00:19<00:00,  2.79it/s]\n",
            "                 Class     Images  Instances      Box(P          R      mAP50  mAP50-95)     Pose(P          R      mAP50  mAP50-95): 100%|██████████| 8/8 [00:02<00:00,  2.74it/s]"
          ]
        },
        {
          "output_type": "stream",
          "name": "stdout",
          "text": [
            "                   all         60         60          1      0.998      0.995      0.993      0.927        0.9      0.909       0.47\n"
          ]
        },
        {
          "output_type": "stream",
          "name": "stderr",
          "text": [
            "\n"
          ]
        },
        {
          "output_type": "stream",
          "name": "stdout",
          "text": [
            "\n",
            "      Epoch    GPU_mem   box_loss  pose_loss  kobj_loss   cls_loss   dfl_loss  Instances       Size\n"
          ]
        },
        {
          "output_type": "stream",
          "name": "stderr",
          "text": [
            "    162/200      2.24G     0.2769      1.798      0.408     0.3569     0.9954          6        640: 100%|██████████| 53/53 [00:22<00:00,  2.38it/s]\n",
            "                 Class     Images  Instances      Box(P          R      mAP50  mAP50-95)     Pose(P          R      mAP50  mAP50-95): 100%|██████████| 8/8 [00:01<00:00,  4.70it/s]"
          ]
        },
        {
          "output_type": "stream",
          "name": "stdout",
          "text": [
            "                   all         60         60      0.996          1      0.995       0.99      0.838      0.817      0.798      0.439\n"
          ]
        },
        {
          "output_type": "stream",
          "name": "stderr",
          "text": [
            "\n"
          ]
        },
        {
          "output_type": "stream",
          "name": "stdout",
          "text": [
            "\n",
            "      Epoch    GPU_mem   box_loss  pose_loss  kobj_loss   cls_loss   dfl_loss  Instances       Size\n"
          ]
        },
        {
          "output_type": "stream",
          "name": "stderr",
          "text": [
            "    163/200      2.25G     0.2874      1.577     0.4232     0.3704      1.012          6        640: 100%|██████████| 53/53 [00:23<00:00,  2.30it/s]\n",
            "                 Class     Images  Instances      Box(P          R      mAP50  mAP50-95)     Pose(P          R      mAP50  mAP50-95): 100%|██████████| 8/8 [00:02<00:00,  2.79it/s]"
          ]
        },
        {
          "output_type": "stream",
          "name": "stdout",
          "text": [
            "                   all         60         60      0.999          1      0.995      0.989      0.885      0.896      0.849       0.44\n"
          ]
        },
        {
          "output_type": "stream",
          "name": "stderr",
          "text": [
            "\n"
          ]
        },
        {
          "output_type": "stream",
          "name": "stdout",
          "text": [
            "\n",
            "      Epoch    GPU_mem   box_loss  pose_loss  kobj_loss   cls_loss   dfl_loss  Instances       Size\n"
          ]
        },
        {
          "output_type": "stream",
          "name": "stderr",
          "text": [
            "    164/200      2.15G     0.2893        1.9     0.4365     0.3748      1.023          4        640: 100%|██████████| 53/53 [00:24<00:00,  2.13it/s]\n",
            "                 Class     Images  Instances      Box(P          R      mAP50  mAP50-95)     Pose(P          R      mAP50  mAP50-95): 100%|██████████| 8/8 [00:02<00:00,  2.70it/s]"
          ]
        },
        {
          "output_type": "stream",
          "name": "stdout",
          "text": [
            "                   all         60         60      0.996          1      0.995       0.99       0.88      0.883      0.854      0.503\n"
          ]
        },
        {
          "output_type": "stream",
          "name": "stderr",
          "text": [
            "\n"
          ]
        },
        {
          "output_type": "stream",
          "name": "stdout",
          "text": [
            "\n",
            "      Epoch    GPU_mem   box_loss  pose_loss  kobj_loss   cls_loss   dfl_loss  Instances       Size\n"
          ]
        },
        {
          "output_type": "stream",
          "name": "stderr",
          "text": [
            "    165/200      2.24G     0.2674      1.966     0.4464     0.3431      1.009          7        640: 100%|██████████| 53/53 [00:17<00:00,  2.96it/s]\n",
            "                 Class     Images  Instances      Box(P          R      mAP50  mAP50-95)     Pose(P          R      mAP50  mAP50-95): 100%|██████████| 8/8 [00:01<00:00,  4.49it/s]"
          ]
        },
        {
          "output_type": "stream",
          "name": "stdout",
          "text": [
            "                   all         60         60      0.984          1      0.995      0.984       0.82      0.833      0.787      0.489\n"
          ]
        },
        {
          "output_type": "stream",
          "name": "stderr",
          "text": [
            "\n"
          ]
        },
        {
          "output_type": "stream",
          "name": "stdout",
          "text": [
            "\n",
            "      Epoch    GPU_mem   box_loss  pose_loss  kobj_loss   cls_loss   dfl_loss  Instances       Size\n"
          ]
        },
        {
          "output_type": "stream",
          "name": "stderr",
          "text": [
            "    166/200      2.24G     0.2879      1.948     0.4217     0.3547      1.036          5        640: 100%|██████████| 53/53 [00:23<00:00,  2.23it/s]\n",
            "                 Class     Images  Instances      Box(P          R      mAP50  mAP50-95)     Pose(P          R      mAP50  mAP50-95): 100%|██████████| 8/8 [00:01<00:00,  4.42it/s]"
          ]
        },
        {
          "output_type": "stream",
          "name": "stdout",
          "text": [
            "                   all         60         60      0.983          1      0.995      0.981      0.819      0.833      0.794      0.479\n"
          ]
        },
        {
          "output_type": "stream",
          "name": "stderr",
          "text": [
            "\n"
          ]
        },
        {
          "output_type": "stream",
          "name": "stdout",
          "text": [
            "\n",
            "      Epoch    GPU_mem   box_loss  pose_loss  kobj_loss   cls_loss   dfl_loss  Instances       Size\n"
          ]
        },
        {
          "output_type": "stream",
          "name": "stderr",
          "text": [
            "    167/200      2.24G     0.2577      1.664     0.4204     0.3395     0.9982          7        640: 100%|██████████| 53/53 [00:22<00:00,  2.38it/s]\n",
            "                 Class     Images  Instances      Box(P          R      mAP50  mAP50-95)     Pose(P          R      mAP50  mAP50-95): 100%|██████████| 8/8 [00:02<00:00,  3.62it/s]"
          ]
        },
        {
          "output_type": "stream",
          "name": "stdout",
          "text": [
            "                   all         60         60          1      0.978      0.995      0.981      0.848       0.85      0.841       0.53\n"
          ]
        },
        {
          "output_type": "stream",
          "name": "stderr",
          "text": [
            "\n"
          ]
        },
        {
          "output_type": "stream",
          "name": "stdout",
          "text": [
            "\n",
            "      Epoch    GPU_mem   box_loss  pose_loss  kobj_loss   cls_loss   dfl_loss  Instances       Size\n"
          ]
        },
        {
          "output_type": "stream",
          "name": "stderr",
          "text": [
            "    168/200      2.24G     0.2781      1.764     0.4107     0.3424      1.014          8        640: 100%|██████████| 53/53 [00:21<00:00,  2.52it/s]\n",
            "                 Class     Images  Instances      Box(P          R      mAP50  mAP50-95)     Pose(P          R      mAP50  mAP50-95): 100%|██████████| 8/8 [00:02<00:00,  3.64it/s]"
          ]
        },
        {
          "output_type": "stream",
          "name": "stdout",
          "text": [
            "                   all         60         60      0.984      0.999      0.995      0.973       0.83      0.833      0.844      0.531\n"
          ]
        },
        {
          "output_type": "stream",
          "name": "stderr",
          "text": [
            "\n"
          ]
        },
        {
          "output_type": "stream",
          "name": "stdout",
          "text": [
            "\n",
            "      Epoch    GPU_mem   box_loss  pose_loss  kobj_loss   cls_loss   dfl_loss  Instances       Size\n"
          ]
        },
        {
          "output_type": "stream",
          "name": "stderr",
          "text": [
            "    169/200      2.24G     0.2494      1.893     0.4066     0.3196      1.003          6        640: 100%|██████████| 53/53 [00:24<00:00,  2.14it/s]\n",
            "                 Class     Images  Instances      Box(P          R      mAP50  mAP50-95)     Pose(P          R      mAP50  mAP50-95): 100%|██████████| 8/8 [00:02<00:00,  3.65it/s]"
          ]
        },
        {
          "output_type": "stream",
          "name": "stdout",
          "text": [
            "                   all         60         60      0.982          1      0.995      0.971      0.832      0.833      0.797      0.467\n"
          ]
        },
        {
          "output_type": "stream",
          "name": "stderr",
          "text": [
            "\n"
          ]
        },
        {
          "output_type": "stream",
          "name": "stdout",
          "text": [
            "\n",
            "      Epoch    GPU_mem   box_loss  pose_loss  kobj_loss   cls_loss   dfl_loss  Instances       Size\n"
          ]
        },
        {
          "output_type": "stream",
          "name": "stderr",
          "text": [
            "    170/200      2.24G     0.2563      1.849     0.4149     0.3395      1.024          7        640: 100%|██████████| 53/53 [00:23<00:00,  2.24it/s]\n",
            "                 Class     Images  Instances      Box(P          R      mAP50  mAP50-95)     Pose(P          R      mAP50  mAP50-95): 100%|██████████| 8/8 [00:02<00:00,  3.47it/s]"
          ]
        },
        {
          "output_type": "stream",
          "name": "stdout",
          "text": [
            "                   all         60         60          1      0.996      0.995      0.971      0.818      0.833      0.805      0.437\n"
          ]
        },
        {
          "output_type": "stream",
          "name": "stderr",
          "text": [
            "\n"
          ]
        },
        {
          "output_type": "stream",
          "name": "stdout",
          "text": [
            "\n",
            "      Epoch    GPU_mem   box_loss  pose_loss  kobj_loss   cls_loss   dfl_loss  Instances       Size\n"
          ]
        },
        {
          "output_type": "stream",
          "name": "stderr",
          "text": [
            "    171/200      2.24G     0.2409       1.69     0.3921     0.3273     0.9901          5        640: 100%|██████████| 53/53 [00:19<00:00,  2.69it/s]\n",
            "                 Class     Images  Instances      Box(P          R      mAP50  mAP50-95)     Pose(P          R      mAP50  mAP50-95): 100%|██████████| 8/8 [00:02<00:00,  3.33it/s]"
          ]
        },
        {
          "output_type": "stream",
          "name": "stdout",
          "text": [
            "                   all         60         60      0.982          1      0.995      0.973        0.8      0.799       0.76      0.401\n"
          ]
        },
        {
          "output_type": "stream",
          "name": "stderr",
          "text": [
            "\n"
          ]
        },
        {
          "output_type": "stream",
          "name": "stdout",
          "text": [
            "\n",
            "      Epoch    GPU_mem   box_loss  pose_loss  kobj_loss   cls_loss   dfl_loss  Instances       Size\n"
          ]
        },
        {
          "output_type": "stream",
          "name": "stderr",
          "text": [
            "    172/200      2.24G      0.258      1.543     0.4043     0.3343     0.9935          7        640: 100%|██████████| 53/53 [00:24<00:00,  2.15it/s]\n",
            "                 Class     Images  Instances      Box(P          R      mAP50  mAP50-95)     Pose(P          R      mAP50  mAP50-95): 100%|██████████| 8/8 [00:02<00:00,  2.84it/s]"
          ]
        },
        {
          "output_type": "stream",
          "name": "stdout",
          "text": [
            "                   all         60         60      0.981          1      0.995      0.977      0.783      0.781      0.714      0.423\n"
          ]
        },
        {
          "output_type": "stream",
          "name": "stderr",
          "text": [
            "\n"
          ]
        },
        {
          "output_type": "stream",
          "name": "stdout",
          "text": [
            "\n",
            "      Epoch    GPU_mem   box_loss  pose_loss  kobj_loss   cls_loss   dfl_loss  Instances       Size\n"
          ]
        },
        {
          "output_type": "stream",
          "name": "stderr",
          "text": [
            "    173/200      2.24G     0.2776      1.761     0.4177     0.3679      1.011          5        640: 100%|██████████| 53/53 [00:22<00:00,  2.33it/s]\n",
            "                 Class     Images  Instances      Box(P          R      mAP50  mAP50-95)     Pose(P          R      mAP50  mAP50-95): 100%|██████████| 8/8 [00:02<00:00,  3.48it/s]"
          ]
        },
        {
          "output_type": "stream",
          "name": "stdout",
          "text": [
            "                   all         60         60      0.998          1      0.995      0.987      0.854      0.883      0.806      0.477\n"
          ]
        },
        {
          "output_type": "stream",
          "name": "stderr",
          "text": [
            "\n"
          ]
        },
        {
          "output_type": "stream",
          "name": "stdout",
          "text": [
            "\n",
            "      Epoch    GPU_mem   box_loss  pose_loss  kobj_loss   cls_loss   dfl_loss  Instances       Size\n"
          ]
        },
        {
          "output_type": "stream",
          "name": "stderr",
          "text": [
            "    174/200      2.24G     0.2531       1.83     0.4065     0.3265      0.992          5        640: 100%|██████████| 53/53 [00:22<00:00,  2.34it/s]\n",
            "                 Class     Images  Instances      Box(P          R      mAP50  mAP50-95)     Pose(P          R      mAP50  mAP50-95): 100%|██████████| 8/8 [00:01<00:00,  4.80it/s]"
          ]
        },
        {
          "output_type": "stream",
          "name": "stdout",
          "text": [
            "                   all         60         60      0.999          1      0.995      0.991      0.866      0.867      0.799      0.481\n"
          ]
        },
        {
          "output_type": "stream",
          "name": "stderr",
          "text": [
            "\n"
          ]
        },
        {
          "output_type": "stream",
          "name": "stdout",
          "text": [
            "\n",
            "      Epoch    GPU_mem   box_loss  pose_loss  kobj_loss   cls_loss   dfl_loss  Instances       Size\n"
          ]
        },
        {
          "output_type": "stream",
          "name": "stderr",
          "text": [
            "    175/200      2.24G      0.247      1.736     0.4116     0.3247     0.9962          6        640: 100%|██████████| 53/53 [00:20<00:00,  2.63it/s]\n",
            "                 Class     Images  Instances      Box(P          R      mAP50  mAP50-95)     Pose(P          R      mAP50  mAP50-95): 100%|██████████| 8/8 [00:01<00:00,  5.10it/s]"
          ]
        },
        {
          "output_type": "stream",
          "name": "stdout",
          "text": [
            "                   all         60         60      0.999          1      0.995      0.992      0.849       0.85      0.784      0.472\n"
          ]
        },
        {
          "output_type": "stream",
          "name": "stderr",
          "text": [
            "\n"
          ]
        },
        {
          "output_type": "stream",
          "name": "stdout",
          "text": [
            "\n",
            "      Epoch    GPU_mem   box_loss  pose_loss  kobj_loss   cls_loss   dfl_loss  Instances       Size\n"
          ]
        },
        {
          "output_type": "stream",
          "name": "stderr",
          "text": [
            "    176/200      2.25G     0.2519      1.764     0.4026     0.3344      1.001          3        640: 100%|██████████| 53/53 [00:15<00:00,  3.31it/s]\n",
            "                 Class     Images  Instances      Box(P          R      mAP50  mAP50-95)     Pose(P          R      mAP50  mAP50-95): 100%|██████████| 8/8 [00:03<00:00,  2.37it/s]"
          ]
        },
        {
          "output_type": "stream",
          "name": "stdout",
          "text": [
            "                   all         60         60      0.998          1      0.995      0.991      0.869        0.9      0.866      0.512\n"
          ]
        },
        {
          "output_type": "stream",
          "name": "stderr",
          "text": [
            "\n"
          ]
        },
        {
          "output_type": "stream",
          "name": "stdout",
          "text": [
            "\n",
            "      Epoch    GPU_mem   box_loss  pose_loss  kobj_loss   cls_loss   dfl_loss  Instances       Size\n"
          ]
        },
        {
          "output_type": "stream",
          "name": "stderr",
          "text": [
            "    177/200      2.25G     0.2484      1.759     0.4083     0.3315      1.016          5        640: 100%|██████████| 53/53 [00:23<00:00,  2.30it/s]\n",
            "                 Class     Images  Instances      Box(P          R      mAP50  mAP50-95)     Pose(P          R      mAP50  mAP50-95): 100%|██████████| 8/8 [00:02<00:00,  2.84it/s]"
          ]
        },
        {
          "output_type": "stream",
          "name": "stdout",
          "text": [
            "                   all         60         60      0.999          1      0.995      0.994      0.857      0.899      0.858      0.501\n"
          ]
        },
        {
          "output_type": "stream",
          "name": "stderr",
          "text": [
            "\n"
          ]
        },
        {
          "output_type": "stream",
          "name": "stdout",
          "text": [
            "\n",
            "      Epoch    GPU_mem   box_loss  pose_loss  kobj_loss   cls_loss   dfl_loss  Instances       Size\n"
          ]
        },
        {
          "output_type": "stream",
          "name": "stderr",
          "text": [
            "    178/200      2.25G     0.2556      1.778     0.3977     0.3142     0.9992          4        640: 100%|██████████| 53/53 [00:20<00:00,  2.53it/s]\n",
            "                 Class     Images  Instances      Box(P          R      mAP50  mAP50-95)     Pose(P          R      mAP50  mAP50-95): 100%|██████████| 8/8 [00:02<00:00,  2.68it/s]"
          ]
        },
        {
          "output_type": "stream",
          "name": "stdout",
          "text": [
            "                   all         60         60      0.995          1      0.995      0.991       0.84      0.883       0.84      0.478\n"
          ]
        },
        {
          "output_type": "stream",
          "name": "stderr",
          "text": [
            "\n"
          ]
        },
        {
          "output_type": "stream",
          "name": "stdout",
          "text": [
            "\n",
            "      Epoch    GPU_mem   box_loss  pose_loss  kobj_loss   cls_loss   dfl_loss  Instances       Size\n"
          ]
        },
        {
          "output_type": "stream",
          "name": "stderr",
          "text": [
            "    179/200      2.24G     0.2516      1.686     0.4104     0.3068     0.9968          8        640: 100%|██████████| 53/53 [00:18<00:00,  2.82it/s]\n",
            "                 Class     Images  Instances      Box(P          R      mAP50  mAP50-95)     Pose(P          R      mAP50  mAP50-95): 100%|██████████| 8/8 [00:02<00:00,  2.75it/s]"
          ]
        },
        {
          "output_type": "stream",
          "name": "stdout",
          "text": [
            "                   all         60         60      0.998          1      0.995      0.991      0.867        0.9       0.84      0.498\n"
          ]
        },
        {
          "output_type": "stream",
          "name": "stderr",
          "text": [
            "\n"
          ]
        },
        {
          "output_type": "stream",
          "name": "stdout",
          "text": [
            "\n",
            "      Epoch    GPU_mem   box_loss  pose_loss  kobj_loss   cls_loss   dfl_loss  Instances       Size\n"
          ]
        },
        {
          "output_type": "stream",
          "name": "stderr",
          "text": [
            "    180/200      2.15G     0.2422      1.559     0.3788     0.3144      1.011          7        640: 100%|██████████| 53/53 [00:26<00:00,  2.01it/s]\n",
            "                 Class     Images  Instances      Box(P          R      mAP50  mAP50-95)     Pose(P          R      mAP50  mAP50-95): 100%|██████████| 8/8 [00:02<00:00,  3.48it/s]"
          ]
        },
        {
          "output_type": "stream",
          "name": "stdout",
          "text": [
            "                   all         60         60      0.999          1      0.995       0.99      0.853      0.883       0.82      0.484\n"
          ]
        },
        {
          "output_type": "stream",
          "name": "stderr",
          "text": [
            "\n"
          ]
        },
        {
          "output_type": "stream",
          "name": "stdout",
          "text": [
            "\n",
            "      Epoch    GPU_mem   box_loss  pose_loss  kobj_loss   cls_loss   dfl_loss  Instances       Size\n"
          ]
        },
        {
          "output_type": "stream",
          "name": "stderr",
          "text": [
            "    181/200      2.25G     0.2572      1.602     0.4128     0.3229      1.019          5        640: 100%|██████████| 53/53 [00:23<00:00,  2.22it/s]\n",
            "                 Class     Images  Instances      Box(P          R      mAP50  mAP50-95)     Pose(P          R      mAP50  mAP50-95): 100%|██████████| 8/8 [00:02<00:00,  3.62it/s]"
          ]
        },
        {
          "output_type": "stream",
          "name": "stdout",
          "text": [
            "                   all         60         60      0.996      0.983      0.995      0.984      0.854      0.883      0.827      0.472\n"
          ]
        },
        {
          "output_type": "stream",
          "name": "stderr",
          "text": [
            "\n"
          ]
        },
        {
          "output_type": "stream",
          "name": "stdout",
          "text": [
            "\n",
            "      Epoch    GPU_mem   box_loss  pose_loss  kobj_loss   cls_loss   dfl_loss  Instances       Size\n"
          ]
        },
        {
          "output_type": "stream",
          "name": "stderr",
          "text": [
            "    182/200      2.24G     0.2468      1.566     0.4077     0.3279      1.014          6        640: 100%|██████████| 53/53 [00:20<00:00,  2.64it/s]\n",
            "                 Class     Images  Instances      Box(P          R      mAP50  mAP50-95)     Pose(P          R      mAP50  mAP50-95): 100%|██████████| 8/8 [00:02<00:00,  3.28it/s]"
          ]
        },
        {
          "output_type": "stream",
          "name": "stdout",
          "text": [
            "                   all         60         60      0.983          1      0.995      0.984      0.884        0.9      0.848      0.473\n"
          ]
        },
        {
          "output_type": "stream",
          "name": "stderr",
          "text": [
            "\n"
          ]
        },
        {
          "output_type": "stream",
          "name": "stdout",
          "text": [
            "\n",
            "      Epoch    GPU_mem   box_loss  pose_loss  kobj_loss   cls_loss   dfl_loss  Instances       Size\n"
          ]
        },
        {
          "output_type": "stream",
          "name": "stderr",
          "text": [
            "    183/200      2.24G      0.249      1.602     0.4029     0.3405          1          7        640: 100%|██████████| 53/53 [00:23<00:00,  2.25it/s]\n",
            "                 Class     Images  Instances      Box(P          R      mAP50  mAP50-95)     Pose(P          R      mAP50  mAP50-95): 100%|██████████| 8/8 [00:02<00:00,  2.74it/s]"
          ]
        },
        {
          "output_type": "stream",
          "name": "stdout",
          "text": [
            "                   all         60         60      0.983          1      0.995       0.99      0.887      0.916      0.891      0.538\n"
          ]
        },
        {
          "output_type": "stream",
          "name": "stderr",
          "text": [
            "\n"
          ]
        },
        {
          "output_type": "stream",
          "name": "stdout",
          "text": [
            "\n",
            "      Epoch    GPU_mem   box_loss  pose_loss  kobj_loss   cls_loss   dfl_loss  Instances       Size\n"
          ]
        },
        {
          "output_type": "stream",
          "name": "stderr",
          "text": [
            "    184/200      2.24G     0.2322      1.691     0.3979     0.3181     0.9874          5        640: 100%|██████████| 53/53 [00:24<00:00,  2.13it/s]\n",
            "                 Class     Images  Instances      Box(P          R      mAP50  mAP50-95)     Pose(P          R      mAP50  mAP50-95): 100%|██████████| 8/8 [00:02<00:00,  3.59it/s]"
          ]
        },
        {
          "output_type": "stream",
          "name": "stdout",
          "text": [
            "                   all         60         60      0.983          1      0.995      0.986      0.884        0.9      0.854      0.534\n"
          ]
        },
        {
          "output_type": "stream",
          "name": "stderr",
          "text": [
            "\n"
          ]
        },
        {
          "output_type": "stream",
          "name": "stdout",
          "text": [
            "\n",
            "      Epoch    GPU_mem   box_loss  pose_loss  kobj_loss   cls_loss   dfl_loss  Instances       Size\n"
          ]
        },
        {
          "output_type": "stream",
          "name": "stderr",
          "text": [
            "    185/200      2.24G     0.2749      1.791     0.4062     0.3589      1.019          6        640: 100%|██████████| 53/53 [00:18<00:00,  2.83it/s]\n",
            "                 Class     Images  Instances      Box(P          R      mAP50  mAP50-95)     Pose(P          R      mAP50  mAP50-95): 100%|██████████| 8/8 [00:02<00:00,  3.58it/s]"
          ]
        },
        {
          "output_type": "stream",
          "name": "stdout",
          "text": [
            "                   all         60         60      0.983          1      0.995      0.988      0.885        0.9      0.873      0.535\n"
          ]
        },
        {
          "output_type": "stream",
          "name": "stderr",
          "text": [
            "\n"
          ]
        },
        {
          "output_type": "stream",
          "name": "stdout",
          "text": [
            "\n",
            "      Epoch    GPU_mem   box_loss  pose_loss  kobj_loss   cls_loss   dfl_loss  Instances       Size\n"
          ]
        },
        {
          "output_type": "stream",
          "name": "stderr",
          "text": [
            "    186/200      2.24G      0.249      1.946     0.4385     0.3441      1.011          7        640: 100%|██████████| 53/53 [00:22<00:00,  2.35it/s]\n",
            "                 Class     Images  Instances      Box(P          R      mAP50  mAP50-95)     Pose(P          R      mAP50  mAP50-95): 100%|██████████| 8/8 [00:01<00:00,  5.47it/s]"
          ]
        },
        {
          "output_type": "stream",
          "name": "stdout",
          "text": [
            "                   all         60         60       0.99          1      0.995      0.988      0.884        0.9      0.885       0.54\n"
          ]
        },
        {
          "output_type": "stream",
          "name": "stderr",
          "text": [
            "\n"
          ]
        },
        {
          "output_type": "stream",
          "name": "stdout",
          "text": [
            "\n",
            "      Epoch    GPU_mem   box_loss  pose_loss  kobj_loss   cls_loss   dfl_loss  Instances       Size\n"
          ]
        },
        {
          "output_type": "stream",
          "name": "stderr",
          "text": [
            "    187/200      2.25G     0.2352      1.705     0.3976     0.3139     0.9989          6        640: 100%|██████████| 53/53 [00:23<00:00,  2.23it/s]\n",
            "                 Class     Images  Instances      Box(P          R      mAP50  mAP50-95)     Pose(P          R      mAP50  mAP50-95): 100%|██████████| 8/8 [00:02<00:00,  3.92it/s]"
          ]
        },
        {
          "output_type": "stream",
          "name": "stdout",
          "text": [
            "                   all         60         60          1      0.998      0.995      0.989      0.901      0.917      0.898      0.553\n"
          ]
        },
        {
          "output_type": "stream",
          "name": "stderr",
          "text": [
            "\n"
          ]
        },
        {
          "output_type": "stream",
          "name": "stdout",
          "text": [
            "\n",
            "      Epoch    GPU_mem   box_loss  pose_loss  kobj_loss   cls_loss   dfl_loss  Instances       Size\n"
          ]
        },
        {
          "output_type": "stream",
          "name": "stderr",
          "text": [
            "    188/200      2.25G     0.2398      1.631     0.4218      0.327      1.005          9        640: 100%|██████████| 53/53 [00:24<00:00,  2.19it/s]\n",
            "                 Class     Images  Instances      Box(P          R      mAP50  mAP50-95)     Pose(P          R      mAP50  mAP50-95): 100%|██████████| 8/8 [00:02<00:00,  3.65it/s]"
          ]
        },
        {
          "output_type": "stream",
          "name": "stdout",
          "text": [
            "                   all         60         60          1      0.999      0.995      0.988      0.901      0.917      0.893      0.531\n"
          ]
        },
        {
          "output_type": "stream",
          "name": "stderr",
          "text": [
            "\n"
          ]
        },
        {
          "output_type": "stream",
          "name": "stdout",
          "text": [
            "\n",
            "      Epoch    GPU_mem   box_loss  pose_loss  kobj_loss   cls_loss   dfl_loss  Instances       Size\n"
          ]
        },
        {
          "output_type": "stream",
          "name": "stderr",
          "text": [
            "    189/200      2.24G     0.2472      1.725     0.4178     0.3128          1          6        640: 100%|██████████| 53/53 [00:22<00:00,  2.32it/s]\n",
            "                 Class     Images  Instances      Box(P          R      mAP50  mAP50-95)     Pose(P          R      mAP50  mAP50-95): 100%|██████████| 8/8 [00:02<00:00,  3.66it/s]"
          ]
        },
        {
          "output_type": "stream",
          "name": "stdout",
          "text": [
            "                   all         60         60      0.995          1      0.995      0.988      0.868      0.883      0.842      0.526\n"
          ]
        },
        {
          "output_type": "stream",
          "name": "stderr",
          "text": [
            "\n"
          ]
        },
        {
          "output_type": "stream",
          "name": "stdout",
          "text": [
            "\n",
            "      Epoch    GPU_mem   box_loss  pose_loss  kobj_loss   cls_loss   dfl_loss  Instances       Size\n"
          ]
        },
        {
          "output_type": "stream",
          "name": "stderr",
          "text": [
            "    190/200      2.24G     0.2482      1.654     0.4153     0.3185      1.004          5        640: 100%|██████████| 53/53 [00:20<00:00,  2.65it/s]\n",
            "                 Class     Images  Instances      Box(P          R      mAP50  mAP50-95)     Pose(P          R      mAP50  mAP50-95): 100%|██████████| 8/8 [00:02<00:00,  3.60it/s]"
          ]
        },
        {
          "output_type": "stream",
          "name": "stdout",
          "text": [
            "                   all         60         60      0.986          1      0.995      0.988      0.835       0.85      0.811      0.526\n"
          ]
        },
        {
          "output_type": "stream",
          "name": "stderr",
          "text": [
            "\n"
          ]
        },
        {
          "output_type": "stream",
          "name": "stdout",
          "text": [
            "Closing dataloader mosaic\n",
            "\u001b[34m\u001b[1malbumentations: \u001b[0mBlur(p=0.01, blur_limit=(3, 7)), MedianBlur(p=0.01, blur_limit=(3, 7)), ToGray(p=0.01), CLAHE(p=0.01, clip_limit=(1, 4.0), tile_grid_size=(8, 8))\n"
          ]
        },
        {
          "output_type": "stream",
          "name": "stderr",
          "text": [
            "/usr/lib/python3.10/multiprocessing/popen_fork.py:66: RuntimeWarning: os.fork() was called. os.fork() is incompatible with multithreaded code, and JAX is multithreaded, so this will likely lead to a deadlock.\n",
            "  self.pid = os.fork()\n"
          ]
        },
        {
          "output_type": "stream",
          "name": "stdout",
          "text": [
            "\n",
            "      Epoch    GPU_mem   box_loss  pose_loss  kobj_loss   cls_loss   dfl_loss  Instances       Size\n"
          ]
        },
        {
          "output_type": "stream",
          "name": "stderr",
          "text": [
            "    191/200      2.24G     0.1957      2.139     0.3956     0.4169      1.035          2        640: 100%|██████████| 53/53 [00:25<00:00,  2.10it/s]\n",
            "                 Class     Images  Instances      Box(P          R      mAP50  mAP50-95)     Pose(P          R      mAP50  mAP50-95): 100%|██████████| 8/8 [00:02<00:00,  3.68it/s]"
          ]
        },
        {
          "output_type": "stream",
          "name": "stdout",
          "text": [
            "                   all         60         60      0.983          1      0.995      0.981      0.881      0.883      0.856      0.517\n"
          ]
        },
        {
          "output_type": "stream",
          "name": "stderr",
          "text": [
            "\n"
          ]
        },
        {
          "output_type": "stream",
          "name": "stdout",
          "text": [
            "\n",
            "      Epoch    GPU_mem   box_loss  pose_loss  kobj_loss   cls_loss   dfl_loss  Instances       Size\n"
          ]
        },
        {
          "output_type": "stream",
          "name": "stderr",
          "text": [
            "    192/200      2.24G     0.1713      2.127     0.3935     0.2938      1.017          2        640: 100%|██████████| 53/53 [00:22<00:00,  2.38it/s]\n",
            "                 Class     Images  Instances      Box(P          R      mAP50  mAP50-95)     Pose(P          R      mAP50  mAP50-95): 100%|██████████| 8/8 [00:02<00:00,  3.61it/s]"
          ]
        },
        {
          "output_type": "stream",
          "name": "stdout",
          "text": [
            "                   all         60         60      0.984          1      0.995      0.982      0.865      0.867      0.823      0.521\n"
          ]
        },
        {
          "output_type": "stream",
          "name": "stderr",
          "text": [
            "\n"
          ]
        },
        {
          "output_type": "stream",
          "name": "stdout",
          "text": [
            "\n",
            "      Epoch    GPU_mem   box_loss  pose_loss  kobj_loss   cls_loss   dfl_loss  Instances       Size\n"
          ]
        },
        {
          "output_type": "stream",
          "name": "stderr",
          "text": [
            "    193/200      2.25G     0.1594      2.035     0.3689     0.2181     0.9937          2        640: 100%|██████████| 53/53 [00:21<00:00,  2.45it/s]\n",
            "                 Class     Images  Instances      Box(P          R      mAP50  mAP50-95)     Pose(P          R      mAP50  mAP50-95): 100%|██████████| 8/8 [00:02<00:00,  3.60it/s]"
          ]
        },
        {
          "output_type": "stream",
          "name": "stdout",
          "text": [
            "                   all         60         60      0.982          1      0.995      0.985      0.849      0.846      0.826      0.537\n"
          ]
        },
        {
          "output_type": "stream",
          "name": "stderr",
          "text": [
            "\n"
          ]
        },
        {
          "output_type": "stream",
          "name": "stdout",
          "text": [
            "\n",
            "      Epoch    GPU_mem   box_loss  pose_loss  kobj_loss   cls_loss   dfl_loss  Instances       Size\n"
          ]
        },
        {
          "output_type": "stream",
          "name": "stderr",
          "text": [
            "    194/200      2.25G     0.1512      2.117     0.3525     0.2124     0.9972          2        640: 100%|██████████| 53/53 [00:23<00:00,  2.26it/s]\n",
            "                 Class     Images  Instances      Box(P          R      mAP50  mAP50-95)     Pose(P          R      mAP50  mAP50-95): 100%|██████████| 8/8 [00:02<00:00,  3.43it/s]"
          ]
        },
        {
          "output_type": "stream",
          "name": "stdout",
          "text": [
            "                   all         60         60      0.998          1      0.995      0.989      0.852      0.867      0.867      0.565\n"
          ]
        },
        {
          "output_type": "stream",
          "name": "stderr",
          "text": [
            "\n"
          ]
        },
        {
          "output_type": "stream",
          "name": "stdout",
          "text": [
            "\n",
            "      Epoch    GPU_mem   box_loss  pose_loss  kobj_loss   cls_loss   dfl_loss  Instances       Size\n"
          ]
        },
        {
          "output_type": "stream",
          "name": "stderr",
          "text": [
            "    195/200      2.24G     0.1423      2.055     0.3901     0.1961      1.005          2        640: 100%|██████████| 53/53 [00:23<00:00,  2.28it/s]\n",
            "                 Class     Images  Instances      Box(P          R      mAP50  mAP50-95)     Pose(P          R      mAP50  mAP50-95): 100%|██████████| 8/8 [00:02<00:00,  3.55it/s]"
          ]
        },
        {
          "output_type": "stream",
          "name": "stdout",
          "text": [
            "                   all         60         60      0.999          1      0.995      0.989      0.852      0.866      0.835      0.534\n"
          ]
        },
        {
          "output_type": "stream",
          "name": "stderr",
          "text": [
            "\n"
          ]
        },
        {
          "output_type": "stream",
          "name": "stdout",
          "text": [
            "\n",
            "      Epoch    GPU_mem   box_loss  pose_loss  kobj_loss   cls_loss   dfl_loss  Instances       Size\n"
          ]
        },
        {
          "output_type": "stream",
          "name": "stderr",
          "text": [
            "    196/200      2.15G     0.1711      1.978     0.3379     0.1969      1.009          2        640: 100%|██████████| 53/53 [00:20<00:00,  2.62it/s]\n",
            "                 Class     Images  Instances      Box(P          R      mAP50  mAP50-95)     Pose(P          R      mAP50  mAP50-95): 100%|██████████| 8/8 [00:02<00:00,  2.82it/s]"
          ]
        },
        {
          "output_type": "stream",
          "name": "stdout",
          "text": [
            "                   all         60         60      0.999          1      0.995       0.99      0.852      0.866      0.818      0.532\n"
          ]
        },
        {
          "output_type": "stream",
          "name": "stderr",
          "text": [
            "\n"
          ]
        },
        {
          "output_type": "stream",
          "name": "stdout",
          "text": [
            "\n",
            "      Epoch    GPU_mem   box_loss  pose_loss  kobj_loss   cls_loss   dfl_loss  Instances       Size\n"
          ]
        },
        {
          "output_type": "stream",
          "name": "stderr",
          "text": [
            "    197/200      2.24G      0.145          2     0.3277     0.1884     0.9873          2        640: 100%|██████████| 53/53 [00:23<00:00,  2.23it/s]\n",
            "                 Class     Images  Instances      Box(P          R      mAP50  mAP50-95)     Pose(P          R      mAP50  mAP50-95): 100%|██████████| 8/8 [00:02<00:00,  3.65it/s]"
          ]
        },
        {
          "output_type": "stream",
          "name": "stdout",
          "text": [
            "                   all         60         60      0.999          1      0.995      0.991      0.885      0.899      0.861      0.556\n"
          ]
        },
        {
          "output_type": "stream",
          "name": "stderr",
          "text": [
            "\n"
          ]
        },
        {
          "output_type": "stream",
          "name": "stdout",
          "text": [
            "\n",
            "      Epoch    GPU_mem   box_loss  pose_loss  kobj_loss   cls_loss   dfl_loss  Instances       Size\n"
          ]
        },
        {
          "output_type": "stream",
          "name": "stderr",
          "text": [
            "    198/200      2.24G     0.1454      1.875     0.3402     0.1835     0.9937          2        640: 100%|██████████| 53/53 [00:15<00:00,  3.40it/s]\n",
            "                 Class     Images  Instances      Box(P          R      mAP50  mAP50-95)     Pose(P          R      mAP50  mAP50-95): 100%|██████████| 8/8 [00:00<00:00,  8.06it/s]"
          ]
        },
        {
          "output_type": "stream",
          "name": "stdout",
          "text": [
            "                   all         60         60      0.999          1      0.995       0.99      0.885      0.899      0.864      0.553\n"
          ]
        },
        {
          "output_type": "stream",
          "name": "stderr",
          "text": [
            "\n"
          ]
        },
        {
          "output_type": "stream",
          "name": "stdout",
          "text": [
            "\n",
            "      Epoch    GPU_mem   box_loss  pose_loss  kobj_loss   cls_loss   dfl_loss  Instances       Size\n"
          ]
        },
        {
          "output_type": "stream",
          "name": "stderr",
          "text": [
            "    199/200      2.25G     0.1445      1.814     0.3222     0.1918     0.9649          2        640: 100%|██████████| 53/53 [00:22<00:00,  2.39it/s]\n",
            "                 Class     Images  Instances      Box(P          R      mAP50  mAP50-95)     Pose(P          R      mAP50  mAP50-95): 100%|██████████| 8/8 [00:02<00:00,  3.60it/s]"
          ]
        },
        {
          "output_type": "stream",
          "name": "stdout",
          "text": [
            "                   all         60         60      0.999          1      0.995      0.991      0.869      0.882       0.86      0.564\n"
          ]
        },
        {
          "output_type": "stream",
          "name": "stderr",
          "text": [
            "\n"
          ]
        },
        {
          "output_type": "stream",
          "name": "stdout",
          "text": [
            "\n",
            "      Epoch    GPU_mem   box_loss  pose_loss  kobj_loss   cls_loss   dfl_loss  Instances       Size\n"
          ]
        },
        {
          "output_type": "stream",
          "name": "stderr",
          "text": [
            "    200/200      2.24G     0.1385      1.744     0.3317     0.1718     0.9802          2        640: 100%|██████████| 53/53 [00:23<00:00,  2.22it/s]\n",
            "                 Class     Images  Instances      Box(P          R      mAP50  mAP50-95)     Pose(P          R      mAP50  mAP50-95): 100%|██████████| 8/8 [00:02<00:00,  3.63it/s]"
          ]
        },
        {
          "output_type": "stream",
          "name": "stdout",
          "text": [
            "                   all         60         60      0.999          1      0.995      0.991      0.869      0.882      0.854      0.561\n"
          ]
        },
        {
          "output_type": "stream",
          "name": "stderr",
          "text": [
            "\n"
          ]
        },
        {
          "output_type": "stream",
          "name": "stdout",
          "text": [
            "\n",
            "200 epochs completed in 1.484 hours.\n",
            "Optimizer stripped from /content/data3/results/200-epochs-/weights/last.pt, 53.2MB\n",
            "Optimizer stripped from /content/data3/results/200-epochs-/weights/best.pt, 53.2MB\n",
            "\n",
            "Validating /content/data3/results/200-epochs-/weights/best.pt...\n",
            "Ultralytics YOLOv8.2.82 🚀 Python-3.10.12 torch-2.4.0+cu121 CUDA:0 (Tesla T4, 15102MiB)\n",
            "YOLOv8m-pose summary (fused): 237 layers, 26,403,145 parameters, 0 gradients, 80.8 GFLOPs\n"
          ]
        },
        {
          "output_type": "stream",
          "name": "stderr",
          "text": [
            "                 Class     Images  Instances      Box(P          R      mAP50  mAP50-95)     Pose(P          R      mAP50  mAP50-95): 100%|██████████| 8/8 [00:05<00:00,  1.59it/s]\n"
          ]
        },
        {
          "output_type": "stream",
          "name": "stdout",
          "text": [
            "                   all         60         60      0.998          1      0.995      0.989      0.852      0.867      0.867      0.565\n",
            "Speed: 0.4ms preprocess, 13.7ms inference, 0.0ms loss, 2.1ms postprocess per image\n",
            "Results saved to \u001b[1m/content/data3/results/200-epochs-\u001b[0m\n"
          ]
        }
      ],
      "source": [
        "model = YOLO('yolov8m-pose.yaml')  # build a new model from YAML\n",
        "project = '/content/data3/results'\n",
        "name = '200-epochs-'\n",
        "\n",
        "results = model.train(data='/content/data3/data.yaml', epochs=200, project=project, name=name, patience=40, batch=4, imgsz=640)"
      ]
    },
    {
      "cell_type": "code",
      "execution_count": 3,
      "metadata": {
        "colab": {
          "base_uri": "https://localhost:8080/"
        },
        "id": "Ub4_q5lVINJf",
        "outputId": "a0dbb98a-195f-48b7-9d25-4eba8483bd33"
      },
      "outputs": [
        {
          "output_type": "stream",
          "name": "stdout",
          "text": [
            "Mounted at /content/gdrive\n"
          ]
        }
      ],
      "source": [
        "from google.colab import drive\n",
        "drive.mount('/content/gdrive')"
      ]
    },
    {
      "cell_type": "code",
      "execution_count": 8,
      "metadata": {
        "id": "wGoXW-hMUPAa",
        "collapsed": true,
        "outputId": "213f135b-3422-4a57-dd6a-d346a71f3454",
        "colab": {
          "base_uri": "https://localhost:8080/"
        }
      },
      "outputs": [
        {
          "output_type": "execute_result",
          "data": {
            "text/plain": [
              "['/content/test/images/group0002_jpeg_cat-0_png.rf.691f3f3b3c57aa2fca7d370494eb83c2.jpg',\n",
              " '/content/test/images/group0002_jpeg_cat-5_png.rf.d0b5e81ce12ca477ef49c5b8db7dabe2.jpg',\n",
              " '/content/test/images/group0002_jpeg_cat-7_png.rf.e7f0105781ec303356b3a96706936ddf.jpg',\n",
              " '/content/test/images/group0053_jpeg_cat-3_png.rf.032ee371927293ebe5a3c30298d77912.jpg',\n",
              " '/content/test/images/group0058_jpeg_cat-1_png.rf.7f289fa99dec3036b7aef78f1638a068.jpg',\n",
              " '/content/test/images/group0099_jpeg_cat-0_png.rf.e80c1e0b592e511dc90fe031ae570a13.jpg',\n",
              " '/content/test/images/group0103_jpeg_cat-0_png.rf.17bcfe83ff52514f121e31665e7393f9.jpg',\n",
              " '/content/test/images/group0107_png_cat-3_png.rf.c1e365cd6b66642b1cc297b47b151323.jpg',\n",
              " '/content/test/images/group0127_jpeg_cat-2_png.rf.c6fa737adbe0ed270e0998d2e8106515.jpg',\n",
              " '/content/test/images/group0142_jpeg_cat-3_png.rf.610c05e92da11d492caf1e4e72f2f974.jpg',\n",
              " '/content/test/images/group0146_cat-1_png.rf.8cfb4f10b372efecd4c706c618f040b8.jpg',\n",
              " '/content/test/images/group0202_jpeg_cat-0_png.rf.8c5ce62ca7f71aa8545d182c278b8c0f.jpg',\n",
              " '/content/test/images/group0208_jpeg_cat-1_png.rf.5f83c3bff4f6cb2bd5cc16c2091de7f9.jpg',\n",
              " '/content/test/images/group0255_cat-0_png.rf.f9a4e915b7a84b14a3860a4ad11bb366.jpg',\n",
              " '/content/test/images/group0266_jpeg_cat-0_png.rf.d9b7aaf9ebf3562577e874b07fbe3269.jpg',\n",
              " '/content/test/images/group0278_cat-1_png.rf.c8c94e9507e1900392ec33face08ef76.jpg',\n",
              " '/content/test/images/group0287_jpeg_cat-2_png.rf.9e0df12b9456585edc8ebbfd9fb9d8d7.jpg',\n",
              " '/content/test/images/group0294_jpeg_cat-1_png.rf.f876cd49f6a5077c16a98a76a73d2a94.jpg',\n",
              " '/content/test/images/group0317_jpeg_cat-0_png.rf.af7fbe4307d11a367c04f501257d58bf.jpg',\n",
              " '/content/test/images/group0319_png_cat-0_png.rf.e1bdfdef13e157faec31f4e0eadd9a44.jpg',\n",
              " '/content/test/images/group0362_cat-2_png.rf.dfde30d2efe883ed2927fe36aafae587.jpg',\n",
              " '/content/test/images/group0364_png_cat-2_png.rf.88d061d75adbc58994f3b949e79b0b49.jpg',\n",
              " '/content/test/images/group0413_jpeg_cat-0_png.rf.1ff6c48415271478acd22502d8e463ad.jpg',\n",
              " '/content/test/images/group0436_cat-3_png.rf.4d8853846a339f5176d6000b30eb38e7.jpg',\n",
              " '/content/test/images/group0768_jpeg_cat-1_png.rf.86f2fddfbe404cdac311f25bd82bc6d8.jpg',\n",
              " '/content/test/images/group0801_jpeg_cat-0_png.rf.6752fa0b7c2a7abc2234bf9d4ff7ca0f.jpg',\n",
              " '/content/test/images/group0811_cat-12_png.rf.d744e9c89032e217c3c24fe1bcbf3534.jpg',\n",
              " '/content/test/images/group0815_jpeg_cat-1_png.rf.ebea05f2bd0ca9e98b063f0cdcde6a2f.jpg',\n",
              " '/content/test/images/group1076_cat-0_png.rf.dc5a2170072b03217d04dab9979c381d.jpg',\n",
              " '/content/test/images/group1091_jpeg_cat-1_png.rf.b89eff13af3adc56c85c7acd99562243.jpg']"
            ]
          },
          "metadata": {},
          "execution_count": 8
        }
      ],
      "source": [
        "import glob\n",
        "image_paths = []\n",
        "# get all image paths in validation dataset\n",
        "for path in glob.glob('/content/test/images/*.jpg'):\n",
        "    image_paths.append(path)\n",
        "# sort image_path\n",
        "image_paths.sort()\n",
        "image_paths"
      ]
    },
    {
      "cell_type": "markdown",
      "source": [],
      "metadata": {
        "id": "0l1B42H6M74a"
      }
    },
    {
      "cell_type": "code",
      "execution_count": 4,
      "metadata": {
        "id": "RDAgeD_YUdR8"
      },
      "outputs": [],
      "source": [
        "trained_model = YOLO('/content/gdrive/MyDrive/Cat images/models/feral-cat-pose-detection-7-faces.v2i.yolov8/best.pt')"
      ]
    },
    {
      "cell_type": "code",
      "execution_count": 10,
      "metadata": {
        "id": "AdMmZW0LVAYi"
      },
      "outputs": [],
      "source": [
        "i = -1\n",
        "CONFIDENCE_THRESHOLD = 0.3"
      ]
    },
    {
      "cell_type": "code",
      "execution_count": 11,
      "metadata": {
        "colab": {
          "base_uri": "https://localhost:8080/",
          "height": 862
        },
        "id": "MtiUJbmNVFSl",
        "outputId": "0ce69809-8cf9-4c8a-8cf7-680d49d1b291"
      },
      "outputs": [
        {
          "output_type": "stream",
          "name": "stdout",
          "text": [
            "Index 0, file ID group0002_jpeg_cat-0_png\n",
            "\n",
            "0: 640x640 1 cat, 38.5ms\n",
            "Speed: 2.2ms preprocess, 38.5ms inference, 7.2ms postprocess per image at shape (1, 3, 640, 640)\n"
          ]
        },
        {
          "output_type": "display_data",
          "data": {
            "text/plain": [
              "<Figure size 640x480 with 1 Axes>"
            ],
            "image/png": "[encoded data removed]"
          },
          "metadata": {}
        },
        {
          "output_type": "display_data",
          "data": {
            "text/plain": [
              "<Figure size 400x400 with 1 Axes>"
            ],
            "image/png": "[encoded data removed]"
          },
          "metadata": {}
        }
      ],
      "source": [
        "i += 1\n",
        "new_image = Image.open(image_paths[i])\n",
        "fileID = image_paths[i].split('/')[-1].split('.')[0]\n",
        "print('Index {}, file ID {}'.format(i, fileID))\n",
        "plt.imshow(plt.imread(image_paths[i]))\n",
        "new_results = trained_model.predict(new_image, conf=CONFIDENCE_THRESHOLD, iou=0.5)\n",
        "new_result_array = new_results[0].plot()\n",
        "plt.figure(figsize=(4,4))\n",
        "plt.imshow(new_result_array);"
      ]
    },
    {
      "cell_type": "code",
      "execution_count": 11,
      "metadata": {
        "id": "90lhOyXoeQaJ"
      },
      "outputs": [],
      "source": [
        "import cv2\n",
        "import numpy as np\n",
        "from google.colab.patches import cv2_imshow\n",
        "def pil_to_cv2(image):\n",
        "  \"\"\"\n",
        "  Converts a PIL image to a OpenCV image.\n",
        "\n",
        "  Args:\n",
        "      image: A PIL image object.\n",
        "\n",
        "  Returns:\n",
        "      A OpenCV image object.\n",
        "  \"\"\"\n",
        "  # Convert the PIL image to a NumPy array\n",
        "  new_array = np.array(image)\n",
        "\n",
        "  # Convert the color space from RGB (PIL) to BGR (OpenCV)\n",
        "  if new_array.shape[-1] == 3:  # Check if it has 3 channels\n",
        "    new_array = cv2.cvtColor(new_array, cv2.COLOR_RGB2BGR)\n",
        "\n",
        "  # Return the OpenCV image\n",
        "  return new_array\n"
      ]
    },
    {
      "cell_type": "code",
      "execution_count": 32,
      "metadata": {
        "id": "zUFaWCMrxWiL"
      },
      "outputs": [],
      "source": [
        "# See https://www.w3schools.com/colors/colors_picker.asp for colors\n",
        "# All colors are expressed as RGB triples\n",
        "\n",
        "color_black = (0,0,0)\n",
        "color_dark_blue = (0, 64, 255)\n",
        "color_red = (255,0,0)\n",
        "color_light_green = (128,255,0)\n",
        "color_purple = (191,0,255)\n",
        "color_bluegreen = (0,255,255)\n",
        "color_tan = (255,128,0)\n",
        "color_white = (255,255,255)\n",
        "\n",
        "# Turn RGB triple into BGR triple for use in OpenCV\n",
        "def bgr(rgb_triple):\n",
        "  return rgb_triple[::-1]\n",
        "\n",
        "# Each dict defines features of a keypoint.\n",
        "#   \"rgb\":    The RGB tuple for the color to display\n",
        "#   \"bgr\":    The BGR tuple for the color to display\n",
        "#   \"name\":   The name of this keypoint\n",
        "#   \"abbrev\": The abbreviation for this keypoint\n",
        "#   \"coords\": The (x,y) coordinates of the keypoint.  (0,0) means this one\n",
        "#               was not found.\n",
        "#   \"next_keypoints\":\n",
        "#             A tuple of the successor keypoints from this one.  If there are\n",
        "#               no successors, this is empty.  The keypoint(s) are referred to\n",
        "#               by their \"name\" value(s).  There is no significance to the\n",
        "#               ordering of the keypoints in this tuple.\n",
        "\n",
        "\n",
        "# The KEYPOINTS tuple ordering is simply a guess based on the order of the\n",
        "# points as drawn in the Roboflow class skeleton diagram.  It may be completely\n",
        "# wrong.  But seeing the keypoints drawn on some of the cats suggests that if\n",
        "# it's wrong, it's not far off from being right.  The ordering of keypoints\n",
        "# in the Roboflow \"edit visibility\" panel does not give a reasonable ordering\n",
        "# when displayed on a cat image.\n",
        "KEYPOINTS = [\n",
        "    {\n",
        "        \"name\": \"right_earbase\",\n",
        "        \"abbrev\": \"rb\",\n",
        "        \"rgb\": color_black,\n",
        "        \"bgr\": bgr(color_black),\n",
        "        \"next_keypoints\": [\"right_eye\", \"left_earbase\"]\n",
        "    },\n",
        "    {\n",
        "        \"name\": \"left_earbase\",\n",
        "        \"abbrev\": \"lb\",\n",
        "        \"rgb\": color_black,\n",
        "        \"bgr\": bgr(color_black),\n",
        "        \"next_keypoints\": [\"left_eye\"]\n",
        "    },\n",
        "    {\n",
        "        \"name\": \"right_eye\",\n",
        "        \"abbrev\": \"ry\",\n",
        "        \"rgb\": color_dark_blue,\n",
        "        \"bgr\": bgr(color_dark_blue),\n",
        "        \"next_keypoints\": [\"nose\"]\n",
        "    },\n",
        "    {\n",
        "        \"name\": \"left_eye\",\n",
        "        \"abbrev\": \"ly\",\n",
        "        \"rgb\": color_dark_blue,\n",
        "        \"bgr\": bgr(color_dark_blue),\n",
        "        \"next_keypoints\": [\"nose\"]\n",
        "    },\n",
        "    {\n",
        "        \"name\": \"nose\",\n",
        "        \"abbrev\": \"n\",\n",
        "        \"rgb\": color_red,\n",
        "        \"bgr\": bgr(color_red),\n",
        "        \"next_keypoints\": [\"mouth\"]\n",
        "    },\n",
        "    {\n",
        "        \"name\": \"mouth\",\n",
        "        \"abbrev\": \"m\",\n",
        "        \"rgb\": color_light_green,\n",
        "        \"bgr\": bgr(color_light_green),\n",
        "        \"next_keypoints\": []\n",
        "    }\n",
        "]\n",
        "\n",
        "# Return a keypoint for a given index in the KEYPOINTS list\n",
        "def find_keypoint(index):\n",
        "  return KEYPOINTS[index]\n",
        "\n",
        "# Return a keypoint with a given name\n",
        "def find_keypoint_by_name(name):\n",
        "  for keypoint in KEYPOINTS:\n",
        "    if keypoint[\"name\"] == name:\n",
        "      return keypoint\n",
        "  return None\n",
        "\n",
        "# Return the list of named next keypoints for a keypoint\n",
        "# at a given index in the KEYPOINTS list\n",
        "def get_next_keypoints(index):\n",
        "  return list(KEYPOINTS[index][\"next_keypoints\"])\n",
        "\n",
        "# Get a keypoint;s abbreviation\n",
        "def get_keypoint_abbrev(index):\n",
        "  return KEYPOINTS[index][\"abbrev\"]\n",
        "\n",
        "# Get a keypoint's RGB colors\n",
        "def get_keypoint_rgb(index):\n",
        "  return KEYPOINTS[index][\"rgb\"]\n",
        "\n",
        "# Get a keypoint's BGR colors, given the keypoint index\n",
        "def get_keypoint_bgr(index):\n",
        "  return KEYPOINTS[index][\"bgr\"]\n",
        "\n",
        "# Get a keypoint's BGR colors from the keypoint dict itself\n",
        "def get_keypoint_bgr_from_keypoint(keypoint):\n",
        "  return keypoint[\"bgr\"]\n",
        "\n",
        "# Get the keypoint name, given its index\n",
        "def get_keypoint_name(index):\n",
        "  return KEYPOINTS[index][\"name\"]\n",
        "\n",
        "# Get the keypoint (x,y) coordinates, given its index\n",
        "def get_keypoint_coords(index):\n",
        "  return KEYPOINTS[index][\"coords\"]\n",
        "\n",
        "# Get the keypoint (x,y) coordinates, given the keypoint dict itself\n",
        "def get_keypoint_coords_from_keypoint(keypoint):\n",
        "  return keypoint[\"coords\"]\n",
        "\n",
        "# Set the (x,y) coordinates of the keypoint at a given index\n",
        "def set_keypoint_coords(index, coords):\n",
        "  KEYPOINTS[index][\"coords\"] = coords\n",
        "\n",
        "# Draw the keypoint at an index onto an image\n",
        "def draw_keypoint_abbrev(index, image):\n",
        "  x, y = get_keypoint_coords(index)\n",
        "  if x > 0 and y > 0:\n",
        "    cv2.putText(image, get_keypoint_abbrev(index), (x,y), cv2.FONT_HERSHEY_SIMPLEX, 1, get_keypoint_bgr(index), 2, cv2.LINE_AA)\n",
        "\n",
        "# Draw a filled dot at a keypoint\n",
        "def draw_keypoint_dot(index, image):\n",
        "  x,y = get_keypoint_coords(index)\n",
        "  if x > 0 and y > 0:\n",
        "    image = cv2.circle(image, (x,y), radius=0, color=get_keypoint_bgr(index), thickness=-1)\n",
        "\n",
        "# Draw the connections of the keypoint at a given index onto an image\n",
        "def draw_keypoint_connections(index, image):\n",
        "  x, y = get_keypoint_coords(index)\n",
        "  if x > 0 and y > 0:\n",
        "    for next_keypoint_name in get_next_keypoints(index):\n",
        "      next_keypoint = find_keypoint_by_name(next_keypoint_name)\n",
        "      next_x, next_y = get_keypoint_coords_from_keypoint(next_keypoint)\n",
        "      color_of_next_keypoint = get_keypoint_bgr_from_keypoint(next_keypoint)\n",
        "      if next_x > 0 and next_y > 0:\n",
        "        cv2.line(image, (x,y), (next_x, next_y), color_of_next_keypoint, 2)"
      ]
    },
    {
      "cell_type": "code",
      "source": [
        "!unzip Torre_Argentina_cats_segmented.zip"
      ],
      "metadata": {
        "collapsed": true,
        "id": "nD_7COJQQOdK",
        "outputId": "79a1da90-ea2b-466e-92a2-bb54f6494d0a",
        "colab": {
          "base_uri": "https://localhost:8080/"
        }
      },
      "execution_count": 27,
      "outputs": [
        {
          "output_type": "stream",
          "name": "stdout",
          "text": [
            "Archive:  Torre_Argentina_cats_segmented.zip\n",
            "   creating: Torre_Argentina_cats_segmented/\n",
            "  inflating: Torre_Argentina_cats_segmented/IMG_1051_cat-4.png  \n",
            "  inflating: Torre_Argentina_cats_segmented/IMG_1050_cat-1.png  \n",
            "  inflating: Torre_Argentina_cats_segmented/IMG_1047_cat-0.png  \n",
            "  inflating: Torre_Argentina_cats_segmented/IMG_1054_cat-0.png  \n",
            "  inflating: Torre_Argentina_cats_segmented/IMG_1051_cat-3.png  \n",
            "  inflating: Torre_Argentina_cats_segmented/IMG_1051_cat-1.png  \n",
            "  inflating: Torre_Argentina_cats_segmented/IMG_1052_cat-1.png  \n",
            "  inflating: Torre_Argentina_cats_segmented/IMG_1051_cat-2.png  \n",
            "  inflating: Torre_Argentina_cats_segmented/IMG_1048_cat-0.png  \n",
            "  inflating: Torre_Argentina_cats_segmented/IMG_1052_cat-2.png  \n",
            "  inflating: Torre_Argentina_cats_segmented/IMG_1057_cat-0.png  \n",
            "  inflating: Torre_Argentina_cats_segmented/IMG_1051_cat-0.png  \n",
            "  inflating: Torre_Argentina_cats_segmented/IMG_1046_cat-2.png  \n",
            "  inflating: Torre_Argentina_cats_segmented/IMG_1049_cat-0.png  \n",
            "  inflating: Torre_Argentina_cats_segmented/IMG_1046_cat-0.png  \n",
            "  inflating: Torre_Argentina_cats_segmented/IMG_1050_cat-0.png  \n",
            "  inflating: Torre_Argentina_cats_segmented/IMG_1046_cat-1.png  \n",
            "  inflating: Torre_Argentina_cats_segmented/IMG_1052_cat-0.png  \n"
          ]
        }
      ]
    },
    {
      "cell_type": "code",
      "source": [
        "import glob\n",
        "image_paths = []\n",
        "# get all image paths in validation dataset\n",
        "for path in glob.glob('/content/Azores_cats_segmented/*.png'):\n",
        "    image_paths.append(path)\n",
        "# sort image_path\n",
        "image_paths.sort()\n",
        "image_paths"
      ],
      "metadata": {
        "collapsed": true,
        "id": "ekdygBjhQYm4",
        "outputId": "0d8e93df-7275-4935-b97d-37dd4eb2bf42",
        "colab": {
          "base_uri": "https://localhost:8080/"
        }
      },
      "execution_count": 7,
      "outputs": [
        {
          "output_type": "execute_result",
          "data": {
            "text/plain": [
              "['/content/Azores_cats_segmented/IMG_1899_cat-0.png',\n",
              " '/content/Azores_cats_segmented/IMG_1900_cat-0.png',\n",
              " '/content/Azores_cats_segmented/IMG_1901_cat-0.png',\n",
              " '/content/Azores_cats_segmented/IMG_1901_cat-1.png',\n",
              " '/content/Azores_cats_segmented/IMG_1905_cat-0.png',\n",
              " '/content/Azores_cats_segmented/IMG_1907_cat-0.png',\n",
              " '/content/Azores_cats_segmented/IMG_1908_cat-0.png',\n",
              " '/content/Azores_cats_segmented/IMG_1908_cat-1.png',\n",
              " '/content/Azores_cats_segmented/IMG_1911_cat-0.png',\n",
              " '/content/Azores_cats_segmented/IMG_1911_cat-1.png']"
            ]
          },
          "metadata": {},
          "execution_count": 7
        }
      ]
    },
    {
      "cell_type": "code",
      "source": [
        "i = -1"
      ],
      "metadata": {
        "id": "Y2OHMpO0QuXp"
      },
      "execution_count": 44,
      "outputs": []
    },
    {
      "cell_type": "code",
      "execution_count": 45,
      "metadata": {
        "colab": {
          "base_uri": "https://localhost:8080/",
          "height": 1000
        },
        "id": "86WZXxpNVqXB",
        "outputId": "92afdcba-cb4c-4ad5-f757-1325c02961a1"
      },
      "outputs": [
        {
          "output_type": "stream",
          "name": "stdout",
          "text": [
            "0 /content/Azores_cats_segmented/IMG_1899_cat-0.png\n",
            "\n",
            "0: 640x640 1 cat, 38.6ms\n",
            "Speed: 3.8ms preprocess, 38.6ms inference, 1.9ms postprocess per image at shape (1, 3, 640, 640)\n",
            "Results saved to \u001b[1mruns/pose/predict\u001b[0m\n",
            "Keypoint:  ultralytics.engine.results.Keypoints object with attributes:\n",
            "\n",
            "conf: array([[    0.74273,     0.79833,      0.8318,     0.82798,     0.78282,       0.682]], dtype=float32)\n",
            "data: array([[[     38.463,      18.577,     0.74273],\n",
            "        [     38.625,       19.36,     0.79833],\n",
            "        [     39.156,      27.692,      0.8318],\n",
            "        [     39.926,      27.921,     0.82798],\n",
            "        [      40.59,      34.124,     0.78282],\n",
            "        [     40.539,      36.265,       0.682]]], dtype=float32)\n",
            "has_visible: True\n",
            "orig_shape: (56, 58)\n",
            "shape: (1, 6, 3)\n",
            "xy: array([[[     38.463,      18.577],\n",
            "        [     38.625,       19.36],\n",
            "        [     39.156,      27.692],\n",
            "        [     39.926,      27.921],\n",
            "        [      40.59,      34.124],\n",
            "        [     40.539,      36.265]]], dtype=float32)\n",
            "xyn: array([[[    0.66316,     0.33172],\n",
            "        [    0.66595,     0.34571],\n",
            "        [    0.67511,     0.49449],\n",
            "        [    0.68837,     0.49859],\n",
            "        [    0.69983,     0.60935],\n",
            "        [    0.69895,     0.64759]]], dtype=float32)\n",
            "Index 0 has coordinates (38,18)\n",
            "Index 1 has coordinates (38,19)\n",
            "Index 2 has coordinates (39,27)\n",
            "Index 3 has coordinates (39,27)\n",
            "Index 4 has coordinates (40,34)\n",
            "Index 5 has coordinates (40,36)\n"
          ]
        },
        {
          "output_type": "display_data",
          "data": {
            "text/plain": [
              "<Figure size 600x600 with 1 Axes>"
            ],
            "image/png": "[encoded data removed]"
          },
          "metadata": {}
        }
      ],
      "source": [
        "CONFIDENCE_THRESHOLD = 0.3\n",
        "i += 1\n",
        "# Load the image\n",
        "print(i, image_paths[i])\n",
        "image = cv2.imread(image_paths[i])\n",
        "\n",
        "# Predict the keypoints for each class (there's only one class: cat)\n",
        "results = trained_model.predict(image, conf=CONFIDENCE_THRESHOLD, iou=0.5, save=True)\n",
        "\n",
        "# Loop through each detected object\n",
        "for result in results:\n",
        "  original_image = result.orig_img # numpy array\n",
        "  # Check if keypoints are available\n",
        "  if hasattr(result, \"keypoints\"):\n",
        "    keypoint_set_for_cat_class = result.keypoints[0].cpu().numpy()  # Assuming only one class\n",
        "                                                                    # is detected (cat)\n",
        "\n",
        "    # Draw keypoint's abbreviation on each keypoint location\n",
        "    for kp in keypoint_set_for_cat_class:\n",
        "      print('Keypoint: ', kp)\n",
        "      for index, coords in enumerate(kp.xy[0]):\n",
        "        x, y = int(coords[0]), int(coords[1])  # Extract x and y coordinates\n",
        "        set_keypoint_coords(index, (x,y))\n",
        "        print(f'Index {index} has coordinates ({x},{y})')\n",
        "        if x > 0 and y > 0:\n",
        "          #draw_keypoint_abbrev(index, image)\n",
        "          draw_keypoint_dot(index, image)\n",
        "\n",
        "    # Draw lines between keypoints\n",
        "    for kp in keypoint_set_for_cat_class:\n",
        "     for index, _ in enumerate(kp.xy[0]):\n",
        "       draw_keypoint_connections(index, image)\n",
        "\n",
        "# Display the original image with keypoints\n",
        "rgb_image = cv2.cvtColor(image, cv2.COLOR_BGR2RGB) # Convert the color space from BGR (OpenCV) to RGB (matplotlib)\n",
        "plt.figure(figsize=(6,6))\n",
        "plt.imshow(rgb_image)\n",
        "plt.show()"
      ]
    },
    {
      "cell_type": "code",
      "source": [
        "# Display the saved image\n",
        "\n",
        "image = cv2.imread('runs/pose/predict/image0.jpg')\n",
        "plt.imshow(image)  # adjust the path based on your saved output"
      ],
      "metadata": {
        "id": "6NY3ACoSF8V-",
        "outputId": "20b1e59c-4b87-42a5-f2df-8c21ed5fdf7f",
        "colab": {
          "base_uri": "https://localhost:8080/",
          "height": 450
        }
      },
      "execution_count": 50,
      "outputs": [
        {
          "output_type": "execute_result",
          "data": {
            "text/plain": [
              "<matplotlib.image.AxesImage at 0x7b357e3c3ca0>"
            ]
          },
          "metadata": {},
          "execution_count": 50
        },
        {
          "output_type": "display_data",
          "data": {
            "text/plain": [
              "<Figure size 640x480 with 1 Axes>"
            ],
            "image/png": "[encoded data removed]"
          },
          "metadata": {}
        }
      ]
    }
  ],
  "metadata": {
    "accelerator": "GPU",
    "colab": {
      "gpuType": "T4",
      "provenance": [],
      "include_colab_link": true
    },
    "kernelspec": {
      "display_name": "Python 3",
      "name": "python3"
    },
    "language_info": {
      "name": "python"
    }
  },
  "nbformat": 4,
  "nbformat_minor": 0
}